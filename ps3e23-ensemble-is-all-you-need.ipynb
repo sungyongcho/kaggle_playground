{
 "cells": [
  {
   "cell_type": "markdown",
   "id": "edc9f1a0",
   "metadata": {
    "papermill": {
     "duration": 0.005077,
     "end_time": "2023-10-19T01:36:01.248373",
     "exception": false,
     "start_time": "2023-10-19T01:36:01.243296",
     "status": "completed"
    },
    "tags": []
   },
   "source": [
    "# Find Best Ensemble!\n",
    "\n",
    "To achieve a higher score, consider combining multiple models to enhance the AUC score.\n",
    "\n",
    "Enjoy the process of training your model, and aim for the highest score!\n",
    "\n"
   ]
  },
  {
   "cell_type": "code",
   "execution_count": 16,
   "id": "7281027d",
   "metadata": {
    "execution": {
     "iopub.execute_input": "2023-10-19T01:36:01.260289Z",
     "iopub.status.busy": "2023-10-19T01:36:01.259943Z",
     "iopub.status.idle": "2023-10-19T01:36:09.452192Z",
     "shell.execute_reply": "2023-10-19T01:36:09.451018Z"
    },
    "papermill": {
     "duration": 8.200133,
     "end_time": "2023-10-19T01:36:09.454855",
     "exception": false,
     "start_time": "2023-10-19T01:36:01.254722",
     "status": "completed"
    },
    "tags": [],
    "ExecuteTime": {
     "end_time": "2023-10-23T08:10:48.837355Z",
     "start_time": "2023-10-23T08:10:48.826822Z"
    }
   },
   "outputs": [],
   "source": [
    "import pandas as pd\n",
    "import numpy as np\n",
    "import matplotlib.pyplot as plt\n",
    "import seaborn as sns\n",
    "import catboost\n",
    "import lightgbm\n",
    "import warnings\n",
    "from tqdm import tqdm\n",
    "\n",
    "from sklearn.model_selection import train_test_split\n",
    "from sklearn.model_selection import StratifiedKFold\n",
    "from sklearn.metrics import mean_squared_error\n",
    "from sklearn.metrics import roc_auc_score\n",
    "from sklearn.preprocessing import LabelEncoder\n",
    "from catboost import CatBoostRegressor, CatBoostClassifier\n",
    "from sklearn.linear_model import LinearRegression, RidgeClassifier\n",
    "from sklearn.svm import SVC\n",
    "\n",
    "from lightgbm import LGBMClassifier\n",
    "import copy\n",
    "import pandas as pd\n",
    "import seaborn as sns\n",
    "import matplotlib.pyplot as plt\n",
    "from torch.utils.data import Dataset, DataLoader\n",
    "\n",
    "import torch\n",
    "import torch.nn as nn\n",
    "import torch.nn.functional as F\n",
    "\n",
    "warnings.filterwarnings('ignore')\n"
   ]
  },
  {
   "cell_type": "code",
   "execution_count": 17,
   "id": "cd457937",
   "metadata": {
    "execution": {
     "iopub.execute_input": "2023-10-19T01:36:09.465259Z",
     "iopub.status.busy": "2023-10-19T01:36:09.464598Z",
     "iopub.status.idle": "2023-10-19T01:36:10.161411Z",
     "shell.execute_reply": "2023-10-19T01:36:10.160328Z"
    },
    "papermill": {
     "duration": 0.704973,
     "end_time": "2023-10-19T01:36:10.164163",
     "exception": false,
     "start_time": "2023-10-19T01:36:09.459190",
     "status": "completed"
    },
    "tags": [],
    "ExecuteTime": {
     "end_time": "2023-10-23T08:10:49.254932Z",
     "start_time": "2023-10-23T08:10:49.067305Z"
    }
   },
   "outputs": [],
   "source": [
    "# kaggle\n",
    "# df_train = pd.read_csv('/kaggle/input/playground-series-s3e23/train.csv', index_col='id')\n",
    "# df_test = pd.read_csv('/kaggle/input/playground-series-s3e23/test.csv', index_col='id')\n",
    "\n",
    "# local\n",
    "df_train = pd.read_csv(\"./playground-series-s3e23/train.csv\", index_col=\"id\")\n",
    "df_test = pd.read_csv(\"./playground-series-s3e23/test.csv\", index_col=\"id\")"
   ]
  },
  {
   "cell_type": "code",
   "execution_count": 18,
   "outputs": [],
   "source": [
    "df_test['l']  = 1.0 - df_test['l']\n",
    "df_train['l'] = 1.0 - df_train['l']"
   ],
   "metadata": {
    "collapsed": false,
    "ExecuteTime": {
     "end_time": "2023-10-23T08:10:49.262045Z",
     "start_time": "2023-10-23T08:10:49.255133Z"
    }
   },
   "id": "979f75ab1ecc22b"
  },
  {
   "cell_type": "code",
   "execution_count": 19,
   "id": "31efc662",
   "metadata": {
    "execution": {
     "iopub.execute_input": "2023-10-19T01:36:10.173876Z",
     "iopub.status.busy": "2023-10-19T01:36:10.173537Z",
     "iopub.status.idle": "2023-10-19T01:36:10.179883Z",
     "shell.execute_reply": "2023-10-19T01:36:10.178851Z"
    },
    "papermill": {
     "duration": 0.013681,
     "end_time": "2023-10-19T01:36:10.182012",
     "exception": false,
     "start_time": "2023-10-19T01:36:10.168331",
     "status": "completed"
    },
    "tags": [],
    "ExecuteTime": {
     "end_time": "2023-10-23T08:10:49.262164Z",
     "start_time": "2023-10-23T08:10:49.258382Z"
    }
   },
   "outputs": [],
   "source": [
    "df_train['defects'] = df_train.defects.astype(int)\n",
    "feat_list = list(set(df_train.columns) - set(['defects']))\n",
    "target = 'defects'"
   ]
  },
  {
   "cell_type": "markdown",
   "id": "f0084aaf",
   "metadata": {
    "papermill": {
     "duration": 0.004293,
     "end_time": "2023-10-19T01:36:10.190493",
     "exception": false,
     "start_time": "2023-10-19T01:36:10.186200",
     "status": "completed"
    },
    "tags": []
   },
   "source": [
    "## Using Quantile Transformer to solve it\n",
    "\n",
    "**What is a Quantile Transformer?**\n",
    "\n",
    "\n",
    "A Quantile Transformer is a method that transforms features to follow a uniform or a normal distribution. By doing so, it can smooth out unusual distributions and mitigate the effects of outliers. This transformation is particularly useful for handling features that follow a long-tail distribution."
   ]
  },
  {
   "cell_type": "code",
   "execution_count": 20,
   "id": "86dec6ed",
   "metadata": {
    "execution": {
     "iopub.execute_input": "2023-10-19T01:36:10.200922Z",
     "iopub.status.busy": "2023-10-19T01:36:10.199890Z",
     "iopub.status.idle": "2023-10-19T01:36:10.915653Z",
     "shell.execute_reply": "2023-10-19T01:36:10.914618Z"
    },
    "papermill": {
     "duration": 0.723931,
     "end_time": "2023-10-19T01:36:10.918583",
     "exception": false,
     "start_time": "2023-10-19T01:36:10.194652",
     "status": "completed"
    },
    "tags": [],
    "ExecuteTime": {
     "end_time": "2023-10-23T08:10:49.646431Z",
     "start_time": "2023-10-23T08:10:49.267130Z"
    }
   },
   "outputs": [],
   "source": [
    "# quantile transform\n",
    "import numpy as np\n",
    "from sklearn.preprocessing import QuantileTransformer\n",
    "\n",
    "\n",
    "qt = QuantileTransformer(n_quantiles=1000, output_distribution='uniform', random_state=0)\n",
    "qt.fit(df_train[feat_list])\n",
    "\n",
    "df_tmp_train = pd.DataFrame(qt.transform(df_train[feat_list]))\n",
    "df_tmp_train.columns = feat_list\n",
    "df_tmp_train[target] = df_train[target]\n",
    "df_train = df_tmp_train\n",
    "df_test = pd.DataFrame(qt.transform(df_test[feat_list]))\n",
    "df_test.columns = feat_list\n",
    "\n",
    "feat_list = list(set(df_train.columns.tolist()) - set([target]))"
   ]
  },
  {
   "cell_type": "code",
   "execution_count": 21,
   "id": "69704235",
   "metadata": {
    "execution": {
     "iopub.execute_input": "2023-10-19T01:36:10.929093Z",
     "iopub.status.busy": "2023-10-19T01:36:10.928487Z",
     "iopub.status.idle": "2023-10-19T01:36:10.933188Z",
     "shell.execute_reply": "2023-10-19T01:36:10.932424Z"
    },
    "papermill": {
     "duration": 0.012322,
     "end_time": "2023-10-19T01:36:10.935107",
     "exception": false,
     "start_time": "2023-10-19T01:36:10.922785",
     "status": "completed"
    },
    "tags": [],
    "ExecuteTime": {
     "end_time": "2023-10-23T08:10:49.652802Z",
     "start_time": "2023-10-23T08:10:49.647060Z"
    }
   },
   "outputs": [],
   "source": [
    "# device\n",
    "device = torch.device(0) if torch.cuda.is_available() else torch.device(\"cpu\")"
   ]
  },
  {
   "cell_type": "code",
   "execution_count": 22,
   "id": "3228f28b",
   "metadata": {
    "execution": {
     "iopub.execute_input": "2023-10-19T01:36:10.945146Z",
     "iopub.status.busy": "2023-10-19T01:36:10.944780Z",
     "iopub.status.idle": "2023-10-19T01:36:10.954683Z",
     "shell.execute_reply": "2023-10-19T01:36:10.953567Z"
    },
    "papermill": {
     "duration": 0.017508,
     "end_time": "2023-10-19T01:36:10.956863",
     "exception": false,
     "start_time": "2023-10-19T01:36:10.939355",
     "status": "completed"
    },
    "tags": [],
    "ExecuteTime": {
     "end_time": "2023-10-23T08:10:49.654327Z",
     "start_time": "2023-10-23T08:10:49.652919Z"
    }
   },
   "outputs": [],
   "source": [
    "def hill_climbing(x, y, x_test):\n",
    "\n",
    "    # Evaluating oof predictions\n",
    "    scores = {}\n",
    "    for col in x.columns:\n",
    "        scores[col] = roc_auc_score(y, x[col])\n",
    "\n",
    "    # Sorting the model scores\n",
    "    scores = {k: v for k, v in sorted(scores.items(), key = lambda item: item[1], reverse = True)}\n",
    "\n",
    "    # Sort oof_df and test_preds\n",
    "    x = x[list(scores.keys())]\n",
    "    x_test = x_test[list(scores.keys())]\n",
    "\n",
    "    STOP = False\n",
    "    current_best_ensemble = x.iloc[:,0]\n",
    "    current_best_test_preds = x_test.iloc[:,0]\n",
    "    MODELS = x.iloc[:,1:]\n",
    "    weight_range = np.arange(-0.5, 0.71, 0.01) \n",
    "    history = [roc_auc_score(y, current_best_ensemble)]\n",
    "    j = 0\n",
    "    while not STOP:\n",
    "        j += 1\n",
    "        potential_new_best_cv_score = roc_auc_score(y, current_best_ensemble)\n",
    "        k_best, wgt_best = None, None\n",
    "        for k in MODELS:\n",
    "            for wgt in weight_range:\n",
    "                potential_ensemble = (1 - wgt) * current_best_ensemble + wgt * MODELS[k]\n",
    "                cv_score = roc_auc_score(y, potential_ensemble)\n",
    "                if cv_score > potential_new_best_cv_score:\n",
    "                    potential_new_best_cv_score = cv_score\n",
    "                    k_best, wgt_best = k, wgt\n",
    "\n",
    "        if k_best is not None:\n",
    "            current_best_ensemble = (1 - wgt_best) * current_best_ensemble + wgt_best * MODELS[k_best]\n",
    "            current_best_test_preds = (1 - wgt_best) * current_best_test_preds + wgt_best * x_test[k_best]\n",
    "            MODELS.drop(k_best, axis = 1, inplace = True)\n",
    "            if MODELS.shape[1] == 0:\n",
    "                STOP = True\n",
    "            history.append(potential_new_best_cv_score)\n",
    "        else:\n",
    "            STOP = True\n",
    "\n",
    "    hill_ens_pred_1 = current_best_ensemble\n",
    "    hill_ens_pred_2 = current_best_test_preds\n",
    "\n",
    "    return [hill_ens_pred_1, hill_ens_pred_2]"
   ]
  },
  {
   "cell_type": "markdown",
   "id": "1e71b3ad",
   "metadata": {
    "papermill": {
     "duration": 0.003926,
     "end_time": "2023-10-19T01:36:10.965277",
     "exception": false,
     "start_time": "2023-10-19T01:36:10.961351",
     "status": "completed"
    },
    "tags": []
   },
   "source": [
    "**hyperparameter set**"
   ]
  },
  {
   "cell_type": "code",
   "execution_count": 60,
   "id": "4f89df94",
   "metadata": {
    "_kg_hide-input": false,
    "execution": {
     "iopub.execute_input": "2023-10-19T01:36:10.975657Z",
     "iopub.status.busy": "2023-10-19T01:36:10.975227Z",
     "iopub.status.idle": "2023-10-19T01:36:10.993998Z",
     "shell.execute_reply": "2023-10-19T01:36:10.992867Z"
    },
    "papermill": {
     "duration": 0.026778,
     "end_time": "2023-10-19T01:36:10.996075",
     "exception": false,
     "start_time": "2023-10-19T01:36:10.969297",
     "status": "completed"
    },
    "tags": [],
    "ExecuteTime": {
     "end_time": "2023-10-23T08:43:44.083259Z",
     "start_time": "2023-10-23T08:43:44.079762Z"
    }
   },
   "outputs": [],
   "source": [
    "random_state = 43\n",
    "\n",
    "lgb_params0 = {\n",
    "    \"objective\": 'binary',\n",
    "    'metric': 'auc',\n",
    "    'boosting_type': 'dart',\n",
    "     \"n_estimators\": 1000,\n",
    "     \"max_depth\": 7,\n",
    "     \"learning_rate\":0.03,\n",
    "     \"num_leaves\": 50,\n",
    "     \"reg_alpha\":3,\n",
    "     \"reg_lambda\": 3,\n",
    "     \"subsample\": 0.7,\n",
    "     'device': 'gpu' if torch.cuda.is_available() else 'cpu',\n",
    "     \"colsample_bytree\": 0.7,\n",
    "    'verbose': -1,\n",
    "}\n",
    "\n",
    "lgb_params1 = {\n",
    "    'objective': 'binary',\n",
    "    'metric': 'auc',\n",
    "    'boosting_type': 'dart',\n",
    "    'random_state': 42,\n",
    "    'colsample_bytree': 0.50,\n",
    "    'subsample': 0.70,\n",
    "    'learning_rate': 0.0625,\n",
    "    'max_depth': -1,\n",
    "    'n_estimators': 1000,\n",
    "    'num_leaves': 20, \n",
    "    'reg_alpha': 0.0001,\n",
    "    'reg_lambda': 2.0,\n",
    "    'verbose': -1,\n",
    "    'device': 'gpu' if torch.cuda.is_available() else 'cpu',\n",
    "    'random_state': random_state,\n",
    "}\n",
    "\n",
    "lgb_params2 = {\n",
    "    'objective': 'binary',\n",
    "    'metric': 'auc',\n",
    "    'boosting_type': 'gbdt',\n",
    "    'random_state': 42,\n",
    "    'colsample_bytree': 0.50,\n",
    "    'subsample': 0.70,\n",
    "    'learning_rate': 0.0625,\n",
    "    'max_depth': -1,\n",
    "    'n_estimators': 1000,\n",
    "    'num_leaves': 20, \n",
    "    'reg_alpha': 0.0001,\n",
    "    'reg_lambda': 2.0,\n",
    "    'verbose': -1,    \n",
    "    'device': 'gpu' if torch.cuda.is_available() else 'cpu',\n",
    "    'random_state': random_state,\n",
    "}\n",
    "\n",
    "lgb_params3 = {\n",
    "    'n_estimators': 20000, \n",
    "    'learning_rate': 0.07,\n",
    "    'objective': 'binary', \n",
    "    'boosting_type': 'gbdt', \n",
    "    \n",
    "    'subsample': 1.0,\n",
    "    'num_leaves': 23,  \n",
    "    'max_bin': 1023,\n",
    "    'n_jobs': -1,\n",
    "    \n",
    "    'reg_alpha': 0.65,\n",
    "    'reg_lambda': 3.1,\n",
    "    'colsample_bytree': 0.568,\n",
    "    'min_child_samples': 864,     \n",
    "    'random_state': 1920,\n",
    "    'verbose': -1, \n",
    "}\n",
    "\n",
    "xgb_optuna0 = {\n",
    "    'n_estimators': 10000,\n",
    "    'learning_rate': 0.01752354328845971,\n",
    "    'booster': 'gbtree',\n",
    "    'lambda': 0.08159630121074074,\n",
    "    'alpha': 0.07564858712175693,\n",
    "    'subsample': 0.5065979400270813,\n",
    "    'colsample_bytree': 0.6187340851873067,\n",
    "    'max_depth': 4,\n",
    "    'min_child_weight': 5,\n",
    "    'eta': 0.2603059902806757,\n",
    "    'gamma': 0.6567360773618207,\n",
    "    'early_stopping_rounds': 100,\n",
    "    'tree_method': 'hist',\n",
    "    'random_state': random_state\n",
    "}\n",
    "\n",
    "xgb_params0 = {\n",
    "    'n_estimators': 10000,\n",
    "    'learning_rate': 0.09641232707445854,\n",
    "    'booster': 'gbtree',\n",
    "    'lambda': 4.666002223704784,\n",
    "    'alpha': 3.708175990751336,\n",
    "    'subsample': 0.6100174145229473,\n",
    "    'colsample_bytree': 0.5506821152321051,\n",
    "    'max_depth': 7,\n",
    "    'min_child_weight': 3,\n",
    "    'eta': 1.740374368661041,\n",
    "    'gamma': 0.007427363662926455,\n",
    "    'grow_policy': 'depthwise',\n",
    "    'objective': 'binary:logistic',\n",
    "    'eval_metric': 'logloss',\n",
    "    'verbosity': 0,\n",
    "    'random_state': random_state,\n",
    "    'early_stopping_rounds': 100,\n",
    "    'tree_method': 'hist',\n",
    "}\n",
    "\n",
    "xgb_params1 = {\n",
    "    'n_estimators': 10000,\n",
    "    'learning_rate': 0.012208383405206188,\n",
    "    'booster': 'gbtree',\n",
    "    'lambda': 0.009968756668882757,\n",
    "    'alpha': 0.02666266827121168,\n",
    "    'subsample': 0.7097814108897231,\n",
    "    'colsample_bytree': 0.7946945784285216,\n",
    "    'max_depth': 3,\n",
    "    'min_child_weight': 4,\n",
    "    'eta': 0.5480204506554545,\n",
    "    'gamma': 0.8788654128774149,\n",
    "    'scale_pos_weight': 4.71,\n",
    "    'objective': 'binary:logistic',\n",
    "    'eval_metric': 'logloss',\n",
    "    'early_stopping_rounds': 100,\n",
    "    'verbosity': 0,\n",
    "    'random_state': random_state,\n",
    "    'tree_method': 'hist',\n",
    "}\n",
    "\n",
    "\n",
    "\n",
    "xgb_params2 = {\n",
    "    'n_estimators': 10000,\n",
    "    'colsample_bytree': 0.5646751146007976,\n",
    "    'gamma': 7.788727238356553e-06,\n",
    "    'learning_rate': 0.1419865761603358,\n",
    "    'max_bin': 824,\n",
    "    'min_child_weight': 1,\n",
    "    'random_state': 811996,\n",
    "    'reg_alpha': 1.6259583347890365e-07,\n",
    "    'reg_lambda': 2.110691851528507e-08,\n",
    "    'subsample': 0.879020578464637,\n",
    "    'objective': 'binary:logistic',\n",
    "    'eval_metric': 'logloss',\n",
    "    'max_depth': 3,\n",
    "    'early_stopping_rounds': 100,\n",
    "    'n_jobs': -1,\n",
    "    'verbosity': 0,\n",
    "    'random_state': random_state,\n",
    "    'tree_method': 'hist',\n",
    "   # 'scale_pos_weight': scale_pos_weight\n",
    "}\n",
    "\n",
    "xgb_params3 = {\n",
    "    'n_estimators': 10000,\n",
    "    'random_state': random_state,\n",
    "    'colsample_bytree': 0.4836462317215041,\n",
    "    'eta': 0.05976752607337169,\n",
    "    'gamma': 1,\n",
    "    'lambda': 0.2976432557733288,\n",
    "    'max_depth': 6,\n",
    "    'min_child_weight': 1,\n",
    "    'n_estimators': 550,\n",
    "    'early_stopping_rounds': 100,\n",
    "    'objective': 'binary:logistic',\n",
    "    'scale_pos_weight': 4.260162886376033,\n",
    "    'subsample': 0.7119282378433924,\n",
    "    'tree_method': 'hist',\n",
    "}\n",
    "\n",
    "xgb_params4 = {\n",
    "    'n_estimators': 10000,\n",
    "    'colsample_bytree': 0.8757972257439255,\n",
    "    'gamma': 0.11135738771999848,\n",
    "    'max_depth': 7,\n",
    "    'min_child_weight': 3,\n",
    "    'reg_alpha': 0.4833998914998038,\n",
    "    'reg_lambda': 0.006223568555619563,\n",
    "    'scale_pos_weight': 8,\n",
    "    'subsample': 0.7056434340275685,\n",
    "    'random_state': random_state,\n",
    "    'tree_method': 'hist',\n",
    "    'early_stopping_rounds': 100,\n",
    "}\n",
    "\n",
    "xgb_params5 = {\n",
    "    'n_estimators': 10000,\n",
    "    'max_depth': 5, \n",
    "    'min_child_weight': 2.934487833919741,\n",
    "    'learning_rate': 0.11341944575807082, \n",
    "    'subsample': 0.9045063514419968,\n",
    "    'gamma': 0.4329153382843715,\n",
    "    'colsample_bytree': 0.38872702868412506,\n",
    "    'colsample_bylevel': 0.8321880031718571,\n",
    "    'colsample_bynode': 0.802355707802605,\n",
    "    'random_state': random_state,\n",
    "    'tree_method': 'hist',\n",
    "    'early_stopping_rounds': 100,\n",
    "}\n",
    "\n",
    "xgb_base = {\n",
    "    'n_estimators': 1000,\n",
    "    'verbosity': 0,\n",
    "    'random_state': random_state,\n",
    "}\n",
    "\n",
    "xgb_params6 = {\n",
    "    'objective': 'binary:logistic',\n",
    "    'colsample_bytree': 0.7, \n",
    "    'gamma': 2, \n",
    "    'learning_rate': 0.01, \n",
    "    'max_depth': 7, \n",
    "    'min_child_weight': 10, \n",
    "    'n_estimators': 10000, \n",
    "    'subsample':0.7,\n",
    "    'random_state': random_state,\n",
    "    'tree_method': 'hist',\n",
    "    'early_stopping_rounds': 100,\n",
    "}\n",
    "\n",
    "cat_params0 = {\n",
    "    'iterations': 10000,\n",
    "    'eval_metric': 'AUC',\n",
    "    'loss_function': 'Logloss',\n",
    "    'task_type': 'GPU' if torch.cuda.is_available() else 'CPU',\n",
    "    'early_stopping_rounds': 100,\n",
    "    'auto_class_weights': 'Balanced'\n",
    "}"
   ]
  },
  {
   "cell_type": "code",
   "execution_count": 61,
   "id": "97d11da4",
   "metadata": {
    "_kg_hide-input": false,
    "execution": {
     "iopub.execute_input": "2023-10-19T01:36:11.006355Z",
     "iopub.status.busy": "2023-10-19T01:36:11.005980Z",
     "iopub.status.idle": "2023-10-19T01:36:11.307873Z",
     "shell.execute_reply": "2023-10-19T01:36:11.306492Z"
    },
    "papermill": {
     "duration": 0.309834,
     "end_time": "2023-10-19T01:36:11.310169",
     "exception": false,
     "start_time": "2023-10-19T01:36:11.000335",
     "status": "completed"
    },
    "tags": [],
    "ExecuteTime": {
     "end_time": "2023-10-23T08:43:44.878102Z",
     "start_time": "2023-10-23T08:43:44.865058Z"
    }
   },
   "outputs": [],
   "source": [
    "from abc import ABCMeta\n",
    "from sklearn.ensemble import RandomForestClassifier, ExtraTreesClassifier, HistGradientBoostingClassifier\n",
    "from xgboost.sklearn import XGBClassifier\n",
    "from catboost import CatBoostClassifier\n",
    "from lightgbm import LGBMClassifier\n",
    "\n",
    "class BaseModel(metaclass=ABCMeta):\n",
    "    def __init__(self):\n",
    "        pass\n",
    "    \n",
    "    def train(self, trn_x, trn_y, val_x, val_y):\n",
    "        pass\n",
    "    \n",
    "    def predict(self, X):\n",
    "        pass\n",
    "    \n",
    "    \n",
    "class RandomForestModel(BaseModel):\n",
    "    def __init__(self):\n",
    "        super().__init__()\n",
    "        self.model = None\n",
    "    \n",
    "    def train(self, trn_x, trn_y, val_x, val_y):\n",
    "        self.model = RandomForestClassifier(n_estimators = 1000, \n",
    "                                            class_weight='balanced',\n",
    "                                           max_depth = 7,\n",
    "                                           min_samples_split = 15,\n",
    "                                           min_samples_leaf = 10)\n",
    "        self.model.fit(trn_x, trn_y)\n",
    "        \n",
    "    def predict(self, X):\n",
    "        return self.model.predict_proba(X)[:, 1]\n",
    "\n",
    "class HistGradientBoostingModel(BaseModel):\n",
    "    def __init__(self):\n",
    "        super().__init__()\n",
    "        self.model = None\n",
    "    \n",
    "    def train(self, trn_x, trn_y, val_x, val_y):\n",
    "        self.model = HistGradientBoostingClassifier(l2_regularization = 0.01,\n",
    "                                             early_stopping = True,\n",
    "                                             learning_rate = 0.01,\n",
    "                                             max_iter = 1000,\n",
    "                                             max_depth = 5,\n",
    "                                             max_bins = 255,\n",
    "                                             min_samples_leaf = 15,\n",
    "                                             max_leaf_nodes = 10)\n",
    "        self.model.fit(trn_x, trn_y)\n",
    "\n",
    "    def predict(self, X):\n",
    "        return self.model.predict_proba(X)[:, 1]\n",
    "\n",
    "class LGBMModel(BaseModel):\n",
    "    def __init__(self, **config):\n",
    "        super().__init__()\n",
    "        self.config = config\n",
    "        self.model = LGBMClassifier(**self.config)\n",
    "    \n",
    "    def train(self, trn_x, trn_y, val_x, val_y):\n",
    "        self.model.fit(trn_x, trn_y, eval_set=(val_x, val_y))\n",
    "        \n",
    "    def predict(self, X):\n",
    "        return self.model.predict_proba(X)[:, 1]\n",
    "\n",
    "    \n",
    "class XGBModel(BaseModel):\n",
    "    def __init__(self, **config):\n",
    "        super().__init__()\n",
    "        self.config = config\n",
    "        self.model = XGBClassifier(**self.config)\n",
    "    \n",
    "    def train(self, trn_x, trn_y, val_x, val_y):\n",
    "        self.model.fit(trn_x, trn_y, eval_set=[(val_x, val_y)], verbose=0)\n",
    "\n",
    "        \n",
    "    def predict(self, X):\n",
    "        return self.model.predict_proba(X)[:, 1]\n",
    "\n",
    "class CatBoostModel(BaseModel):\n",
    "    def __init__(self, **config):\n",
    "        super().__init__()\n",
    "        self.config = config\n",
    "        self.model = CatBoostClassifier(**self.config)\n",
    "    \n",
    "    def train(self, trn_x, trn_y, val_x, val_y):\n",
    "        self.model.fit(trn_x, trn_y, eval_set=(val_x, val_y), verbose=0)\n",
    "        \n",
    "    def predict(self, X):\n",
    "        return self.model.predict_proba(X)[:, 1]\n"
   ]
  },
  {
   "cell_type": "code",
   "execution_count": 62,
   "id": "520e1882",
   "metadata": {
    "execution": {
     "iopub.execute_input": "2023-10-19T01:36:11.320591Z",
     "iopub.status.busy": "2023-10-19T01:36:11.320187Z",
     "iopub.status.idle": "2023-10-19T01:36:11.330027Z",
     "shell.execute_reply": "2023-10-19T01:36:11.329031Z"
    },
    "papermill": {
     "duration": 0.017721,
     "end_time": "2023-10-19T01:36:11.332105",
     "exception": false,
     "start_time": "2023-10-19T01:36:11.314384",
     "status": "completed"
    },
    "tags": [],
    "ExecuteTime": {
     "end_time": "2023-10-23T08:43:45.223760Z",
     "start_time": "2023-10-23T08:43:45.217646Z"
    }
   },
   "outputs": [],
   "source": [
    "from sklearn.model_selection import RepeatedStratifiedKFold\n",
    "\n",
    "def train(X_train, y_train, X_test, models, n_folds=10):\n",
    "\n",
    "    valid_preds, test_preds = dict(), dict()\n",
    "    hill_ens_preds =  list()\n",
    "\n",
    "    sk = RepeatedStratifiedKFold(n_splits = n_folds, n_repeats = 1, random_state = 42)\n",
    "    for i, (trn_idx, val_idx) in enumerate(sk.split(X_train, y_train)):\n",
    "\n",
    "        trn_x, trn_y = X_train.iloc[trn_idx], y_train.iloc[trn_idx]\n",
    "        val_x, val_y = X_train.iloc[val_idx], y_train.iloc[val_idx]\n",
    "\n",
    "        print('----------------------------------------------------------')\n",
    "        ens_pred_1 = np.zeros((val_x.shape[0], ))\n",
    "        ens_pred_2 = np.zeros((X_test.shape[0], ))\n",
    "\n",
    "        for idx, model in enumerate(models):\n",
    "            print(\"model\", model)\n",
    "            model.train(trn_x, trn_y, val_x, val_y)\n",
    "\n",
    "            ens_pred_1 = model.predict(val_x)\n",
    "            ens_pred_2 = model.predict(X_test)\n",
    "            \n",
    "            print(f\"ROC: {roc_auc_score(val_y, ens_pred_1)}\")\n",
    "            \n",
    "            valid_preds[f'model_{idx}'] = ens_pred_1\n",
    "            test_preds[f'model_{idx}'] = ens_pred_2\n",
    "\n",
    "        ens_pred_1 = np.mean(list(valid_preds.values()), axis=0)\n",
    "        ens_pred_2 = np.mean(list(test_preds.values()), axis=0)\n",
    "\n",
    "\n",
    "        ens_score_fold = roc_auc_score(val_y, ens_pred_1)\n",
    "        print('Fold', i, '==> Average Ensemble oof ROC-AUC score is ==>', ens_score_fold)\n",
    "\n",
    "        ############################\n",
    "        ## Hill Climbing Ensemble ##\n",
    "        ############################\n",
    "\n",
    "        x = pd.DataFrame(valid_preds)\n",
    "        y = val_y\n",
    "        x_test = pd.DataFrame(test_preds)\n",
    "\n",
    "        hill_results = hill_climbing(x, y, x_test)\n",
    "        hill_ens_score_fold = roc_auc_score(y, hill_results[0])\n",
    "\n",
    "        # test preds\n",
    "        hill_ens_preds.append(hill_results[1])\n",
    "\n",
    "        print('Fold', i, '==> Hill Climbing Ensemble oof ROC-AUC score is ==>', hill_ens_score_fold)\n",
    "        \n",
    "    return hill_ens_preds"
   ]
  },
  {
   "cell_type": "code",
   "execution_count": 63,
   "id": "8656acab",
   "metadata": {
    "execution": {
     "iopub.execute_input": "2023-10-19T01:36:11.341974Z",
     "iopub.status.busy": "2023-10-19T01:36:11.341634Z",
     "iopub.status.idle": "2023-10-19T01:36:11.356274Z",
     "shell.execute_reply": "2023-10-19T01:36:11.355055Z"
    },
    "papermill": {
     "duration": 0.022168,
     "end_time": "2023-10-19T01:36:11.358383",
     "exception": false,
     "start_time": "2023-10-19T01:36:11.336215",
     "status": "completed"
    },
    "tags": [],
    "ExecuteTime": {
     "end_time": "2023-10-23T08:43:46.061015Z",
     "start_time": "2023-10-23T08:43:46.056156Z"
    }
   },
   "outputs": [],
   "source": [
    "X_train, X_test, y_train = df_train[feat_list], df_test[feat_list], df_train[target]"
   ]
  },
  {
   "cell_type": "code",
   "execution_count": 64,
   "outputs": [],
   "source": [
    "# Log \n",
    "# X_train = X_train.apply(lambda x: np.log1p(x))\n",
    "# X_test = X_test.apply(lambda x: np.log1p(x))"
   ],
   "metadata": {
    "collapsed": false,
    "ExecuteTime": {
     "end_time": "2023-10-23T08:43:47.399162Z",
     "start_time": "2023-10-23T08:43:47.393333Z"
    }
   },
   "id": "dc9c3dd3942ff571"
  },
  {
   "cell_type": "markdown",
   "source": [
    "## LGBM Bayesian Optimization"
   ],
   "metadata": {
    "collapsed": false
   },
   "id": "3dbc0d50f4c68130"
  },
  {
   "cell_type": "code",
   "execution_count": 65,
   "outputs": [],
   "source": [
    "def lgbm_cl_bo(min_child_samples, colsample_bytree, learning_rate, num_leaves, reg_alpha, reg_lambda):\n",
    "    \n",
    "    params_lgbm = {}\n",
    "    params_lgbm['min_child_samples'] = round(min_child_samples)\n",
    "    params_lgbm['colsample_bytree'] = colsample_bytree\n",
    "    params_lgbm['learning_rate'] = learning_rate\n",
    "    params_lgbm['num_leaves'] = round(num_leaves)\n",
    "    params_lgbm['reg_alpha'] = reg_alpha\n",
    "    params_lgbm['reg_lambda'] = reg_lambda    \n",
    "       \n",
    "    params_lgbm['boosting_type'] ='gbdt'   # Manual optimization\n",
    "    params_lgbm['objective'] ='binary'     # Manual optimization\n",
    "    params_lgbm['subsample'] = 1.0\n",
    "    params_lgbm['max_bin'] = 1023\n",
    "    params_lgbm['n_jobs'] = -1\n",
    "    params_lgbm['verbose'] = -1\n",
    "\n",
    "    scores = cross_val_score(LGBMClassifier(**params_lgbm, random_state=2920), X_train, y_train, scoring='roc_auc', cv=5).mean()\n",
    "    score = scores.mean()\n",
    "    return score"
   ],
   "metadata": {
    "collapsed": false,
    "ExecuteTime": {
     "end_time": "2023-10-23T08:43:59.476586Z",
     "start_time": "2023-10-23T08:43:59.462527Z"
    }
   },
   "id": "d974ca13098e7dd"
  },
  {
   "cell_type": "code",
   "execution_count": 66,
   "outputs": [],
   "source": [
    "from bayes_opt import BayesianOptimization \n",
    "\n",
    "params_lgbm ={'min_child_samples':(0, 8),\n",
    "              'colsample_bytree':(0.3, 1.0),\n",
    "              'learning_rate':(0.005, 0.1),\n",
    "              'num_leaves':(20, 60),\n",
    "              'reg_alpha':(0.0, 10.0),\n",
    "              'reg_lambda':(0.0, 5.0)}\n",
    "\n",
    "# lgbm_bo = BayesianOptimization(lgbm_cl_bo, params_lgbm, random_state=2920)\n",
    "# lgbm_bo.maximize(n_iter=30, init_points=20)"
   ],
   "metadata": {
    "collapsed": false,
    "ExecuteTime": {
     "end_time": "2023-10-23T08:43:59.714697Z",
     "start_time": "2023-10-23T08:43:59.706931Z"
    }
   },
   "id": "b490b6583d817043"
  },
  {
   "cell_type": "markdown",
   "source": [
    "## XGBoost Bayesian Optmization"
   ],
   "metadata": {
    "collapsed": false
   },
   "id": "1be50abd1d209e73"
  },
  {
   "cell_type": "code",
   "execution_count": 67,
   "outputs": [],
   "source": [
    "# from sklearn.model_selection import cross_val_score\n",
    "# \n",
    "# def xgb_cl_bo(n_estimators, learning_rate, max_depth, min_child_weight, subsample, colsample_bytree, reg_alpha, reg_lambda):\n",
    "#     \n",
    "#     params_xgb = {}\n",
    "#     params_xgb['n_estimators'] = n_estimators\n",
    "#     params_xgb['learning_rate'] = learning_rate\n",
    "#     params_xgb['max_depth'] = round(max_depth)\n",
    "#     params_xgb['min_child_weight'] = round(min_child_weight)\n",
    "#     params_xgb['subsample'] = subsample\n",
    "#     params_xgb['colsample_bytree'] = colsample_bytree\n",
    "#     params_xgb['alpha'] = reg_alpha\n",
    "#     params_xgb['lambda'] = reg_lambda    \n",
    "#        \n",
    "#     params_xgb['boosting_type'] ='gbdt'   # Manual optimization\n",
    "#     params_xgb['objective'] ='binary'     # Manual optimization\n",
    "#     params_xgb['max_bin'] = 1023\n",
    "#     params_xgb['n_jobs'] = -1\n",
    "#     params_xgb['verbose'] = -1\n",
    "# \n",
    "#     scores = cross_val_score(XGBClassifier(**params_xgb, random_state=2920), X_train, y_train, scoring='roc_auc', cv=5).mean()\n",
    "#     score = scores.mean()\n",
    "#     return score"
   ],
   "metadata": {
    "collapsed": false,
    "ExecuteTime": {
     "end_time": "2023-10-23T08:44:01.828879Z",
     "start_time": "2023-10-23T08:44:01.819400Z"
    }
   },
   "id": "8d92da26f81657df"
  },
  {
   "cell_type": "code",
   "execution_count": 68,
   "outputs": [],
   "source": [
    "# from bayes_opt import BayesianOptimization \n",
    "# \n",
    "# params_xgb = {\n",
    "#     'n_estimators': (1000, 20000),\n",
    "#     'learning_rate':(0.005, 0.12),\n",
    "#     'max_depth': (3,10),\n",
    "#     'min_child_weight': (0, 8),\n",
    "#     'subsample': (0.5, 1.0),\n",
    "#     'colsample_bytree':(0.3, 1.0),\n",
    "#     'reg_alpha':(0.0, 10.0),\n",
    "#     'reg_lambda':(0.0, 5.0)\n",
    "# }\n",
    "# \n",
    "# xgb_bo = BayesianOptimization(xgb_cl_bo, params_xgb, random_state=2920)\n",
    "# xgb_bo.maximize(n_iter=30, init_points=20)"
   ],
   "metadata": {
    "collapsed": false,
    "ExecuteTime": {
     "end_time": "2023-10-23T08:44:02.492171Z",
     "start_time": "2023-10-23T08:44:02.484352Z"
    }
   },
   "id": "c5e8f74219cfae30"
  },
  {
   "cell_type": "markdown",
   "id": "3fed545c",
   "metadata": {
    "papermill": {
     "duration": 0.003787,
     "end_time": "2023-10-19T01:36:11.366905",
     "exception": false,
     "start_time": "2023-10-19T01:36:11.363118",
     "status": "completed"
    },
    "tags": []
   },
   "source": [
    "## All you need to do is find the best ensemble"
   ]
  },
  {
   "cell_type": "code",
   "execution_count": 70,
   "id": "6a68a8b4",
   "metadata": {
    "execution": {
     "iopub.execute_input": "2023-10-19T01:36:11.376847Z",
     "iopub.status.busy": "2023-10-19T01:36:11.376193Z",
     "iopub.status.idle": "2023-10-19T01:36:11.385013Z",
     "shell.execute_reply": "2023-10-19T01:36:11.383841Z"
    },
    "papermill": {
     "duration": 0.016235,
     "end_time": "2023-10-19T01:36:11.387199",
     "exception": false,
     "start_time": "2023-10-19T01:36:11.370964",
     "status": "completed"
    },
    "tags": [],
    "ExecuteTime": {
     "end_time": "2023-10-23T08:44:11.479371Z",
     "start_time": "2023-10-23T08:44:11.468774Z"
    }
   },
   "outputs": [],
   "source": [
    "models_v1 = [XGBModel(**xgb_optuna0), \n",
    "             XGBModel(**xgb_params1),\n",
    "             XGBModel(**xgb_params3),\n",
    "             XGBModel(**xgb_params6),\n",
    "             LGBMModel(**lgb_params0), \n",
    "             LGBMModel(**lgb_params1),\n",
    "             LGBMModel(**lgb_params2),\n",
    "             LGBMModel(**lgb_params3),\n",
    "             HistGradientBoostingModel(), \n",
    "             CatBoostModel(**cat_params0)]"
   ]
  },
  {
   "cell_type": "code",
   "execution_count": null,
   "id": "fae8df34",
   "metadata": {
    "_kg_hide-output": true,
    "collapsed": true,
    "execution": {
     "iopub.execute_input": "2023-10-19T01:36:11.397017Z",
     "iopub.status.busy": "2023-10-19T01:36:11.396647Z",
     "iopub.status.idle": "2023-10-19T02:28:56.642534Z",
     "shell.execute_reply": "2023-10-19T02:28:56.641271Z"
    },
    "jupyter": {
     "outputs_hidden": true
    },
    "papermill": {
     "duration": 3165.253495,
     "end_time": "2023-10-19T02:28:56.644941",
     "exception": false,
     "start_time": "2023-10-19T01:36:11.391446",
     "status": "completed"
    },
    "tags": [],
    "is_executing": true,
    "ExecuteTime": {
     "start_time": "2023-10-23T08:44:13.502014Z"
    }
   },
   "outputs": [
    {
     "name": "stdout",
     "output_type": "stream",
     "text": [
      "----------------------------------------------------------\n",
      "model <__main__.XGBModel object at 0x2ac473d90>\n",
      "ROC: 0.7917085947469967\n",
      "model <__main__.XGBModel object at 0x2ac4731c0>\n",
      "ROC: 0.7871215388335264\n",
      "model <__main__.XGBModel object at 0x2ac473430>\n",
      "ROC: 0.7857408175438655\n",
      "model <__main__.XGBModel object at 0x2ac473190>\n",
      "ROC: 0.791705923467002\n",
      "model <__main__.LGBMModel object at 0x2ac473d60>\n",
      "ROC: 0.7911633782383762\n",
      "model <__main__.LGBMModel object at 0x2ac473340>\n",
      "ROC: 0.7925496348608099\n",
      "model <__main__.LGBMModel object at 0x2ac473b50>\n",
      "ROC: 0.7912036126721118\n",
      "model <__main__.LGBMModel object at 0x2ac473220>\n",
      "[LightGBM] [Info] Number of positive: 20757, number of negative: 70829\n",
      "[LightGBM] [Warning] Auto-choosing row-wise multi-threading, the overhead of testing was 0.002865 seconds.\n",
      "You can set `force_row_wise=true` to remove the overhead.\n",
      "And if memory is not enough, you can set `force_col_wise=true`.\n",
      "[LightGBM] [Info] Total Bins 8446\n",
      "[LightGBM] [Info] Number of data points in the train set: 91586, number of used features: 21\n",
      "[LightGBM] [Info] [binary:BoostFromScore]: pavg=0.226639 -> initscore=-1.227385\n",
      "[LightGBM] [Info] Start training from score -1.227385\n",
      "ROC: 0.7400328209432758\n",
      "model <__main__.HistGradientBoostingModel object at 0x2ac5e6d30>\n",
      "ROC: 0.7895972646092853\n",
      "model <__main__.CatBoostModel object at 0x2ac5e66d0>\n",
      "ROC: 0.7909775177364731\n",
      "Fold 0 ==> Average Ensemble oof ROC-AUC score is ==> 0.7911307445600897\n",
      "Fold 0 ==> Hill Climbing Ensemble oof ROC-AUC score is ==> 0.7936044599911104\n",
      "----------------------------------------------------------\n",
      "model <__main__.XGBModel object at 0x2ac473d90>\n",
      "ROC: 0.8013476194489011\n",
      "model <__main__.XGBModel object at 0x2ac4731c0>\n",
      "ROC: 0.7990640881379196\n",
      "model <__main__.XGBModel object at 0x2ac473430>\n",
      "ROC: 0.7931904115919233\n",
      "model <__main__.XGBModel object at 0x2ac473190>\n",
      "ROC: 0.8018275961399178\n",
      "model <__main__.LGBMModel object at 0x2ac473d60>\n",
      "ROC: 0.801505610514158\n",
      "model <__main__.LGBMModel object at 0x2ac473340>\n",
      "ROC: 0.801032656260241\n",
      "model <__main__.LGBMModel object at 0x2ac473b50>\n",
      "ROC: 0.7976966957092634\n",
      "model <__main__.LGBMModel object at 0x2ac473220>\n",
      "[LightGBM] [Info] Number of positive: 20757, number of negative: 70829\n",
      "[LightGBM] [Warning] Auto-choosing col-wise multi-threading, the overhead of testing was 0.002526 seconds.\n",
      "You can set `force_col_wise=true` to remove the overhead.\n",
      "[LightGBM] [Info] Total Bins 8442\n",
      "[LightGBM] [Info] Number of data points in the train set: 91586, number of used features: 21\n",
      "[LightGBM] [Info] [binary:BoostFromScore]: pavg=0.226639 -> initscore=-1.227385\n",
      "[LightGBM] [Info] Start training from score -1.227385\n",
      "ROC: 0.7591952066772086\n",
      "model <__main__.HistGradientBoostingModel object at 0x2ac5e6d30>\n",
      "ROC: 0.8007247705866187\n",
      "model <__main__.CatBoostModel object at 0x2ac5e66d0>\n",
      "ROC: 0.8017347071974197\n",
      "Fold 1 ==> Average Ensemble oof ROC-AUC score is ==> 0.8010904880951791\n",
      "Fold 1 ==> Hill Climbing Ensemble oof ROC-AUC score is ==> 0.8024917809946966\n",
      "----------------------------------------------------------\n",
      "model <__main__.XGBModel object at 0x2ac473d90>\n",
      "ROC: 0.7966807005252783\n",
      "model <__main__.XGBModel object at 0x2ac4731c0>\n",
      "ROC: 0.7914921659894836\n",
      "model <__main__.XGBModel object at 0x2ac473430>\n",
      "ROC: 0.791671031593256\n",
      "model <__main__.XGBModel object at 0x2ac473190>\n",
      "ROC: 0.7976015210323368\n",
      "model <__main__.LGBMModel object at 0x2ac473d60>\n",
      "ROC: 0.7969324067021039\n",
      "model <__main__.LGBMModel object at 0x2ac473340>\n",
      "ROC: 0.7973343104159543\n",
      "model <__main__.LGBMModel object at 0x2ac473b50>\n",
      "ROC: 0.7952600201915719\n",
      "model <__main__.LGBMModel object at 0x2ac473220>\n",
      "[LightGBM] [Info] Number of positive: 20757, number of negative: 70829\n",
      "[LightGBM] [Warning] Auto-choosing row-wise multi-threading, the overhead of testing was 0.002049 seconds.\n",
      "You can set `force_row_wise=true` to remove the overhead.\n",
      "And if memory is not enough, you can set `force_col_wise=true`.\n",
      "[LightGBM] [Info] Total Bins 8451\n",
      "[LightGBM] [Info] Number of data points in the train set: 91586, number of used features: 21\n",
      "[LightGBM] [Info] [binary:BoostFromScore]: pavg=0.226639 -> initscore=-1.227385\n",
      "[LightGBM] [Info] Start training from score -1.227385\n",
      "ROC: 0.7509673613646991\n",
      "model <__main__.HistGradientBoostingModel object at 0x2ac5e6d30>\n",
      "ROC: 0.7947747009405658\n",
      "model <__main__.CatBoostModel object at 0x2ac5e66d0>\n",
      "ROC: 0.7964193006313584\n",
      "Fold 2 ==> Average Ensemble oof ROC-AUC score is ==> 0.7965156044060148\n",
      "Fold 2 ==> Hill Climbing Ensemble oof ROC-AUC score is ==> 0.7981393020193226\n",
      "----------------------------------------------------------\n",
      "model <__main__.XGBModel object at 0x2ac473d90>\n",
      "ROC: 0.7921417913161731\n",
      "model <__main__.XGBModel object at 0x2ac4731c0>\n",
      "ROC: 0.7879195866040858\n",
      "model <__main__.XGBModel object at 0x2ac473430>\n",
      "ROC: 0.7851613271163782\n",
      "model <__main__.XGBModel object at 0x2ac473190>\n",
      "ROC: 0.7918483190086961\n",
      "model <__main__.LGBMModel object at 0x2ac473d60>\n",
      "ROC: 0.7909717041120287\n",
      "model <__main__.LGBMModel object at 0x2ac473340>\n",
      "ROC: 0.7915571885286822\n",
      "model <__main__.LGBMModel object at 0x2ac473b50>\n",
      "ROC: 0.7899874753557098\n",
      "model <__main__.LGBMModel object at 0x2ac473220>\n",
      "[LightGBM] [Info] Number of positive: 20758, number of negative: 70829\n",
      "[LightGBM] [Warning] Auto-choosing row-wise multi-threading, the overhead of testing was 0.002717 seconds.\n",
      "You can set `force_row_wise=true` to remove the overhead.\n",
      "And if memory is not enough, you can set `force_col_wise=true`.\n",
      "[LightGBM] [Info] Total Bins 8442\n",
      "[LightGBM] [Info] Number of data points in the train set: 91587, number of used features: 21\n",
      "[LightGBM] [Info] [binary:BoostFromScore]: pavg=0.226648 -> initscore=-1.227337\n",
      "[LightGBM] [Info] Start training from score -1.227337\n",
      "ROC: 0.7429307116620804\n",
      "model <__main__.HistGradientBoostingModel object at 0x2ac5e6d30>\n",
      "ROC: 0.7907522335523813\n",
      "model <__main__.CatBoostModel object at 0x2ac5e66d0>\n",
      "ROC: 0.7910026437854512\n",
      "Fold 3 ==> Average Ensemble oof ROC-AUC score is ==> 0.790858111704619\n",
      "Fold 3 ==> Hill Climbing Ensemble oof ROC-AUC score is ==> 0.792569298807266\n",
      "----------------------------------------------------------\n",
      "model <__main__.XGBModel object at 0x2ac473d90>\n",
      "ROC: 0.788081200249942\n",
      "model <__main__.XGBModel object at 0x2ac4731c0>\n",
      "ROC: 0.7843234763519509\n",
      "model <__main__.XGBModel object at 0x2ac473430>\n",
      "ROC: 0.7805904656214219\n",
      "model <__main__.XGBModel object at 0x2ac473190>\n",
      "ROC: 0.7884240437905204\n",
      "model <__main__.LGBMModel object at 0x2ac473d60>\n",
      "ROC: 0.787916335596549\n",
      "model <__main__.LGBMModel object at 0x2ac473340>\n",
      "ROC: 0.7886332103093305\n",
      "model <__main__.LGBMModel object at 0x2ac473b50>\n",
      "ROC: 0.7856669138901776\n",
      "model <__main__.LGBMModel object at 0x2ac473220>\n",
      "[LightGBM] [Info] Number of positive: 20758, number of negative: 70829\n",
      "[LightGBM] [Warning] Auto-choosing row-wise multi-threading, the overhead of testing was 0.001963 seconds.\n",
      "You can set `force_row_wise=true` to remove the overhead.\n",
      "And if memory is not enough, you can set `force_col_wise=true`.\n",
      "[LightGBM] [Info] Total Bins 8444\n",
      "[LightGBM] [Info] Number of data points in the train set: 91587, number of used features: 21\n",
      "[LightGBM] [Info] [binary:BoostFromScore]: pavg=0.226648 -> initscore=-1.227337\n",
      "[LightGBM] [Info] Start training from score -1.227337\n"
     ]
    }
   ],
   "source": [
    "hill_ens_preds = train(X_train, y_train, X_test, models_v1, n_folds=10)"
   ]
  },
  {
   "cell_type": "code",
   "execution_count": 17,
   "id": "76e2fd82",
   "metadata": {
    "execution": {
     "iopub.execute_input": "2023-10-19T02:28:56.665112Z",
     "iopub.status.busy": "2023-10-19T02:28:56.663976Z",
     "iopub.status.idle": "2023-10-19T02:28:56.882972Z",
     "shell.execute_reply": "2023-10-19T02:28:56.881496Z"
    },
    "papermill": {
     "duration": 0.232126,
     "end_time": "2023-10-19T02:28:56.885910",
     "exception": false,
     "start_time": "2023-10-19T02:28:56.653784",
     "status": "completed"
    },
    "tags": [],
    "ExecuteTime": {
     "end_time": "2023-10-23T07:54:32.369218Z",
     "start_time": "2023-10-23T07:54:32.262641Z"
    }
   },
   "outputs": [],
   "source": [
    "# hill climbing\n",
    "# 캐글 제출용\n",
    "# submission = pd.read_csv('/kaggle/input/playground-series-s3e23/sample_submission.csv')\n",
    "\n",
    "# 로컬\n",
    "submission = pd.read_csv('./playground-series-s3e23/sample_submission.csv')\n",
    "\n",
    "submission['defects'] = np.mean(hill_ens_preds, axis=0)\n",
    "submission.to_csv('submission.csv', index=False)\n"
   ]
  },
  {
   "cell_type": "code",
   "execution_count": 18,
   "outputs": [
    {
     "data": {
      "text/plain": "           id   defects\n0      101763  0.253385\n1      101764  0.207265\n2      101765  0.671884\n3      101766  0.488249\n4      101767  0.159772\n...       ...       ...\n67837  169600  0.296455\n67838  169601  0.133013\n67839  169602  0.200931\n67840  169603  0.114811\n67841  169604  0.807460\n\n[67842 rows x 2 columns]",
      "text/html": "<div>\n<style scoped>\n    .dataframe tbody tr th:only-of-type {\n        vertical-align: middle;\n    }\n\n    .dataframe tbody tr th {\n        vertical-align: top;\n    }\n\n    .dataframe thead th {\n        text-align: right;\n    }\n</style>\n<table border=\"1\" class=\"dataframe\">\n  <thead>\n    <tr style=\"text-align: right;\">\n      <th></th>\n      <th>id</th>\n      <th>defects</th>\n    </tr>\n  </thead>\n  <tbody>\n    <tr>\n      <th>0</th>\n      <td>101763</td>\n      <td>0.253385</td>\n    </tr>\n    <tr>\n      <th>1</th>\n      <td>101764</td>\n      <td>0.207265</td>\n    </tr>\n    <tr>\n      <th>2</th>\n      <td>101765</td>\n      <td>0.671884</td>\n    </tr>\n    <tr>\n      <th>3</th>\n      <td>101766</td>\n      <td>0.488249</td>\n    </tr>\n    <tr>\n      <th>4</th>\n      <td>101767</td>\n      <td>0.159772</td>\n    </tr>\n    <tr>\n      <th>...</th>\n      <td>...</td>\n      <td>...</td>\n    </tr>\n    <tr>\n      <th>67837</th>\n      <td>169600</td>\n      <td>0.296455</td>\n    </tr>\n    <tr>\n      <th>67838</th>\n      <td>169601</td>\n      <td>0.133013</td>\n    </tr>\n    <tr>\n      <th>67839</th>\n      <td>169602</td>\n      <td>0.200931</td>\n    </tr>\n    <tr>\n      <th>67840</th>\n      <td>169603</td>\n      <td>0.114811</td>\n    </tr>\n    <tr>\n      <th>67841</th>\n      <td>169604</td>\n      <td>0.807460</td>\n    </tr>\n  </tbody>\n</table>\n<p>67842 rows × 2 columns</p>\n</div>"
     },
     "execution_count": 18,
     "metadata": {},
     "output_type": "execute_result"
    }
   ],
   "source": [
    "submission"
   ],
   "metadata": {
    "collapsed": false,
    "ExecuteTime": {
     "end_time": "2023-10-23T07:54:32.625572Z",
     "start_time": "2023-10-23T07:54:32.621202Z"
    }
   },
   "id": "a5c32e49bb454b04"
  },
  {
   "cell_type": "code",
   "execution_count": null,
   "outputs": [],
   "source": [],
   "metadata": {
    "collapsed": false
   },
   "id": "b2c2db5e6acbfb9e"
  }
 ],
 "metadata": {
  "kernelspec": {
   "display_name": "Python 3",
   "language": "python",
   "name": "python3"
  },
  "language_info": {
   "codemirror_mode": {
    "name": "ipython",
    "version": 3
   },
   "file_extension": ".py",
   "mimetype": "text/x-python",
   "name": "python",
   "nbconvert_exporter": "python",
   "pygments_lexer": "ipython3",
   "version": "3.10.12"
  },
  "papermill": {
   "default_parameters": {},
   "duration": 3180.344195,
   "end_time": "2023-10-19T02:28:58.227030",
   "environment_variables": {},
   "exception": null,
   "input_path": "__notebook__.ipynb",
   "output_path": "__notebook__.ipynb",
   "parameters": {},
   "start_time": "2023-10-19T01:35:57.882835",
   "version": "2.4.0"
  }
 },
 "nbformat": 4,
 "nbformat_minor": 5
}
