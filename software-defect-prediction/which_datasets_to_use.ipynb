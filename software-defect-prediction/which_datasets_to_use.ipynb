{
 "cells": [
  {
   "cell_type": "code",
   "execution_count": 2,
   "id": "d681a305",
   "metadata": {},
   "outputs": [
    {
     "data": {
      "text/plain": [
       "\"\\noriginal 데이터셋을 사용하는 게 의미 있는가?가 궁금해서\\n동일 model에서 train만 사용, original만 사용 roc_auc 비교\\n\\nMEHRAN 의 notebook의 첫 번째 submission 부분만 사용\\n(더 해보려 했는데 다른 문제가 좀 있어서... 시간되면 더 비교해 보기로)\\n\\nfeature engineering: log1p 적용, 혼자 경향이 다른 'l'만 1 - 'l' 적용\\n\""
      ]
     },
     "execution_count": 2,
     "metadata": {},
     "output_type": "execute_result"
    }
   ],
   "source": [
    "\"\"\"\n",
    "original 데이터셋을 사용하는 게 의미 있는가?가 궁금해서\n",
    "동일 model에서 train만 사용, original만 사용 roc_auc 비교\n",
    "\n",
    "MEHRAN 의 notebook의 첫 번째 submission 부분만 사용\n",
    "(더 해보려 했는데 다른 문제가 좀 있어서... 시간되면 더 비교해 보기로)\n",
    "\n",
    "feature engineering: log1p 적용, 혼자 경향이 다른 'l'만 1 - 'l' 적용\n",
    "\"\"\""
   ]
  },
  {
   "cell_type": "code",
   "execution_count": 27,
   "id": "08cad0a3",
   "metadata": {},
   "outputs": [],
   "source": [
    "import numpy as np\n",
    "import pandas as pd\n",
    "import seaborn as sns\n",
    "import matplotlib.pyplot as plt"
   ]
  },
  {
   "cell_type": "code",
   "execution_count": 28,
   "id": "e646010c",
   "metadata": {},
   "outputs": [],
   "source": [
    "train = pd.read_csv('input/train.csv', index_col='id')\n",
    "test = pd.read_csv('input/test.csv', index_col='id')\n",
    "original = pd.read_csv('input/jm1.csv')"
   ]
  },
  {
   "cell_type": "code",
   "execution_count": 29,
   "id": "5d603339",
   "metadata": {},
   "outputs": [
    {
     "name": "stdout",
     "output_type": "stream",
     "text": [
      "Missing Value in  train :  Series([], dtype: int64)\n",
      "Duplicates in  train :  0\n",
      "loc                  float64\n",
      "v(g)                 float64\n",
      "ev(g)                float64\n",
      "iv(g)                float64\n",
      "n                    float64\n",
      "v                    float64\n",
      "l                    float64\n",
      "d                    float64\n",
      "i                    float64\n",
      "e                    float64\n",
      "b                    float64\n",
      "t                    float64\n",
      "lOCode                 int64\n",
      "lOComment              int64\n",
      "lOBlank                int64\n",
      "locCodeAndComment      int64\n",
      "uniq_Op              float64\n",
      "uniq_Opnd            float64\n",
      "total_Op             float64\n",
      "total_Opnd           float64\n",
      "branchCount          float64\n",
      "defects                 bool\n",
      "dtype: object\n",
      "Missing Value in  test :  Series([], dtype: int64)\n",
      "Duplicates in  test :  0\n",
      "loc                  float64\n",
      "v(g)                 float64\n",
      "ev(g)                float64\n",
      "iv(g)                float64\n",
      "n                    float64\n",
      "v                    float64\n",
      "l                    float64\n",
      "d                    float64\n",
      "i                    float64\n",
      "e                    float64\n",
      "b                    float64\n",
      "t                    float64\n",
      "lOCode                 int64\n",
      "lOComment              int64\n",
      "lOBlank                int64\n",
      "locCodeAndComment      int64\n",
      "uniq_Op              float64\n",
      "uniq_Opnd            float64\n",
      "total_Op             float64\n",
      "total_Opnd           float64\n",
      "branchCount          float64\n",
      "dtype: object\n",
      "Missing Value in  original :  Series([], dtype: int64)\n",
      "Duplicates in  original :  1973\n",
      "loc                  float64\n",
      "v(g)                 float64\n",
      "ev(g)                float64\n",
      "iv(g)                float64\n",
      "n                    float64\n",
      "v                    float64\n",
      "l                    float64\n",
      "d                    float64\n",
      "i                    float64\n",
      "e                    float64\n",
      "b                    float64\n",
      "t                    float64\n",
      "lOCode                 int64\n",
      "lOComment              int64\n",
      "lOBlank                int64\n",
      "locCodeAndComment      int64\n",
      "uniq_Op               object\n",
      "uniq_Opnd             object\n",
      "total_Op              object\n",
      "total_Opnd            object\n",
      "branchCount           object\n",
      "defects                 bool\n",
      "dtype: object\n"
     ]
    }
   ],
   "source": [
    "def check_missing(df, name):\n",
    "    missing_values = df.isnull().sum()\n",
    "    print('Missing Value in ', name, ': ', missing_values[missing_values > 0])\n",
    "    print('Duplicates in ', name, ': ', df.duplicated().sum())\n",
    "    print(df.dtypes)\n",
    "    \n",
    "check_missing(train, \"train\")\n",
    "check_missing(test, \"test\")\n",
    "check_missing(original, \"original\")"
   ]
  },
  {
   "cell_type": "code",
   "execution_count": 30,
   "id": "19d8649f",
   "metadata": {},
   "outputs": [],
   "source": [
    "# original 을 좀 정리하면..\n",
    "\n",
    "# 1. duplicate 제거\n",
    "original.drop_duplicates(inplace=True)\n",
    "\n",
    "original.dtypes # original 의 일부 데이터가 ? 이다 \n",
    "\n",
    "# 2. float 이 아닌 Object인 feature들 정리 - 5개의 row가 ?를 갖고 있다 -> 해당 row 제거\n",
    "#for column in ['uniq_Op', 'uniq_Opnd', 'total_Op','total_Opnd', 'branchCount']:\n",
    "#    print(len(original[original[column] == '?']), original[original[column] == '?'].index)\n",
    "\n",
    "for column in ['uniq_Op', 'uniq_Opnd', 'total_Op','total_Opnd', 'branchCount']:\n",
    "    original.drop(original[original[column] == '?'].index, inplace=True)\n",
    "    original[column] = original[column].astype(float)"
   ]
  },
  {
   "cell_type": "code",
   "execution_count": 31,
   "id": "2a5497fd",
   "metadata": {},
   "outputs": [
    {
     "name": "stdout",
     "output_type": "stream",
     "text": [
      "['loc', 'v(g)', 'ev(g)', 'iv(g)', 'n', 'v', 'l', 'd', 'i', 'e', 'b', 't', 'lOCode', 'lOComment', 'lOBlank', 'locCodeAndComment', 'uniq_Op', 'uniq_Opnd', 'total_Op', 'total_Opnd', 'branchCount']\n"
     ]
    }
   ],
   "source": [
    "## features: 모두 사용\n",
    "features = [f for f in train.columns.tolist() if f != 'defects']\n",
    "print(features)\n",
    "\n",
    "for f in features:\n",
    "    train[f] = np.log1p(train[f])\n",
    "    test[f] = np.log1p(test[f])\n",
    "    original[f] = np.log1p(original[f])\n",
    "    \n",
    "# 'l'은 다른 feature들과 다르게 defects와 음의 상관관계를 갖고 있으므로 이를 역전시켜 준다\n",
    "train['l'] = 1 - train['l']\n",
    "test['l'] = 1 - test['l']\n",
    "original['l'] = 1 - original['l']"
   ]
  },
  {
   "cell_type": "code",
   "execution_count": 32,
   "id": "1477b658",
   "metadata": {},
   "outputs": [],
   "source": [
    "from sklearn.naive_bayes import GaussianNB\n",
    "from sklearn.pipeline import make_pipeline\n",
    "from sklearn.model_selection import cross_val_score\n",
    "from sklearn.preprocessing import QuantileTransformer"
   ]
  },
  {
   "cell_type": "code",
   "execution_count": 36,
   "id": "b49d0a2f",
   "metadata": {},
   "outputs": [
    {
     "name": "stdout",
     "output_type": "stream",
     "text": [
      "train-only: 0.7571282304482544\n",
      "train+original: 0.7491242595402765\n"
     ]
    }
   ],
   "source": [
    "# 1 \n",
    "#   QuantileTransformer (normalization)\n",
    "#   GuassianNB\n",
    "from sklearn.metrics import roc_auc_score, roc_curve, auc\n",
    "\n",
    "def QuantileTransformer_GuassianNB(X, y, label): \n",
    "    pipeline = make_pipeline(QuantileTransformer(output_distribution='normal'),\n",
    "                            GaussianNB())\n",
    "    pipeline.fit(X, y)\n",
    "    cross_val_score(pipeline, X, y, scoring='roc_auc', cv=10).mean()\n",
    "    fpr, tpr, _ = roc_curve(y, pipeline.predict_proba(X)[:,1])\n",
    "    roc_auc = auc(fpr, tpr)\n",
    "    \n",
    "    print(label + ': ' + str(roc_auc))\n",
    "\n",
    "# only with train data\n",
    "X1 = train[features]    \n",
    "y1 = train['defects']\n",
    "QuantileTransformer_GuassianNB(X1, y1, \"train-only\")\n",
    "\n",
    "# with train/original data\n",
    "concat = pd.concat([train,original], axis=0)\n",
    "concat.reset_index(inplace=True, drop=True)\n",
    "X2 = concat[features]\n",
    "y2 = concat['defects']\n",
    "QuantileTransformer_GuassianNB(X2, y2, \"train+original\")"
   ]
  },
  {
   "cell_type": "code",
   "execution_count": null,
   "id": "412a83ab",
   "metadata": {},
   "outputs": [],
   "source": []
  }
 ],
 "metadata": {
  "kernelspec": {
   "display_name": "Python 3 (ipykernel)",
   "language": "python",
   "name": "python3"
  },
  "language_info": {
   "codemirror_mode": {
    "name": "ipython",
    "version": 3
   },
   "file_extension": ".py",
   "mimetype": "text/x-python",
   "name": "python",
   "nbconvert_exporter": "python",
   "pygments_lexer": "ipython3",
   "version": "3.11.6"
  }
 },
 "nbformat": 4,
 "nbformat_minor": 5
}
