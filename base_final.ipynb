{
 "cells": [
  {
   "cell_type": "markdown",
   "source": [
    "# Score\n",
    "local:\n",
    "kaggle:"
   ],
   "metadata": {
    "collapsed": false
   }
  },
  {
   "cell_type": "code",
   "execution_count": 2,
   "outputs": [],
   "source": [
    "import pandas as pd\n",
    "import numpy as np\n",
    "import matplotlib.pyplot as plt\n",
    "import seaborn as sns\n",
    "import catboost\n",
    "import lightgbm\n",
    "import warnings\n",
    "from tqdm import tqdm\n",
    "\n",
    "from sklearn.model_selection import train_test_split\n",
    "from sklearn.model_selection import StratifiedKFold\n",
    "from sklearn.metrics import mean_squared_error\n",
    "from sklearn.metrics import roc_auc_score\n",
    "from sklearn.preprocessing import LabelEncoder, QuantileTransformer\n",
    "from catboost import CatBoostRegressor, CatBoostClassifier\n",
    "from sklearn.linear_model import LinearRegression, RidgeClassifier\n",
    "from sklearn.svm import SVC\n",
    "\n",
    "from lightgbm import LGBMClassifier\n",
    "import copy\n",
    "import pandas as pd\n",
    "import seaborn as sns\n",
    "import matplotlib.pyplot as plt\n",
    "from torch.utils.data import Dataset, DataLoader\n",
    "\n",
    "import torch\n",
    "import torch.nn as nn\n",
    "import torch.nn.functional as F\n",
    "\n",
    "warnings.filterwarnings(\"ignore\")\n"
   ],
   "metadata": {
    "collapsed": false,
    "ExecuteTime": {
     "end_time": "2023-10-23T06:31:48.372247Z",
     "start_time": "2023-10-23T06:31:48.359525Z"
    }
   }
  },
  {
   "cell_type": "markdown",
   "metadata": {
    "ExecuteTime": {
     "end_time": "2023-10-23T06:31:04.950052Z",
     "start_time": "2023-10-23T06:31:04.946585Z"
    }
   },
   "source": [
    "# Load Data"
   ]
  },
  {
   "cell_type": "code",
   "execution_count": 3,
   "metadata": {
    "ExecuteTime": {
     "end_time": "2023-10-23T06:31:52.163943Z",
     "start_time": "2023-10-23T06:31:51.999569Z"
    }
   },
   "outputs": [],
   "source": [
    "# 캐글 실행용\n",
    "# df_train = pd.read_csv('../input/playground-series-s3e23/train.csv', index_col='id')\n",
    "# df_test = pd.read_csv('../input/playground-series-s3e23/test.csv', index_col='id')\n",
    "# df_original = pd.read_csv('/kaggle/input/software-defect-prediction/jm1.csv')\n",
    "\n",
    "# 로컬\n",
    "df_train = pd.read_csv(\"./playground-series-s3e23/train.csv\", index_col=\"id\")\n",
    "df_test = pd.read_csv(\"./playground-series-s3e23/test.csv\", index_col=\"id\")\n",
    "df_original = pd.read_csv(\"./software-defect-prediction/jm1.csv\")\n"
   ]
  },
  {
   "cell_type": "markdown",
   "source": [
    "# Feature"
   ],
   "metadata": {
    "collapsed": false,
    "ExecuteTime": {
     "end_time": "2023-10-23T06:30:37.292964Z",
     "start_time": "2023-10-23T06:30:37.121215Z"
    }
   }
  },
  {
   "cell_type": "markdown",
   "source": [
    "## Original 과  train 을 합치는 코드 "
   ],
   "metadata": {
    "collapsed": false
   }
  },
  {
   "cell_type": "code",
   "execution_count": 4,
   "metadata": {
    "ExecuteTime": {
     "end_time": "2023-10-23T05:22:08.833002Z",
     "start_time": "2023-10-23T05:22:08.781380Z"
    }
   },
   "outputs": [],
   "source": [
    "# columns = [\"uniq_Op\", \"uniq_Opnd\", \"total_Op\", \"total_Opnd\", \"branchCount\"]\n",
    "# \n",
    "# for col in columns:\n",
    "#     df_original[col][df_original[col] == \"?\"] = np.nan\n",
    "#     df_original[col] = df_original[col].astype(float)\n",
    "# \n",
    "# \n",
    "# df_train = pd.concat([df_train, df_original], ignore_index=True)\n",
    "# df_train = df_train.drop_duplicates()\n",
    "# df_train['defects'] = df_train.defects.astype(int)\n"
   ]
  },
  {
   "cell_type": "markdown",
   "source": [
    "## Quantile Transformer \n",
    "+ 여기서 train['defects']에 nan이 생김 -> 위치 바꿔줌\n",
    "+ scale 해주는 함수"
   ],
   "metadata": {
    "collapsed": false,
    "ExecuteTime": {
     "end_time": "2023-10-23T06:30:39.008032Z",
     "start_time": "2023-10-23T06:30:38.955756Z"
    }
   }
  },
  {
   "cell_type": "code",
   "execution_count": 5,
   "outputs": [],
   "source": [
    "# feat_list = list(set(df_train.columns) - set(['defects']))\n",
    "# target = 'defects'"
   ],
   "metadata": {
    "collapsed": false,
    "ExecuteTime": {
     "end_time": "2023-10-23T05:22:10.234388Z",
     "start_time": "2023-10-23T05:22:10.224140Z"
    }
   }
  },
  {
   "cell_type": "code",
   "execution_count": 4,
   "outputs": [],
   "source": [
    "# qt = QuantileTransformer(n_quantiles=1000, output_distribution='uniform', random_state=0)\n",
    "# qt.fit(df_train[feat_list])\n",
    "# \n",
    "# tmp_train = pd.DataFrame(qt.transform(df_train[feat_list]))\n",
    "# tmp_train.columns = feat_list\n",
    "# tmp_train[target] = df_train[target]\n",
    "# df_train = tmp_train\n",
    "# df_test = pd.DataFrame(qt.transform(df_test[feat_list]))\n",
    "# df_test.columns = feat_list\n",
    "# \n",
    "# feat_list = list(set(df_train.columns.tolist()) - set([target]))\n"
   ],
   "metadata": {
    "collapsed": false,
    "ExecuteTime": {
     "end_time": "2023-10-23T06:30:41.021241Z",
     "start_time": "2023-10-23T06:30:41.017844Z"
    }
   }
  },
  {
   "cell_type": "code",
   "execution_count": 5,
   "outputs": [],
   "source": [
    "# device = torch.device(0) if torch.cuda.is_available() else torch.device(\"cpu\")\n"
   ],
   "metadata": {
    "collapsed": false,
    "ExecuteTime": {
     "end_time": "2023-10-23T06:30:42.311249Z",
     "start_time": "2023-10-23T06:30:41.881435Z"
    }
   }
  },
  {
   "cell_type": "markdown",
   "metadata": {
    "ExecuteTime": {
     "end_time": "2023-10-23T06:30:42.954427Z",
     "start_time": "2023-10-23T06:30:42.950261Z"
    }
   },
   "source": [
    "## drop N/A"
   ]
  },
  {
   "cell_type": "code",
   "execution_count": 8,
   "metadata": {
    "ExecuteTime": {
     "end_time": "2023-10-23T05:22:14.129827Z",
     "start_time": "2023-10-23T05:22:14.095648Z"
    }
   },
   "outputs": [
    {
     "data": {
      "text/plain": "        branchCount  lOComment         l         v      v(g)  \\\n0          0.447447   0.747247  0.369870  0.561052  0.440941   \n1          0.259760   0.000000  0.737237  0.361361  0.256256   \n2          0.259760   0.000000  0.620621  0.448949  0.256256   \n3          0.000000   0.000000  0.847347  0.243744  0.000000   \n4          0.259760   0.000000  0.830330  0.158158  0.256256   \n...             ...        ...       ...       ...       ...   \n110669     0.259760   0.000000  0.481481  0.694059  0.256256   \n110671     0.259760   0.000000  0.664164  0.316316  0.256256   \n110672     0.573574   0.747247  0.221221  0.718622  0.568569   \n110673     0.000000   0.000000  0.664164  0.352352  0.000000   \n110674     0.447447   0.000000  0.530531  0.554555  0.440941   \n\n        locCodeAndComment  uniq_Opnd         e  ev(g)   uniq_Op  ...  \\\n0                0.000000   0.372873  0.643644    0.0  0.755756  ...   \n1                0.000000   0.465465  0.327711    0.0  0.463964  ...   \n2                0.000000   0.465465  0.450299    0.0  0.540040  ...   \n3                0.000000   0.213714  0.222803    0.0  0.259259  ...   \n4                0.000000   0.213714  0.198198    0.0  0.201702  ...   \n...                   ...        ...       ...    ...       ...  ...   \n110669           0.000000   0.753253  0.652503    0.0  0.463964  ...   \n110671           0.000000   0.324825  0.352316    0.0  0.540040  ...   \n110672           0.000000   0.624124  0.795790    0.0  0.834334  ...   \n110673           0.000000   0.324825  0.377547    0.0  0.323824  ...   \n110674           0.935936   0.590090  0.555556    0.0  0.540040  ...   \n\n               t    lOCode       loc         n         i         b     iv(g)  \\\n0       0.639643  0.592593  0.477978  0.563564  0.208466  0.549550  0.412913   \n1       0.327972  0.420921  0.279780  0.331832  0.436436  0.355856  0.412913   \n2       0.447915  0.301301  0.191692  0.457958  0.483483  0.464965  0.412913   \n3       0.223223  0.149149  0.102603  0.229730  0.331665  0.231231  0.000000   \n4       0.198699  0.261762  0.191692  0.159159  0.150150  0.156156  0.412913   \n...          ...       ...       ...       ...       ...       ...       ...   \n110669  0.648203  0.615115  0.524024  0.706206  0.804073  0.703203  0.412913   \n110671  0.352699  0.183684  0.131131  0.313814  0.258150  0.297798  0.412913   \n110672  0.792231  0.777277  0.740741  0.734234  0.390390  0.720721  0.412913   \n110673  0.378893  0.221722  0.160661  0.374374  0.316459  0.355856  0.000000   \n110674  0.554555  0.480981  0.409910  0.551552  0.507421  0.549550  0.000000   \n\n        total_Op  total_Opnd  defects  \n0       0.577077    0.519019    False  \n1       0.309810    0.354354    False  \n2       0.465465    0.426426    False  \n3       0.274775    0.171171     True  \n4       0.161161    0.258258    False  \n...          ...         ...      ...  \n110669  0.666166    0.736737    False  \n110671  0.326326    0.282783    False  \n110672  0.708709    0.736737    False  \n110673  0.359860    0.379379    False  \n110674  0.504505    0.589089    False  \n\n[109274 rows x 22 columns]",
      "text/html": "<div>\n<style scoped>\n    .dataframe tbody tr th:only-of-type {\n        vertical-align: middle;\n    }\n\n    .dataframe tbody tr th {\n        vertical-align: top;\n    }\n\n    .dataframe thead th {\n        text-align: right;\n    }\n</style>\n<table border=\"1\" class=\"dataframe\">\n  <thead>\n    <tr style=\"text-align: right;\">\n      <th></th>\n      <th>branchCount</th>\n      <th>lOComment</th>\n      <th>l</th>\n      <th>v</th>\n      <th>v(g)</th>\n      <th>locCodeAndComment</th>\n      <th>uniq_Opnd</th>\n      <th>e</th>\n      <th>ev(g)</th>\n      <th>uniq_Op</th>\n      <th>...</th>\n      <th>t</th>\n      <th>lOCode</th>\n      <th>loc</th>\n      <th>n</th>\n      <th>i</th>\n      <th>b</th>\n      <th>iv(g)</th>\n      <th>total_Op</th>\n      <th>total_Opnd</th>\n      <th>defects</th>\n    </tr>\n  </thead>\n  <tbody>\n    <tr>\n      <th>0</th>\n      <td>0.447447</td>\n      <td>0.747247</td>\n      <td>0.369870</td>\n      <td>0.561052</td>\n      <td>0.440941</td>\n      <td>0.000000</td>\n      <td>0.372873</td>\n      <td>0.643644</td>\n      <td>0.0</td>\n      <td>0.755756</td>\n      <td>...</td>\n      <td>0.639643</td>\n      <td>0.592593</td>\n      <td>0.477978</td>\n      <td>0.563564</td>\n      <td>0.208466</td>\n      <td>0.549550</td>\n      <td>0.412913</td>\n      <td>0.577077</td>\n      <td>0.519019</td>\n      <td>False</td>\n    </tr>\n    <tr>\n      <th>1</th>\n      <td>0.259760</td>\n      <td>0.000000</td>\n      <td>0.737237</td>\n      <td>0.361361</td>\n      <td>0.256256</td>\n      <td>0.000000</td>\n      <td>0.465465</td>\n      <td>0.327711</td>\n      <td>0.0</td>\n      <td>0.463964</td>\n      <td>...</td>\n      <td>0.327972</td>\n      <td>0.420921</td>\n      <td>0.279780</td>\n      <td>0.331832</td>\n      <td>0.436436</td>\n      <td>0.355856</td>\n      <td>0.412913</td>\n      <td>0.309810</td>\n      <td>0.354354</td>\n      <td>False</td>\n    </tr>\n    <tr>\n      <th>2</th>\n      <td>0.259760</td>\n      <td>0.000000</td>\n      <td>0.620621</td>\n      <td>0.448949</td>\n      <td>0.256256</td>\n      <td>0.000000</td>\n      <td>0.465465</td>\n      <td>0.450299</td>\n      <td>0.0</td>\n      <td>0.540040</td>\n      <td>...</td>\n      <td>0.447915</td>\n      <td>0.301301</td>\n      <td>0.191692</td>\n      <td>0.457958</td>\n      <td>0.483483</td>\n      <td>0.464965</td>\n      <td>0.412913</td>\n      <td>0.465465</td>\n      <td>0.426426</td>\n      <td>False</td>\n    </tr>\n    <tr>\n      <th>3</th>\n      <td>0.000000</td>\n      <td>0.000000</td>\n      <td>0.847347</td>\n      <td>0.243744</td>\n      <td>0.000000</td>\n      <td>0.000000</td>\n      <td>0.213714</td>\n      <td>0.222803</td>\n      <td>0.0</td>\n      <td>0.259259</td>\n      <td>...</td>\n      <td>0.223223</td>\n      <td>0.149149</td>\n      <td>0.102603</td>\n      <td>0.229730</td>\n      <td>0.331665</td>\n      <td>0.231231</td>\n      <td>0.000000</td>\n      <td>0.274775</td>\n      <td>0.171171</td>\n      <td>True</td>\n    </tr>\n    <tr>\n      <th>4</th>\n      <td>0.259760</td>\n      <td>0.000000</td>\n      <td>0.830330</td>\n      <td>0.158158</td>\n      <td>0.256256</td>\n      <td>0.000000</td>\n      <td>0.213714</td>\n      <td>0.198198</td>\n      <td>0.0</td>\n      <td>0.201702</td>\n      <td>...</td>\n      <td>0.198699</td>\n      <td>0.261762</td>\n      <td>0.191692</td>\n      <td>0.159159</td>\n      <td>0.150150</td>\n      <td>0.156156</td>\n      <td>0.412913</td>\n      <td>0.161161</td>\n      <td>0.258258</td>\n      <td>False</td>\n    </tr>\n    <tr>\n      <th>...</th>\n      <td>...</td>\n      <td>...</td>\n      <td>...</td>\n      <td>...</td>\n      <td>...</td>\n      <td>...</td>\n      <td>...</td>\n      <td>...</td>\n      <td>...</td>\n      <td>...</td>\n      <td>...</td>\n      <td>...</td>\n      <td>...</td>\n      <td>...</td>\n      <td>...</td>\n      <td>...</td>\n      <td>...</td>\n      <td>...</td>\n      <td>...</td>\n      <td>...</td>\n      <td>...</td>\n    </tr>\n    <tr>\n      <th>110669</th>\n      <td>0.259760</td>\n      <td>0.000000</td>\n      <td>0.481481</td>\n      <td>0.694059</td>\n      <td>0.256256</td>\n      <td>0.000000</td>\n      <td>0.753253</td>\n      <td>0.652503</td>\n      <td>0.0</td>\n      <td>0.463964</td>\n      <td>...</td>\n      <td>0.648203</td>\n      <td>0.615115</td>\n      <td>0.524024</td>\n      <td>0.706206</td>\n      <td>0.804073</td>\n      <td>0.703203</td>\n      <td>0.412913</td>\n      <td>0.666166</td>\n      <td>0.736737</td>\n      <td>False</td>\n    </tr>\n    <tr>\n      <th>110671</th>\n      <td>0.259760</td>\n      <td>0.000000</td>\n      <td>0.664164</td>\n      <td>0.316316</td>\n      <td>0.256256</td>\n      <td>0.000000</td>\n      <td>0.324825</td>\n      <td>0.352316</td>\n      <td>0.0</td>\n      <td>0.540040</td>\n      <td>...</td>\n      <td>0.352699</td>\n      <td>0.183684</td>\n      <td>0.131131</td>\n      <td>0.313814</td>\n      <td>0.258150</td>\n      <td>0.297798</td>\n      <td>0.412913</td>\n      <td>0.326326</td>\n      <td>0.282783</td>\n      <td>False</td>\n    </tr>\n    <tr>\n      <th>110672</th>\n      <td>0.573574</td>\n      <td>0.747247</td>\n      <td>0.221221</td>\n      <td>0.718622</td>\n      <td>0.568569</td>\n      <td>0.000000</td>\n      <td>0.624124</td>\n      <td>0.795790</td>\n      <td>0.0</td>\n      <td>0.834334</td>\n      <td>...</td>\n      <td>0.792231</td>\n      <td>0.777277</td>\n      <td>0.740741</td>\n      <td>0.734234</td>\n      <td>0.390390</td>\n      <td>0.720721</td>\n      <td>0.412913</td>\n      <td>0.708709</td>\n      <td>0.736737</td>\n      <td>False</td>\n    </tr>\n    <tr>\n      <th>110673</th>\n      <td>0.000000</td>\n      <td>0.000000</td>\n      <td>0.664164</td>\n      <td>0.352352</td>\n      <td>0.000000</td>\n      <td>0.000000</td>\n      <td>0.324825</td>\n      <td>0.377547</td>\n      <td>0.0</td>\n      <td>0.323824</td>\n      <td>...</td>\n      <td>0.378893</td>\n      <td>0.221722</td>\n      <td>0.160661</td>\n      <td>0.374374</td>\n      <td>0.316459</td>\n      <td>0.355856</td>\n      <td>0.000000</td>\n      <td>0.359860</td>\n      <td>0.379379</td>\n      <td>False</td>\n    </tr>\n    <tr>\n      <th>110674</th>\n      <td>0.447447</td>\n      <td>0.000000</td>\n      <td>0.530531</td>\n      <td>0.554555</td>\n      <td>0.440941</td>\n      <td>0.935936</td>\n      <td>0.590090</td>\n      <td>0.555556</td>\n      <td>0.0</td>\n      <td>0.540040</td>\n      <td>...</td>\n      <td>0.554555</td>\n      <td>0.480981</td>\n      <td>0.409910</td>\n      <td>0.551552</td>\n      <td>0.507421</td>\n      <td>0.549550</td>\n      <td>0.000000</td>\n      <td>0.504505</td>\n      <td>0.589089</td>\n      <td>False</td>\n    </tr>\n  </tbody>\n</table>\n<p>109274 rows × 22 columns</p>\n</div>"
     },
     "execution_count": 8,
     "metadata": {},
     "output_type": "execute_result"
    }
   ],
   "source": [
    "# df_train.dropna(axis=0,inplace=True)\n",
    "# df_train"
   ]
  },
  {
   "cell_type": "markdown",
   "metadata": {
    "ExecuteTime": {
     "end_time": "2023-10-23T06:30:44.693999Z",
     "start_time": "2023-10-23T06:30:44.646606Z"
    }
   },
   "source": [
    "## iqr outlier detection"
   ]
  },
  {
   "cell_type": "code",
   "execution_count": 9,
   "metadata": {
    "ExecuteTime": {
     "end_time": "2023-10-23T05:22:15.764725Z",
     "start_time": "2023-10-23T05:22:15.762120Z"
    }
   },
   "outputs": [],
   "source": [
    "# def iqr_outlier_detection(data):\n",
    "# \n",
    "#     q1, q3 = np.percentile(data, [25, 75])\n",
    "#  \n",
    "#     iqr = q3 - q1\n",
    "# \n",
    "#     threshold = iqr * 1.5\n",
    "#     outliers = [x for x in data if x < q1 - threshold or x > q3 + threshold]\n",
    "# \n",
    "#     data_filtered = data[~np.isin(data, outliers)]\n",
    "# \n",
    "#     return data_filtered\n"
   ]
  },
  {
   "cell_type": "code",
   "execution_count": 10,
   "metadata": {
    "ExecuteTime": {
     "end_time": "2023-10-23T05:22:39.125056Z",
     "start_time": "2023-10-23T05:22:16.242832Z"
    }
   },
   "outputs": [],
   "source": [
    "# for col in df_train.columns:\n",
    "#   iqr_outlier_detection(df_train[col])\n"
   ]
  },
  {
   "cell_type": "markdown",
   "source": [
    "## Feature Engineering Tryout by jinsoolve"
   ],
   "metadata": {
    "collapsed": false
   }
  },
  {
   "cell_type": "code",
   "execution_count": 12,
   "metadata": {
    "ExecuteTime": {
     "end_time": "2023-10-23T05:22:39.143202Z",
     "start_time": "2023-10-23T05:22:39.130150Z"
    }
   },
   "outputs": [],
   "source": [
    "df_test['l']  = 1.0 - df_test['l']\n",
    "df_train['l'] = 1.0 - df_train['l']\n"
   ]
  },
  {
   "cell_type": "code",
   "execution_count": 13,
   "metadata": {
    "ExecuteTime": {
     "end_time": "2023-10-23T05:22:39.182494Z",
     "start_time": "2023-10-23T05:22:39.135523Z"
    }
   },
   "outputs": [],
   "source": [
    "# def add_feat(X):\n",
    "#     df = X.copy()\n",
    "#     df[\"mean_bnv\"] = (df[\"n\"] + df[\"v\"] + df[\"b\"]) / 3\n",
    "#     df[\"mean_uniqOpOpend\"] = (df[\"uniq_Op\"] + df[\"uniq_Opnd\"]) / 2\n",
    "#     df[\"mean_totOpOpend\"] = (df[\"total_Op\"] + df[\"total_Opnd\"]) / 2\n",
    "#     df[\"mean_brcntvg\"] = (df[\"branchCount\"] + df[\"v(g)\"]) / 2\n",
    "#     return df\n",
    "# \n",
    "# \n",
    "# df_train = add_feat(df_train)\n",
    "# df_test = add_feat(df_test)\n",
    "# \n",
    "# ### HERE ###############\n",
    "# df_train.dropna(axis=0,inplace=True)\n",
    "# ### HERE ###############\n"
   ]
  },
  {
   "cell_type": "markdown",
   "source": [
    "### Log\n",
    "로그 변홤과 정규화를 시키고 PCA(주성분 분석)을 하여 데이터 차원을 축소시킨다."
   ],
   "metadata": {
    "collapsed": false
   }
  },
  {
   "cell_type": "code",
   "execution_count": 6,
   "outputs": [
    {
     "data": {
      "text/plain": "Pipeline(steps=[('log-tran',\n                 ColumnTransformer(transformers=[('log',\n                                                  FunctionTransformer(func=<ufunc 'log1p'>),\n                                                  ['loc', 'v(g)', 'ev(g)',\n                                                   'iv(g)', 'n', 'v', 'l', 'd',\n                                                   'i', 'e', 'b', 't', 'lOCode',\n                                                   'lOComment', 'lOBlank',\n                                                   'locCodeAndComment',\n                                                   'uniq_Op', 'uniq_Opnd',\n                                                   'total_Op', 'total_Opnd',\n                                                   'branchCount'])])),\n                ('stand', StandardScaler()), ('pca', PCA())])",
      "text/html": "<style>#sk-container-id-1 {color: black;}#sk-container-id-1 pre{padding: 0;}#sk-container-id-1 div.sk-toggleable {background-color: white;}#sk-container-id-1 label.sk-toggleable__label {cursor: pointer;display: block;width: 100%;margin-bottom: 0;padding: 0.3em;box-sizing: border-box;text-align: center;}#sk-container-id-1 label.sk-toggleable__label-arrow:before {content: \"▸\";float: left;margin-right: 0.25em;color: #696969;}#sk-container-id-1 label.sk-toggleable__label-arrow:hover:before {color: black;}#sk-container-id-1 div.sk-estimator:hover label.sk-toggleable__label-arrow:before {color: black;}#sk-container-id-1 div.sk-toggleable__content {max-height: 0;max-width: 0;overflow: hidden;text-align: left;background-color: #f0f8ff;}#sk-container-id-1 div.sk-toggleable__content pre {margin: 0.2em;color: black;border-radius: 0.25em;background-color: #f0f8ff;}#sk-container-id-1 input.sk-toggleable__control:checked~div.sk-toggleable__content {max-height: 200px;max-width: 100%;overflow: auto;}#sk-container-id-1 input.sk-toggleable__control:checked~label.sk-toggleable__label-arrow:before {content: \"▾\";}#sk-container-id-1 div.sk-estimator input.sk-toggleable__control:checked~label.sk-toggleable__label {background-color: #d4ebff;}#sk-container-id-1 div.sk-label input.sk-toggleable__control:checked~label.sk-toggleable__label {background-color: #d4ebff;}#sk-container-id-1 input.sk-hidden--visually {border: 0;clip: rect(1px 1px 1px 1px);clip: rect(1px, 1px, 1px, 1px);height: 1px;margin: -1px;overflow: hidden;padding: 0;position: absolute;width: 1px;}#sk-container-id-1 div.sk-estimator {font-family: monospace;background-color: #f0f8ff;border: 1px dotted black;border-radius: 0.25em;box-sizing: border-box;margin-bottom: 0.5em;}#sk-container-id-1 div.sk-estimator:hover {background-color: #d4ebff;}#sk-container-id-1 div.sk-parallel-item::after {content: \"\";width: 100%;border-bottom: 1px solid gray;flex-grow: 1;}#sk-container-id-1 div.sk-label:hover label.sk-toggleable__label {background-color: #d4ebff;}#sk-container-id-1 div.sk-serial::before {content: \"\";position: absolute;border-left: 1px solid gray;box-sizing: border-box;top: 0;bottom: 0;left: 50%;z-index: 0;}#sk-container-id-1 div.sk-serial {display: flex;flex-direction: column;align-items: center;background-color: white;padding-right: 0.2em;padding-left: 0.2em;position: relative;}#sk-container-id-1 div.sk-item {position: relative;z-index: 1;}#sk-container-id-1 div.sk-parallel {display: flex;align-items: stretch;justify-content: center;background-color: white;position: relative;}#sk-container-id-1 div.sk-item::before, #sk-container-id-1 div.sk-parallel-item::before {content: \"\";position: absolute;border-left: 1px solid gray;box-sizing: border-box;top: 0;bottom: 0;left: 50%;z-index: -1;}#sk-container-id-1 div.sk-parallel-item {display: flex;flex-direction: column;z-index: 1;position: relative;background-color: white;}#sk-container-id-1 div.sk-parallel-item:first-child::after {align-self: flex-end;width: 50%;}#sk-container-id-1 div.sk-parallel-item:last-child::after {align-self: flex-start;width: 50%;}#sk-container-id-1 div.sk-parallel-item:only-child::after {width: 0;}#sk-container-id-1 div.sk-dashed-wrapped {border: 1px dashed gray;margin: 0 0.4em 0.5em 0.4em;box-sizing: border-box;padding-bottom: 0.4em;background-color: white;}#sk-container-id-1 div.sk-label label {font-family: monospace;font-weight: bold;display: inline-block;line-height: 1.2em;}#sk-container-id-1 div.sk-label-container {text-align: center;}#sk-container-id-1 div.sk-container {/* jupyter's `normalize.less` sets `[hidden] { display: none; }` but bootstrap.min.css set `[hidden] { display: none !important; }` so we also need the `!important` here to be able to override the default hidden behavior on the sphinx rendered scikit-learn.org. See: https://github.com/scikit-learn/scikit-learn/issues/21755 */display: inline-block !important;position: relative;}#sk-container-id-1 div.sk-text-repr-fallback {display: none;}</style><div id=\"sk-container-id-1\" class=\"sk-top-container\"><div class=\"sk-text-repr-fallback\"><pre>Pipeline(steps=[(&#x27;log-tran&#x27;,\n                 ColumnTransformer(transformers=[(&#x27;log&#x27;,\n                                                  FunctionTransformer(func=&lt;ufunc &#x27;log1p&#x27;&gt;),\n                                                  [&#x27;loc&#x27;, &#x27;v(g)&#x27;, &#x27;ev(g)&#x27;,\n                                                   &#x27;iv(g)&#x27;, &#x27;n&#x27;, &#x27;v&#x27;, &#x27;l&#x27;, &#x27;d&#x27;,\n                                                   &#x27;i&#x27;, &#x27;e&#x27;, &#x27;b&#x27;, &#x27;t&#x27;, &#x27;lOCode&#x27;,\n                                                   &#x27;lOComment&#x27;, &#x27;lOBlank&#x27;,\n                                                   &#x27;locCodeAndComment&#x27;,\n                                                   &#x27;uniq_Op&#x27;, &#x27;uniq_Opnd&#x27;,\n                                                   &#x27;total_Op&#x27;, &#x27;total_Opnd&#x27;,\n                                                   &#x27;branchCount&#x27;])])),\n                (&#x27;stand&#x27;, StandardScaler()), (&#x27;pca&#x27;, PCA())])</pre><b>In a Jupyter environment, please rerun this cell to show the HTML representation or trust the notebook. <br />On GitHub, the HTML representation is unable to render, please try loading this page with nbviewer.org.</b></div><div class=\"sk-container\" hidden><div class=\"sk-item sk-dashed-wrapped\"><div class=\"sk-label-container\"><div class=\"sk-label sk-toggleable\"><input class=\"sk-toggleable__control sk-hidden--visually\" id=\"sk-estimator-id-1\" type=\"checkbox\" ><label for=\"sk-estimator-id-1\" class=\"sk-toggleable__label sk-toggleable__label-arrow\">Pipeline</label><div class=\"sk-toggleable__content\"><pre>Pipeline(steps=[(&#x27;log-tran&#x27;,\n                 ColumnTransformer(transformers=[(&#x27;log&#x27;,\n                                                  FunctionTransformer(func=&lt;ufunc &#x27;log1p&#x27;&gt;),\n                                                  [&#x27;loc&#x27;, &#x27;v(g)&#x27;, &#x27;ev(g)&#x27;,\n                                                   &#x27;iv(g)&#x27;, &#x27;n&#x27;, &#x27;v&#x27;, &#x27;l&#x27;, &#x27;d&#x27;,\n                                                   &#x27;i&#x27;, &#x27;e&#x27;, &#x27;b&#x27;, &#x27;t&#x27;, &#x27;lOCode&#x27;,\n                                                   &#x27;lOComment&#x27;, &#x27;lOBlank&#x27;,\n                                                   &#x27;locCodeAndComment&#x27;,\n                                                   &#x27;uniq_Op&#x27;, &#x27;uniq_Opnd&#x27;,\n                                                   &#x27;total_Op&#x27;, &#x27;total_Opnd&#x27;,\n                                                   &#x27;branchCount&#x27;])])),\n                (&#x27;stand&#x27;, StandardScaler()), (&#x27;pca&#x27;, PCA())])</pre></div></div></div><div class=\"sk-serial\"><div class=\"sk-item sk-dashed-wrapped\"><div class=\"sk-label-container\"><div class=\"sk-label sk-toggleable\"><input class=\"sk-toggleable__control sk-hidden--visually\" id=\"sk-estimator-id-2\" type=\"checkbox\" ><label for=\"sk-estimator-id-2\" class=\"sk-toggleable__label sk-toggleable__label-arrow\">log-tran: ColumnTransformer</label><div class=\"sk-toggleable__content\"><pre>ColumnTransformer(transformers=[(&#x27;log&#x27;,\n                                 FunctionTransformer(func=&lt;ufunc &#x27;log1p&#x27;&gt;),\n                                 [&#x27;loc&#x27;, &#x27;v(g)&#x27;, &#x27;ev(g)&#x27;, &#x27;iv(g)&#x27;, &#x27;n&#x27;, &#x27;v&#x27;,\n                                  &#x27;l&#x27;, &#x27;d&#x27;, &#x27;i&#x27;, &#x27;e&#x27;, &#x27;b&#x27;, &#x27;t&#x27;, &#x27;lOCode&#x27;,\n                                  &#x27;lOComment&#x27;, &#x27;lOBlank&#x27;, &#x27;locCodeAndComment&#x27;,\n                                  &#x27;uniq_Op&#x27;, &#x27;uniq_Opnd&#x27;, &#x27;total_Op&#x27;,\n                                  &#x27;total_Opnd&#x27;, &#x27;branchCount&#x27;])])</pre></div></div></div><div class=\"sk-parallel\"><div class=\"sk-parallel-item\"><div class=\"sk-item\"><div class=\"sk-label-container\"><div class=\"sk-label sk-toggleable\"><input class=\"sk-toggleable__control sk-hidden--visually\" id=\"sk-estimator-id-3\" type=\"checkbox\" ><label for=\"sk-estimator-id-3\" class=\"sk-toggleable__label sk-toggleable__label-arrow\">log</label><div class=\"sk-toggleable__content\"><pre>[&#x27;loc&#x27;, &#x27;v(g)&#x27;, &#x27;ev(g)&#x27;, &#x27;iv(g)&#x27;, &#x27;n&#x27;, &#x27;v&#x27;, &#x27;l&#x27;, &#x27;d&#x27;, &#x27;i&#x27;, &#x27;e&#x27;, &#x27;b&#x27;, &#x27;t&#x27;, &#x27;lOCode&#x27;, &#x27;lOComment&#x27;, &#x27;lOBlank&#x27;, &#x27;locCodeAndComment&#x27;, &#x27;uniq_Op&#x27;, &#x27;uniq_Opnd&#x27;, &#x27;total_Op&#x27;, &#x27;total_Opnd&#x27;, &#x27;branchCount&#x27;]</pre></div></div></div><div class=\"sk-serial\"><div class=\"sk-item\"><div class=\"sk-estimator sk-toggleable\"><input class=\"sk-toggleable__control sk-hidden--visually\" id=\"sk-estimator-id-4\" type=\"checkbox\" ><label for=\"sk-estimator-id-4\" class=\"sk-toggleable__label sk-toggleable__label-arrow\">FunctionTransformer</label><div class=\"sk-toggleable__content\"><pre>FunctionTransformer(func=&lt;ufunc &#x27;log1p&#x27;&gt;)</pre></div></div></div></div></div></div></div></div><div class=\"sk-item\"><div class=\"sk-estimator sk-toggleable\"><input class=\"sk-toggleable__control sk-hidden--visually\" id=\"sk-estimator-id-5\" type=\"checkbox\" ><label for=\"sk-estimator-id-5\" class=\"sk-toggleable__label sk-toggleable__label-arrow\">StandardScaler</label><div class=\"sk-toggleable__content\"><pre>StandardScaler()</pre></div></div></div><div class=\"sk-item\"><div class=\"sk-estimator sk-toggleable\"><input class=\"sk-toggleable__control sk-hidden--visually\" id=\"sk-estimator-id-6\" type=\"checkbox\" ><label for=\"sk-estimator-id-6\" class=\"sk-toggleable__label sk-toggleable__label-arrow\">PCA</label><div class=\"sk-toggleable__content\"><pre>PCA()</pre></div></div></div></div></div></div></div>"
     },
     "execution_count": 6,
     "metadata": {},
     "output_type": "execute_result"
    }
   ],
   "source": [
    "from sklearn.preprocessing import StandardScaler\n",
    "from sklearn.compose import ColumnTransformer\n",
    "from sklearn.preprocessing import FunctionTransformer\n",
    "from sklearn.decomposition import PCA\n",
    "from sklearn.pipeline import Pipeline\n",
    "\n",
    "colnames = df_train.drop(columns = ['defects'], axis = 1).columns.tolist()\n",
    "\n",
    "pca_md = Pipeline([('log-tran', ColumnTransformer([('log', FunctionTransformer(np.log1p), colnames)])), \n",
    "                   ('stand', StandardScaler()), \n",
    "                   ('pca', PCA())]).fit(df_train[colnames])\n",
    "\n",
    "pca_md"
   ],
   "metadata": {
    "collapsed": false,
    "ExecuteTime": {
     "end_time": "2023-10-23T06:41:31.415729Z",
     "start_time": "2023-10-23T06:41:31.295562Z"
    }
   }
  },
  {
   "cell_type": "markdown",
   "source": [
    "### K-means Clustering\n",
    "\"클러스터\"는 데이터 마이닝 및 기계 학습에서 사용되는 용어로, 유사한 데이터 포인트의 그룹을 나타냅니다.  \n",
    "클러스터링은 비슷한 데이터를 그룹화하여 패턴을 발견하거나 데이터를 간소화하는 비지도 학습 방법 중 하나입니다."
   ],
   "metadata": {
    "collapsed": false
   }
  },
  {
   "cell_type": "code",
   "execution_count": 10,
   "outputs": [
    {
     "name": "stderr",
     "output_type": "stream",
     "text": [
      "100%|██████████| 19/19 [00:28<00:00,  1.49s/it]\n"
     ]
    },
    {
     "data": {
      "text/plain": "<Figure size 640x480 with 1 Axes>",
      "image/png": "[encoded data removed]"
     },
     "metadata": {},
     "output_type": "display_data"
    }
   ],
   "source": [
    "from sklearn.cluster import KMeans\n",
    "\n",
    "inertias = list()\n",
    "\n",
    "for i in tqdm(range(2, 21)):\n",
    "\n",
    "    kmeans_md = Pipeline([('log-tran', ColumnTransformer([('log', FunctionTransformer(np.log1p), colnames)])), \n",
    "                          ('stand', StandardScaler()), \n",
    "                          ('kmeans', KMeans(n_clusters = i, n_init = 20, random_state = 42))]).fit(df_train[colnames])\n",
    "\n",
    "    inertias.append(kmeans_md['kmeans'].inertia_)\n",
    "    \n",
    "sns.lineplot(x = [i for i in range(2, 21)], y = inertias, color = 'steelblue')\n",
    "plt.xlabel('Number of Clusters')\n",
    "plt.ylabel('Cluster Inertia');"
   ],
   "metadata": {
    "collapsed": false,
    "ExecuteTime": {
     "end_time": "2023-10-23T06:47:51.989644Z",
     "start_time": "2023-10-23T06:47:23.630156Z"
    }
   }
  },
  {
   "cell_type": "code",
   "execution_count": 15,
   "outputs": [
    {
     "name": "stdout",
     "output_type": "stream",
     "text": [
      "The proportion of defects in each of the clusters is \n",
      "\n",
      "cluster\n",
      "0    0.109429\n",
      "1    0.471916\n",
      "2    0.641147\n",
      "3    0.077083\n",
      "4    0.301682\n",
      "Name: defects, dtype: float64\n"
     ]
    }
   ],
   "source": [
    "kmeans = Pipeline([('log-tran', ColumnTransformer([('log', FunctionTransformer(np.log1p), colnames)])), \n",
    "                   ('stand', StandardScaler()), \n",
    "                   ('kmeans', KMeans(n_clusters = 5, n_init = 20, random_state = 42))]).fit(df_train[colnames])\n",
    "\n",
    "df_train['cluster'] = kmeans['kmeans'].labels_\n",
    "\n",
    "print('The proportion of defects in each of the clusters is \\n')\n",
    "print(df_train.groupby('cluster')['defects'].mean())"
   ],
   "metadata": {
    "collapsed": false,
    "ExecuteTime": {
     "end_time": "2023-10-23T06:50:05.736791Z",
     "start_time": "2023-10-23T06:50:04.939881Z"
    }
   }
  },
  {
   "cell_type": "code",
   "execution_count": 16,
   "outputs": [
    {
     "data": {
      "text/plain": "loc                   378\nv(g)                  106\nev(g)                  71\niv(g)                  84\nn                     836\nv                    4515\nl                      55\nd                    3360\ni                    5171\ne                    8729\nb                     315\nt                    8608\nlOCode                298\nlOComment              91\nlOBlank                94\nlocCodeAndComment      29\nuniq_Op                70\nuniq_Opnd             176\ntotal_Op              623\ntotal_Opnd            485\nbranchCount           144\ndefects                 2\ncluster                 5\ndtype: int64"
     },
     "execution_count": 16,
     "metadata": {},
     "output_type": "execute_result"
    }
   ],
   "source": [
    "df_train.nunique()"
   ],
   "metadata": {
    "collapsed": false,
    "ExecuteTime": {
     "end_time": "2023-10-23T06:50:07.539033Z",
     "start_time": "2023-10-23T06:50:07.510652Z"
    }
   }
  },
  {
   "cell_type": "code",
   "execution_count": null,
   "outputs": [],
   "source": [],
   "metadata": {
    "collapsed": false
   }
  },
  {
   "cell_type": "code",
   "execution_count": null,
   "outputs": [],
   "source": [],
   "metadata": {
    "collapsed": false
   }
  },
  {
   "cell_type": "code",
   "execution_count": null,
   "outputs": [],
   "source": [],
   "metadata": {
    "collapsed": false
   }
  },
  {
   "cell_type": "code",
   "execution_count": null,
   "outputs": [],
   "source": [],
   "metadata": {
    "collapsed": false
   }
  },
  {
   "cell_type": "markdown",
   "source": [
    "# Modeling"
   ],
   "metadata": {
    "collapsed": false
   }
  },
  {
   "cell_type": "code",
   "execution_count": 17,
   "outputs": [
    {
     "data": {
      "text/plain": "          loc  v(g)  ev(g)  iv(g)      n        v     l      d      i  \\\nid                                                                      \n0        22.0   3.0    1.0    2.0   60.0   278.63  0.06  19.56  14.25   \n1        14.0   2.0    1.0    2.0   32.0   151.27  0.14   7.00  21.11   \n2        11.0   2.0    1.0    2.0   45.0   197.65  0.11   8.05  22.76   \n3         8.0   1.0    1.0    1.0   23.0    94.01  0.19   5.25  17.86   \n4        11.0   2.0    1.0    2.0   17.0    60.94  0.18   5.63  12.44   \n...       ...   ...    ...    ...    ...      ...   ...    ...    ...   \n101758   10.0   2.0    1.0    1.0   28.0   122.98  0.15   6.60  18.63   \n101759   27.0   5.0    4.0    1.0  107.0   559.93  0.06  18.00  34.17   \n101760   26.0   1.0    1.0    1.0   83.0   360.17  0.04  22.75  12.56   \n101761   10.0   2.0    1.0    2.0   43.0   191.76  0.15   6.46  29.53   \n101762  136.0  18.0   18.0    1.0  296.0  1704.57  0.02  44.82  44.08   \n\n               e  ...        t  lOCode  lOComment  lOBlank  locCodeAndComment  \\\nid                ...                                                           \n0        5448.79  ...   302.71      17          1        1                  0   \n1         936.71  ...    52.04      11          0        1                  0   \n2        1754.01  ...    97.45       8          0        1                  0   \n3         473.66  ...    26.31       4          0        2                  0   \n4         365.67  ...    20.31       7          0        2                  0   \n...          ...  ...      ...     ...        ...      ...                ...   \n101758    811.70  ...    45.09       7          0        1                  0   \n101759  11268.27  ...   626.01      23          0        2                  0   \n101760   5893.69  ...   327.43      20          0        4                  0   \n101761   1534.04  ...    85.22       7          0        1                  0   \n101762  77011.02  ...  4278.43     102          1       11                  0   \n\n        uniq_Op  uniq_Opnd  total_Op  total_Opnd  branchCount  \nid                                                             \n0          16.0        9.0      38.0        22.0          5.0  \n1          11.0       11.0      18.0        14.0          3.0  \n2          12.0       11.0      28.0        17.0          3.0  \n3           8.0        6.0      16.0         7.0          1.0  \n4           7.0        6.0      10.0        10.0          3.0  \n...         ...        ...       ...         ...          ...  \n101758     11.0        8.0      16.0        12.0          3.0  \n101759     18.0       20.0      67.0        40.0          9.0  \n101760     10.0        8.0      51.0        28.0          1.0  \n101761     11.0       14.0      24.0        19.0          3.0  \n101762     22.0       31.0     162.0       135.0         35.0  \n\n[101763 rows x 21 columns]",
      "text/html": "<div>\n<style scoped>\n    .dataframe tbody tr th:only-of-type {\n        vertical-align: middle;\n    }\n\n    .dataframe tbody tr th {\n        vertical-align: top;\n    }\n\n    .dataframe thead th {\n        text-align: right;\n    }\n</style>\n<table border=\"1\" class=\"dataframe\">\n  <thead>\n    <tr style=\"text-align: right;\">\n      <th></th>\n      <th>loc</th>\n      <th>v(g)</th>\n      <th>ev(g)</th>\n      <th>iv(g)</th>\n      <th>n</th>\n      <th>v</th>\n      <th>l</th>\n      <th>d</th>\n      <th>i</th>\n      <th>e</th>\n      <th>...</th>\n      <th>t</th>\n      <th>lOCode</th>\n      <th>lOComment</th>\n      <th>lOBlank</th>\n      <th>locCodeAndComment</th>\n      <th>uniq_Op</th>\n      <th>uniq_Opnd</th>\n      <th>total_Op</th>\n      <th>total_Opnd</th>\n      <th>branchCount</th>\n    </tr>\n    <tr>\n      <th>id</th>\n      <th></th>\n      <th></th>\n      <th></th>\n      <th></th>\n      <th></th>\n      <th></th>\n      <th></th>\n      <th></th>\n      <th></th>\n      <th></th>\n      <th></th>\n      <th></th>\n      <th></th>\n      <th></th>\n      <th></th>\n      <th></th>\n      <th></th>\n      <th></th>\n      <th></th>\n      <th></th>\n      <th></th>\n    </tr>\n  </thead>\n  <tbody>\n    <tr>\n      <th>0</th>\n      <td>22.0</td>\n      <td>3.0</td>\n      <td>1.0</td>\n      <td>2.0</td>\n      <td>60.0</td>\n      <td>278.63</td>\n      <td>0.06</td>\n      <td>19.56</td>\n      <td>14.25</td>\n      <td>5448.79</td>\n      <td>...</td>\n      <td>302.71</td>\n      <td>17</td>\n      <td>1</td>\n      <td>1</td>\n      <td>0</td>\n      <td>16.0</td>\n      <td>9.0</td>\n      <td>38.0</td>\n      <td>22.0</td>\n      <td>5.0</td>\n    </tr>\n    <tr>\n      <th>1</th>\n      <td>14.0</td>\n      <td>2.0</td>\n      <td>1.0</td>\n      <td>2.0</td>\n      <td>32.0</td>\n      <td>151.27</td>\n      <td>0.14</td>\n      <td>7.00</td>\n      <td>21.11</td>\n      <td>936.71</td>\n      <td>...</td>\n      <td>52.04</td>\n      <td>11</td>\n      <td>0</td>\n      <td>1</td>\n      <td>0</td>\n      <td>11.0</td>\n      <td>11.0</td>\n      <td>18.0</td>\n      <td>14.0</td>\n      <td>3.0</td>\n    </tr>\n    <tr>\n      <th>2</th>\n      <td>11.0</td>\n      <td>2.0</td>\n      <td>1.0</td>\n      <td>2.0</td>\n      <td>45.0</td>\n      <td>197.65</td>\n      <td>0.11</td>\n      <td>8.05</td>\n      <td>22.76</td>\n      <td>1754.01</td>\n      <td>...</td>\n      <td>97.45</td>\n      <td>8</td>\n      <td>0</td>\n      <td>1</td>\n      <td>0</td>\n      <td>12.0</td>\n      <td>11.0</td>\n      <td>28.0</td>\n      <td>17.0</td>\n      <td>3.0</td>\n    </tr>\n    <tr>\n      <th>3</th>\n      <td>8.0</td>\n      <td>1.0</td>\n      <td>1.0</td>\n      <td>1.0</td>\n      <td>23.0</td>\n      <td>94.01</td>\n      <td>0.19</td>\n      <td>5.25</td>\n      <td>17.86</td>\n      <td>473.66</td>\n      <td>...</td>\n      <td>26.31</td>\n      <td>4</td>\n      <td>0</td>\n      <td>2</td>\n      <td>0</td>\n      <td>8.0</td>\n      <td>6.0</td>\n      <td>16.0</td>\n      <td>7.0</td>\n      <td>1.0</td>\n    </tr>\n    <tr>\n      <th>4</th>\n      <td>11.0</td>\n      <td>2.0</td>\n      <td>1.0</td>\n      <td>2.0</td>\n      <td>17.0</td>\n      <td>60.94</td>\n      <td>0.18</td>\n      <td>5.63</td>\n      <td>12.44</td>\n      <td>365.67</td>\n      <td>...</td>\n      <td>20.31</td>\n      <td>7</td>\n      <td>0</td>\n      <td>2</td>\n      <td>0</td>\n      <td>7.0</td>\n      <td>6.0</td>\n      <td>10.0</td>\n      <td>10.0</td>\n      <td>3.0</td>\n    </tr>\n    <tr>\n      <th>...</th>\n      <td>...</td>\n      <td>...</td>\n      <td>...</td>\n      <td>...</td>\n      <td>...</td>\n      <td>...</td>\n      <td>...</td>\n      <td>...</td>\n      <td>...</td>\n      <td>...</td>\n      <td>...</td>\n      <td>...</td>\n      <td>...</td>\n      <td>...</td>\n      <td>...</td>\n      <td>...</td>\n      <td>...</td>\n      <td>...</td>\n      <td>...</td>\n      <td>...</td>\n      <td>...</td>\n    </tr>\n    <tr>\n      <th>101758</th>\n      <td>10.0</td>\n      <td>2.0</td>\n      <td>1.0</td>\n      <td>1.0</td>\n      <td>28.0</td>\n      <td>122.98</td>\n      <td>0.15</td>\n      <td>6.60</td>\n      <td>18.63</td>\n      <td>811.70</td>\n      <td>...</td>\n      <td>45.09</td>\n      <td>7</td>\n      <td>0</td>\n      <td>1</td>\n      <td>0</td>\n      <td>11.0</td>\n      <td>8.0</td>\n      <td>16.0</td>\n      <td>12.0</td>\n      <td>3.0</td>\n    </tr>\n    <tr>\n      <th>101759</th>\n      <td>27.0</td>\n      <td>5.0</td>\n      <td>4.0</td>\n      <td>1.0</td>\n      <td>107.0</td>\n      <td>559.93</td>\n      <td>0.06</td>\n      <td>18.00</td>\n      <td>34.17</td>\n      <td>11268.27</td>\n      <td>...</td>\n      <td>626.01</td>\n      <td>23</td>\n      <td>0</td>\n      <td>2</td>\n      <td>0</td>\n      <td>18.0</td>\n      <td>20.0</td>\n      <td>67.0</td>\n      <td>40.0</td>\n      <td>9.0</td>\n    </tr>\n    <tr>\n      <th>101760</th>\n      <td>26.0</td>\n      <td>1.0</td>\n      <td>1.0</td>\n      <td>1.0</td>\n      <td>83.0</td>\n      <td>360.17</td>\n      <td>0.04</td>\n      <td>22.75</td>\n      <td>12.56</td>\n      <td>5893.69</td>\n      <td>...</td>\n      <td>327.43</td>\n      <td>20</td>\n      <td>0</td>\n      <td>4</td>\n      <td>0</td>\n      <td>10.0</td>\n      <td>8.0</td>\n      <td>51.0</td>\n      <td>28.0</td>\n      <td>1.0</td>\n    </tr>\n    <tr>\n      <th>101761</th>\n      <td>10.0</td>\n      <td>2.0</td>\n      <td>1.0</td>\n      <td>2.0</td>\n      <td>43.0</td>\n      <td>191.76</td>\n      <td>0.15</td>\n      <td>6.46</td>\n      <td>29.53</td>\n      <td>1534.04</td>\n      <td>...</td>\n      <td>85.22</td>\n      <td>7</td>\n      <td>0</td>\n      <td>1</td>\n      <td>0</td>\n      <td>11.0</td>\n      <td>14.0</td>\n      <td>24.0</td>\n      <td>19.0</td>\n      <td>3.0</td>\n    </tr>\n    <tr>\n      <th>101762</th>\n      <td>136.0</td>\n      <td>18.0</td>\n      <td>18.0</td>\n      <td>1.0</td>\n      <td>296.0</td>\n      <td>1704.57</td>\n      <td>0.02</td>\n      <td>44.82</td>\n      <td>44.08</td>\n      <td>77011.02</td>\n      <td>...</td>\n      <td>4278.43</td>\n      <td>102</td>\n      <td>1</td>\n      <td>11</td>\n      <td>0</td>\n      <td>22.0</td>\n      <td>31.0</td>\n      <td>162.0</td>\n      <td>135.0</td>\n      <td>35.0</td>\n    </tr>\n  </tbody>\n</table>\n<p>101763 rows × 21 columns</p>\n</div>"
     },
     "execution_count": 17,
     "metadata": {},
     "output_type": "execute_result"
    }
   ],
   "source": [
    "X_train = df_train.drop(['defects', 'cluster'], axis=1)\n",
    "y_train = df_train['defects']\n",
    "X_test = df_test\n",
    "\n",
    "X_train\n"
   ],
   "metadata": {
    "collapsed": false,
    "ExecuteTime": {
     "end_time": "2023-10-23T06:52:25.291467Z",
     "start_time": "2023-10-23T06:52:25.259525Z"
    }
   }
  },
  {
   "cell_type": "code",
   "execution_count": 18,
   "outputs": [],
   "source": [
    "X_train = X_train.apply(lambda x: np.log1p(x))\n",
    "X_test = X_test.apply(lambda x: np.log1p(x))"
   ],
   "metadata": {
    "collapsed": false,
    "ExecuteTime": {
     "end_time": "2023-10-23T06:53:29.525632Z",
     "start_time": "2023-10-23T06:53:29.484056Z"
    }
   }
  },
  {
   "cell_type": "markdown",
   "source": [
    "## Evaluation Metric (AUC)"
   ],
   "metadata": {
    "collapsed": false
   }
  },
  {
   "cell_type": "code",
   "execution_count": 19,
   "outputs": [],
   "source": [
    "from sklearn.metrics import roc_auc_score, roc_curve, auc\n",
    "from sklearn.model_selection import cross_val_score\n",
    "\n",
    "def roc_auc(true_list, pred_list, figlen):\n",
    "    \n",
    "    fpr, tpr, _ = roc_curve(true_list, pred_list)    \n",
    "    roc_auc = auc(fpr, tpr)\n",
    "    print(f'\\nROC_AUC: %0.6f\\n' %roc_auc)\n",
    "    \n",
    "    if (figlen > 0):\n",
    "        sns.set()\n",
    "        plt.style.use('seaborn-whitegrid')\n",
    "        plt.figure(figsize=(figlen, figlen), facecolor='lightyellow')\n",
    "        plt.gca().set_facecolor('lightgray')\n",
    "        plt.fill_between(fpr, tpr, color='r', alpha=0.1)\n",
    "        plt.plot(fpr, tpr, color='red', lw=2, label='ROC curve')\n",
    "        plt.plot([0, 1], [0, 1], color='navy', lw=2, linestyle='--')\n",
    "        plt.xlim([-0.01, 1.0])\n",
    "        plt.ylim([0.0, 1.05])\n",
    "        plt.xlabel('False Positive Rate')\n",
    "        plt.ylabel('True Positive Rate')\n",
    "        plt.title('The area under the ROC curve\\n', fontsize=16, c='darkred')\n",
    "        plt.legend(loc=\"lower right\")\n",
    "        plt.show()"
   ],
   "metadata": {
    "collapsed": false,
    "ExecuteTime": {
     "end_time": "2023-10-23T06:53:35.755060Z",
     "start_time": "2023-10-23T06:53:35.745843Z"
    }
   }
  },
  {
   "cell_type": "markdown",
   "source": [
    "## HyperParameter Tuning"
   ],
   "metadata": {
    "collapsed": false
   }
  },
  {
   "cell_type": "code",
   "execution_count": 20,
   "outputs": [],
   "source": [
    "from bayes_opt import BayesianOptimization\n",
    "\n",
    "\n",
    "def lgbm_cl_bo(min_child_samples, colsample_bytree, learning_rate, num_leaves, reg_alpha, reg_lambda):\n",
    "    \n",
    "    params_lgbm = {}\n",
    "    params_lgbm['min_child_samples'] = round(min_child_samples)\n",
    "    params_lgbm['colsample_bytree'] = colsample_bytree\n",
    "    params_lgbm['learning_rate'] = learning_rate\n",
    "    params_lgbm['num_leaves'] = round(num_leaves)\n",
    "    params_lgbm['reg_alpha'] = reg_alpha\n",
    "    params_lgbm['reg_lambda'] = reg_lambda    \n",
    "       \n",
    "    params_lgbm['boosting_type'] ='gbdt'   # Manual optimization\n",
    "    params_lgbm['objective'] ='binary'     # Manual optimization\n",
    "    params_lgbm['subsample'] = 1.0\n",
    "    params_lgbm['max_bin'] = 1023\n",
    "    params_lgbm['n_jobs'] = -1\n",
    "    params_lgbm['verbose'] = -1\n",
    "\n",
    "    scores = cross_val_score(LGBMClassifier(**params_lgbm, random_state=2920), X_train, y_train, scoring='roc_auc', cv=5).mean()\n",
    "    score = scores.mean()\n",
    "    return score"
   ],
   "metadata": {
    "collapsed": false,
    "ExecuteTime": {
     "end_time": "2023-10-23T06:53:37.027082Z",
     "start_time": "2023-10-23T06:53:37.007090Z"
    }
   }
  },
  {
   "cell_type": "code",
   "execution_count": 21,
   "outputs": [],
   "source": [
    "params_lgbm ={'min_child_samples':(800, 1200),\n",
    "              'colsample_bytree':(0.3, 1.0),\n",
    "              'learning_rate':(0.005, 0.1),\n",
    "              'num_leaves':(20, 60),\n",
    "              'reg_alpha':(0.0, 10.0),\n",
    "              'reg_lambda':(0.0, 5.0)}\n",
    "\n",
    "# lgbm_bo = BayesianOptimization(lgbm_cl_bo, params_lgbm, random_state=2920)\n",
    "# import warnings\n",
    "# warnings.filterwarnings('ignore')\n",
    "# lgbm_bo.maximize(n_iter=30, init_points=20)"
   ],
   "metadata": {
    "collapsed": false,
    "ExecuteTime": {
     "end_time": "2023-10-23T06:53:38.535248Z",
     "start_time": "2023-10-23T06:53:38.531270Z"
    }
   }
  },
  {
   "cell_type": "markdown",
   "metadata": {},
   "source": [
    "## Hill Climbing Ensemble"
   ]
  },
  {
   "cell_type": "code",
   "execution_count": 22,
   "metadata": {
    "ExecuteTime": {
     "end_time": "2023-10-23T06:53:39.064766Z",
     "start_time": "2023-10-23T06:53:39.056085Z"
    }
   },
   "outputs": [],
   "source": [
    "def hill_climbing(x, y, x_test):\n",
    "\n",
    "    # Evaluating oof predictions\n",
    "    scores = {}\n",
    "    for col in x.columns:\n",
    "        scores[col] = roc_auc_score(y, x[col])\n",
    "\n",
    "    # Sorting the model scores\n",
    "    scores = {k: v for k, v in sorted(scores.items(), key = lambda item: item[1], reverse = True)}\n",
    "\n",
    "    # Sort oof_df and test_preds\n",
    "    x = x[list(scores.keys())]\n",
    "    x_test = x_test[list(scores.keys())]\n",
    "\n",
    "    STOP = False\n",
    "    current_best_ensemble = x.iloc[:,0]\n",
    "    current_best_test_preds = x_test.iloc[:,0]\n",
    "    MODELS = x.iloc[:,1:]\n",
    "    weight_range = np.arange(-0.5, 0.71, 0.01)\n",
    "    history = [roc_auc_score(y, current_best_ensemble)]\n",
    "    j = 0\n",
    "    while not STOP:\n",
    "        j += 1\n",
    "        potential_new_best_cv_score = roc_auc_score(y, current_best_ensemble)\n",
    "        k_best, wgt_best = None, None\n",
    "        for k in MODELS:\n",
    "            for wgt in weight_range:\n",
    "                potential_ensemble = (1 - wgt) * current_best_ensemble + wgt * MODELS[k]\n",
    "                cv_score = roc_auc_score(y, potential_ensemble)\n",
    "                if cv_score > potential_new_best_cv_score:\n",
    "                    potential_new_best_cv_score = cv_score\n",
    "                    k_best, wgt_best = k, wgt\n",
    "\n",
    "        if k_best is not None:\n",
    "            current_best_ensemble = (1 - wgt_best) * current_best_ensemble + wgt_best * MODELS[k_best]\n",
    "            current_best_test_preds = (1 - wgt_best) * current_best_test_preds + wgt_best * x_test[k_best]\n",
    "            MODELS.drop(k_best, axis = 1, inplace = True)\n",
    "            if MODELS.shape[1] == 0:\n",
    "                STOP = True\n",
    "            history.append(potential_new_best_cv_score)\n",
    "        else:\n",
    "            STOP = True\n",
    "\n",
    "    hill_ens_pred_1 = current_best_ensemble\n",
    "    hill_ens_pred_2 = current_best_test_preds\n",
    "\n",
    "    return [hill_ens_pred_1, hill_ens_pred_2]\n"
   ]
  },
  {
   "cell_type": "markdown",
   "metadata": {},
   "source": [
    "## hyperparameter sets"
   ]
  },
  {
   "cell_type": "code",
   "execution_count": 23,
   "metadata": {
    "ExecuteTime": {
     "end_time": "2023-10-23T06:53:39.651008Z",
     "start_time": "2023-10-23T06:53:39.646198Z"
    }
   },
   "outputs": [],
   "source": [
    "random_state = 43\n",
    "\n",
    "lgb_params0 = {\n",
    "    \"objective\": 'binary',\n",
    "    'metric': 'auc',\n",
    "    'boosting_type': 'dart',\n",
    "     \"n_estimators\": 1000,\n",
    "     \"max_depth\": 7,\n",
    "     \"learning_rate\":0.03,\n",
    "     \"num_leaves\": 50,\n",
    "     \"reg_alpha\":3,\n",
    "     \"reg_lambda\": 3,\n",
    "     \"subsample\": 0.7,\n",
    "     'device': 'gpu' if torch.cuda.is_available() else 'cpu',\n",
    "     \"colsample_bytree\": 0.7,\n",
    "     'verbose': -1,\n",
    "}\n",
    "\n",
    "lgb_params1 = {\n",
    "    'objective': 'binary',\n",
    "    'metric': 'auc',\n",
    "    'boosting_type': 'dart',\n",
    "    'random_state': 42,\n",
    "    'colsample_bytree': 0.50,\n",
    "    'subsample': 0.70,\n",
    "    'learning_rate': 0.0625,\n",
    "    'max_depth': -1,\n",
    "    'n_estimators': 100,\n",
    "    'num_leaves': 20,\n",
    "    'reg_alpha': 0.0001,\n",
    "    'reg_lambda': 2.0,\n",
    "    'device': 'gpu' if torch.cuda.is_available() else 'cpu',\n",
    "    'random_state': random_state,\n",
    "    'verbose': -1,  \n",
    "}\n",
    "\n",
    "lgb_params2 = {\n",
    "    'objective': 'binary',\n",
    "    'metric': 'auc',\n",
    "    'boosting_type': 'gbdt',\n",
    "    'random_state': 42,\n",
    "    'colsample_bytree': 0.50,\n",
    "    'subsample': 0.70,\n",
    "    'learning_rate': 0.0625,\n",
    "    'max_depth': -1,\n",
    "    'n_estimators': 100,\n",
    "    'num_leaves': 20,\n",
    "    'reg_alpha': 0.0001,\n",
    "    'reg_lambda': 2.0,\n",
    "    'device': 'gpu' if torch.cuda.is_available() else 'cpu',\n",
    "    'random_state': random_state,\n",
    "    'verbose': -1,\n",
    "}\n",
    "lgb_params3 = {\n",
    "    'objective': 'binary',\n",
    "    'metric': 'auc',\n",
    "    'boosting_type': 'gbdt',\n",
    "    'random_state': 42,\n",
    "    \n",
    "    'colsample_bytree': 0.5688,\n",
    "    'learning_rate': 0.07712,\n",
    "    'min_child_samples': 864,\n",
    "    'num_leaves': 23,\n",
    "    'reg_alpha': 0.6515,\n",
    "    'reg_lambda': 3.118,\n",
    "    \n",
    "    'subsample': 0.70, \n",
    "    'max_depth': -1,\n",
    "    'n_estimators': 100,\n",
    "    'device': 'gpu' if torch.cuda.is_available() else 'cpu',\n",
    "    'random_state': random_state,\n",
    "    'verbose': -1,\n",
    "}\n",
    "\n",
    "xgb_optuna0 = {\n",
    "    'n_estimators': 10000,\n",
    "    'learning_rate': 0.01752354328845971,\n",
    "    'booster': 'gbtree',\n",
    "    'lambda': 0.08159630121074074,\n",
    "    'alpha': 0.07564858712175693,\n",
    "    'subsample': 0.5065979400270813,\n",
    "    'colsample_bytree': 0.6187340851873067,\n",
    "    'max_depth': 4,\n",
    "    'min_child_weight': 5,\n",
    "    'eta': 0.2603059902806757,\n",
    "    'gamma': 0.6567360773618207,\n",
    "    'early_stopping_rounds': 100,\n",
    "    'tree_method': 'hist',\n",
    "    'random_state': random_state\n",
    "}\n",
    "\n",
    "xgb_params0 = {\n",
    "    'n_estimators': 10000,\n",
    "    'learning_rate': 0.09641232707445854,\n",
    "    'booster': 'gbtree',\n",
    "    'lambda': 4.666002223704784,\n",
    "    'alpha': 3.708175990751336,\n",
    "    'subsample': 0.6100174145229473,\n",
    "    'colsample_bytree': 0.5506821152321051,\n",
    "    'max_depth': 7,\n",
    "    'min_child_weight': 3,\n",
    "    'eta': 1.740374368661041,\n",
    "    'gamma': 0.007427363662926455,\n",
    "    'grow_policy': 'depthwise',\n",
    "    'objective': 'binary:logistic',\n",
    "    'eval_metric': 'logloss',\n",
    "    'verbosity': 0,\n",
    "    'random_state': random_state,\n",
    "    'early_stopping_rounds': 100,\n",
    "    'tree_method': 'hist',\n",
    "}\n",
    "\n",
    "xgb_params1 = {\n",
    "    'n_estimators': 10000,\n",
    "    'learning_rate': 0.012208383405206188,\n",
    "    'booster': 'gbtree',\n",
    "    'lambda': 0.009968756668882757,\n",
    "    'alpha': 0.02666266827121168,\n",
    "    'subsample': 0.7097814108897231,\n",
    "    'colsample_bytree': 0.7946945784285216,\n",
    "    'max_depth': 3,\n",
    "    'min_child_weight': 4,\n",
    "    'eta': 0.5480204506554545,\n",
    "    'gamma': 0.8788654128774149,\n",
    "    'scale_pos_weight': 4.71,\n",
    "    'objective': 'binary:logistic',\n",
    "    'eval_metric': 'logloss',\n",
    "    'early_stopping_rounds': 100,\n",
    "    'verbosity': 0,\n",
    "    'random_state': random_state,\n",
    "    'tree_method': 'hist',\n",
    "}\n",
    "\n",
    "\n",
    "\n",
    "xgb_params2 = {\n",
    "    'n_estimators': 10000,\n",
    "    'colsample_bytree': 0.5646751146007976,\n",
    "    'gamma': 7.788727238356553e-06,\n",
    "    'learning_rate': 0.1419865761603358,\n",
    "    'max_bin': 824,\n",
    "    'min_child_weight': 1,\n",
    "    'random_state': 811996,\n",
    "    'reg_alpha': 1.6259583347890365e-07,\n",
    "    'reg_lambda': 2.110691851528507e-08,\n",
    "    'subsample': 0.879020578464637,\n",
    "    'objective': 'binary:logistic',\n",
    "    'eval_metric': 'logloss',\n",
    "    'max_depth': 3,\n",
    "    'early_stopping_rounds': 100,\n",
    "    'n_jobs': -1,\n",
    "    'verbosity': 0,\n",
    "    'random_state': random_state,\n",
    "    'tree_method': 'hist',\n",
    "   # 'scale_pos_weight': scale_pos_weight\n",
    "}\n",
    "\n",
    "xgb_params3 = {\n",
    "    'n_estimators': 10000,\n",
    "    'random_state': random_state,\n",
    "    'colsample_bytree': 0.4836462317215041,\n",
    "    'eta': 0.05976752607337169,\n",
    "    'gamma': 1,\n",
    "    'lambda': 0.2976432557733288,\n",
    "    'max_depth': 6,\n",
    "    'min_child_weight': 1,\n",
    "    'n_estimators': 550,\n",
    "    'early_stopping_rounds': 100,\n",
    "    'objective': 'binary:logistic',\n",
    "    'scale_pos_weight': 4.260162886376033,\n",
    "    'subsample': 0.7119282378433924,\n",
    "    'tree_method': 'hist',\n",
    "}\n",
    "\n",
    "xgb_params4 = {\n",
    "    'n_estimators': 10000,\n",
    "    'colsample_bytree': 0.8757972257439255,\n",
    "    'gamma': 0.11135738771999848,\n",
    "    'max_depth': 7,\n",
    "    'min_child_weight': 3,\n",
    "    'reg_alpha': 0.4833998914998038,\n",
    "    'reg_lambda': 0.006223568555619563,\n",
    "    'scale_pos_weight': 8,\n",
    "    'subsample': 0.7056434340275685,\n",
    "    'random_state': random_state,\n",
    "    'tree_method': 'hist',\n",
    "    'early_stopping_rounds': 100,\n",
    "}\n",
    "\n",
    "xgb_params5 = {\n",
    "    'n_estimators': 10000,\n",
    "    'max_depth': 5,\n",
    "    'min_child_weight': 2.934487833919741,\n",
    "    'learning_rate': 0.11341944575807082,\n",
    "    'subsample': 0.9045063514419968,\n",
    "    'gamma': 0.4329153382843715,\n",
    "    'colsample_bytree': 0.38872702868412506,\n",
    "    'colsample_bylevel': 0.8321880031718571,\n",
    "    'colsample_bynode': 0.802355707802605,\n",
    "    'random_state': random_state,\n",
    "    'tree_method': 'hist',\n",
    "    'early_stopping_rounds': 100,\n",
    "}\n",
    "\n",
    "xgb_base = {\n",
    "    'n_estimators': 1000,\n",
    "    'verbosity': 0,\n",
    "    'random_state': random_state,\n",
    "}\n",
    "\n",
    "xgb_params6 = {\n",
    "    'objective': 'binary:logistic',\n",
    "    'colsample_bytree': 0.7,\n",
    "    'gamma': 2,\n",
    "    'learning_rate': 0.01,\n",
    "    'max_depth': 7,\n",
    "    'min_child_weight': 10,\n",
    "    'n_estimators': 10000,\n",
    "    'subsample':0.7,\n",
    "    'random_state': random_state,\n",
    "    'tree_method': 'hist',\n",
    "    'early_stopping_rounds': 100,\n",
    "}\n",
    "\n",
    "cat_params0 = {\n",
    "    'iterations': 10000,\n",
    "    'eval_metric': 'AUC',\n",
    "    'loss_function': 'Logloss',\n",
    "    'task_type': 'GPU' if torch.cuda.is_available() else 'CPU',\n",
    "    'early_stopping_rounds': 100,\n",
    "    'auto_class_weights': 'Balanced'\n",
    "}\n"
   ]
  },
  {
   "cell_type": "markdown",
   "metadata": {},
   "source": [
    "## class initialization"
   ]
  },
  {
   "cell_type": "code",
   "execution_count": 24,
   "metadata": {
    "ExecuteTime": {
     "end_time": "2023-10-23T06:53:40.896575Z",
     "start_time": "2023-10-23T06:53:40.849871Z"
    }
   },
   "outputs": [],
   "source": [
    "from abc import ABCMeta\n",
    "from sklearn.ensemble import RandomForestClassifier, ExtraTreesClassifier, HistGradientBoostingClassifier\n",
    "from xgboost.sklearn import XGBClassifier\n",
    "from catboost import CatBoostClassifier\n",
    "from lightgbm import LGBMClassifier\n",
    "\n",
    "class BaseModel(metaclass=ABCMeta):\n",
    "    def __init__(self):\n",
    "        pass\n",
    "\n",
    "    def train(self, trn_x, trn_y, val_x, val_y):\n",
    "        pass\n",
    "\n",
    "    def predict(self, X):\n",
    "        pass\n",
    "\n",
    "\n",
    "class RandomForestModel(BaseModel):\n",
    "    def __init__(self):\n",
    "        super().__init__()\n",
    "        self.model = None\n",
    "\n",
    "    def train(self, trn_x, trn_y, val_x, val_y):\n",
    "        self.model = RandomForestClassifier(n_estimators = 1000,\n",
    "                                            class_weight='balanced',\n",
    "                                           max_depth = 7,\n",
    "                                           min_samples_split = 15,\n",
    "                                           min_samples_leaf = 10)\n",
    "        self.model.fit(trn_x, trn_y)\n",
    "\n",
    "    def predict(self, X):\n",
    "        return self.model.predict_proba(X)[:, 1]\n",
    "\n",
    "class HistGradientBoostingModel(BaseModel):\n",
    "    def __init__(self):\n",
    "        super().__init__()\n",
    "        self.model = None\n",
    "\n",
    "    def train(self, trn_x, trn_y, val_x, val_y):\n",
    "        self.model = HistGradientBoostingClassifier(l2_regularization = 0.01,\n",
    "                                             early_stopping = True,\n",
    "                                             learning_rate = 0.01,\n",
    "                                             max_iter = 1000,\n",
    "                                             max_depth = 5,\n",
    "                                             max_bins = 255,\n",
    "                                             min_samples_leaf = 15,\n",
    "                                             max_leaf_nodes = 10)\n",
    "        self.model.fit(trn_x, trn_y)\n",
    "\n",
    "    def predict(self, X):\n",
    "        return self.model.predict_proba(X)[:, 1]\n",
    "\n",
    "class LGBMModel(BaseModel):\n",
    "    def __init__(self, **config):\n",
    "        super().__init__()\n",
    "        self.config = config\n",
    "        self.model = LGBMClassifier(**self.config)\n",
    "\n",
    "    def train(self, trn_x, trn_y, val_x, val_y):\n",
    "        self.model.fit(trn_x, trn_y, eval_set=[(val_x, val_y)])\n",
    "\n",
    "    def predict(self, X):\n",
    "        return self.model.predict_proba(X)[:, 1]\n",
    "\n",
    "\n",
    "class XGBModel(BaseModel):\n",
    "    def __init__(self, **config):\n",
    "        super().__init__()\n",
    "        self.config = config\n",
    "        self.model = XGBClassifier(**self.config)\n",
    "\n",
    "    def train(self, trn_x, trn_y, val_x, val_y):\n",
    "        self.model.fit(trn_x, trn_y, eval_set=[(val_x, val_y)], verbose=0)\n",
    "\n",
    "\n",
    "    def predict(self, X):\n",
    "        return self.model.predict_proba(X)[:, 1]\n",
    "\n",
    "class CatBoostModel(BaseModel):\n",
    "    def __init__(self, **config):\n",
    "        super().__init__()\n",
    "        self.config = config\n",
    "        self.model = CatBoostClassifier(**self.config)\n",
    "\n",
    "    def train(self, trn_x, trn_y, val_x, val_y):\n",
    "        self.model.fit(trn_x, trn_y, eval_set=(val_x, val_y), verbose=0)\n",
    "\n",
    "    def predict(self, X):\n",
    "        return self.model.predict_proba(X)[:, 1]\n"
   ]
  },
  {
   "cell_type": "code",
   "execution_count": 25,
   "metadata": {
    "ExecuteTime": {
     "end_time": "2023-10-23T06:53:42.445563Z",
     "start_time": "2023-10-23T06:53:42.435461Z"
    }
   },
   "outputs": [],
   "source": [
    "from sklearn.model_selection import RepeatedStratifiedKFold\n",
    "\n",
    "def train(X_train, y_train, X_test, models, n_folds=10):\n",
    "\n",
    "    valid_preds, test_preds = dict(), dict()\n",
    "    hill_ens_preds =  list()\n",
    "\n",
    "    sk = RepeatedStratifiedKFold(n_splits = n_folds, n_repeats = 1, random_state = 42)\n",
    "    for i, (trn_idx, val_idx) in enumerate(sk.split(X_train, y_train)):\n",
    "\n",
    "        trn_x, trn_y = X_train.iloc[trn_idx], y_train.iloc[trn_idx]\n",
    "        val_x, val_y = X_train.iloc[val_idx], y_train.iloc[val_idx]\n",
    "\n",
    "        print('----------------------------------------------------------')\n",
    "        ens_pred_1 = np.zeros((val_x.shape[0], ))\n",
    "        ens_pred_2 = np.zeros((X_test.shape[0], ))\n",
    "\n",
    "        for idx, model in enumerate(models):\n",
    "            print(\"model\", model)\n",
    "            model.train(trn_x, trn_y, val_x, val_y)\n",
    "\n",
    "            ens_pred_1 = model.predict(val_x)\n",
    "            ens_pred_2 = model.predict(X_test)\n",
    "            \n",
    "            print(f\"ROC: {roc_auc_score(val_y, ens_pred_1)}\")\n",
    "            \n",
    "            valid_preds[f'model_{idx}'] = ens_pred_1\n",
    "            test_preds[f'model_{idx}'] = ens_pred_2\n",
    "\n",
    "        ens_pred_1 = np.mean(list(valid_preds.values()), axis=0)\n",
    "        ens_pred_2 = np.mean(list(test_preds.values()), axis=0)\n",
    "\n",
    "\n",
    "        ens_score_fold = roc_auc_score(val_y, ens_pred_1)\n",
    "        print('Fold', i, '==> Average Ensemble oof ROC-AUC score is ==>', ens_score_fold)\n",
    "\n",
    "        ############################\n",
    "        ## Hill Climbing Ensemble ##\n",
    "        ############################\n",
    "\n",
    "        x = pd.DataFrame(valid_preds)\n",
    "        y = val_y\n",
    "        x_test = pd.DataFrame(test_preds)\n",
    "\n",
    "        hill_results = hill_climbing(x, y, x_test)\n",
    "        hill_ens_score_fold = roc_auc_score(y, hill_results[0])\n",
    "\n",
    "        # test preds\n",
    "        hill_ens_preds.append(hill_results[1])\n",
    "\n",
    "        print('Fold', i, '==> Hill Climbing Ensemble oof ROC-AUC score is ==>', hill_ens_score_fold)\n",
    "        \n",
    "    return hill_ens_preds"
   ]
  },
  {
   "cell_type": "code",
   "execution_count": 26,
   "metadata": {
    "ExecuteTime": {
     "end_time": "2023-10-23T06:53:45.492125Z",
     "start_time": "2023-10-23T06:53:45.479002Z"
    }
   },
   "outputs": [],
   "source": [
    "# X_train, X_test, y_train = df_train[feat_list], df_test[feat_list], df_train[target]\n"
   ]
  },
  {
   "cell_type": "code",
   "execution_count": 27,
   "metadata": {
    "ExecuteTime": {
     "end_time": "2023-10-23T06:54:39.738417Z",
     "start_time": "2023-10-23T06:54:39.722624Z"
    }
   },
   "outputs": [],
   "source": [
    "models_v1 = [XGBModel(**xgb_optuna0), \n",
    "             XGBModel(**xgb_params3),\n",
    "             XGBModel(**xgb_params6),\n",
    "             LGBMModel(**lgb_params0), \n",
    "             LGBMModel(**lgb_params1),\n",
    "             LGBMModel(**lgb_params2),\n",
    "             HistGradientBoostingModel(), \n",
    "             CatBoostModel(**cat_params0)]"
   ]
  },
  {
   "cell_type": "code",
   "execution_count": 28,
   "metadata": {
    "ExecuteTime": {
     "end_time": "2023-10-23T07:05:41.847439Z",
     "start_time": "2023-10-23T06:54:41.116036Z"
    }
   },
   "outputs": [
    {
     "name": "stdout",
     "output_type": "stream",
     "text": [
      "----------------------------------------------------------\n",
      "model <__main__.XGBModel object at 0x2b25a77f0>\n",
      "ROC: 0.791905333141662\n",
      "model <__main__.XGBModel object at 0x2b25a7040>\n",
      "ROC: 0.7856301935053197\n",
      "model <__main__.XGBModel object at 0x2b25a75e0>\n",
      "ROC: 0.7920458920395306\n",
      "model <__main__.LGBMModel object at 0x2b25d3490>\n",
      "ROC: 0.7909397067320111\n",
      "model <__main__.LGBMModel object at 0x2b25d35e0>\n",
      "ROC: 0.7886187499621339\n",
      "model <__main__.LGBMModel object at 0x2b25d3250>\n",
      "ROC: 0.7914641588579919\n",
      "model <__main__.HistGradientBoostingModel object at 0x2b25d3430>\n",
      "ROC: 0.7893555550782134\n",
      "model <__main__.CatBoostModel object at 0x2b25d37f0>\n",
      "ROC: 0.7909263503320374\n",
      "Fold 0 ==> Average Ensemble oof ROC-AUC score is ==> 0.7918598112258751\n",
      "Fold 0 ==> Hill Climbing Ensemble oof ROC-AUC score is ==> 0.7927499808604167\n",
      "----------------------------------------------------------\n",
      "model <__main__.XGBModel object at 0x2b25a77f0>\n",
      "ROC: 0.8014839373455409\n",
      "model <__main__.XGBModel object at 0x2b25a7040>\n",
      "ROC: 0.7910615942088852\n",
      "model <__main__.XGBModel object at 0x2b25a75e0>\n",
      "ROC: 0.8015030769290084\n",
      "model <__main__.LGBMModel object at 0x2b25d3490>\n",
      "ROC: 0.8016314636025709\n",
      "model <__main__.LGBMModel object at 0x2b25d35e0>\n",
      "ROC: 0.7999747467654105\n",
      "model <__main__.LGBMModel object at 0x2b25d3250>\n",
      "ROC: 0.8017931173507071\n",
      "model <__main__.HistGradientBoostingModel object at 0x2b25d3430>\n",
      "ROC: 0.800906445165231\n",
      "model <__main__.CatBoostModel object at 0x2b25d37f0>\n",
      "ROC: 0.8012136423646281\n",
      "Fold 1 ==> Average Ensemble oof ROC-AUC score is ==> 0.8009492407230853\n",
      "Fold 1 ==> Hill Climbing Ensemble oof ROC-AUC score is ==> 0.8023466781669403\n",
      "----------------------------------------------------------\n",
      "model <__main__.XGBModel object at 0x2b25a77f0>\n",
      "ROC: 0.7965124925025158\n",
      "model <__main__.XGBModel object at 0x2b25a7040>\n",
      "ROC: 0.7927015673528827\n",
      "model <__main__.XGBModel object at 0x2b25a75e0>\n",
      "ROC: 0.7973738012975261\n",
      "model <__main__.LGBMModel object at 0x2b25d3490>\n",
      "ROC: 0.7965863244784532\n",
      "model <__main__.LGBMModel object at 0x2b25d35e0>\n",
      "ROC: 0.7933507985474846\n",
      "model <__main__.LGBMModel object at 0x2b25d3250>\n",
      "ROC: 0.7967678889011895\n",
      "model <__main__.HistGradientBoostingModel object at 0x2b25d3430>\n",
      "ROC: 0.7945424097368982\n",
      "model <__main__.CatBoostModel object at 0x2b25d37f0>\n",
      "ROC: 0.7969184719837807\n",
      "Fold 2 ==> Average Ensemble oof ROC-AUC score is ==> 0.7973083411681701\n",
      "Fold 2 ==> Hill Climbing Ensemble oof ROC-AUC score is ==> 0.7982133818459811\n",
      "----------------------------------------------------------\n",
      "model <__main__.XGBModel object at 0x2b25a77f0>\n",
      "ROC: 0.7916097832184092\n",
      "model <__main__.XGBModel object at 0x2b25a7040>\n",
      "ROC: 0.7828788718673235\n",
      "model <__main__.XGBModel object at 0x2b25a75e0>\n",
      "ROC: 0.791725800106016\n",
      "model <__main__.LGBMModel object at 0x2b25d3490>\n",
      "ROC: 0.7909578460036301\n",
      "model <__main__.LGBMModel object at 0x2b25d35e0>\n",
      "ROC: 0.7905371711385469\n",
      "model <__main__.LGBMModel object at 0x2b25d3250>\n",
      "ROC: 0.7916455443013144\n",
      "model <__main__.HistGradientBoostingModel object at 0x2b25d3430>\n",
      "ROC: 0.790668644087409\n",
      "model <__main__.CatBoostModel object at 0x2b25d37f0>\n",
      "ROC: 0.7913034170844304\n",
      "Fold 3 ==> Average Ensemble oof ROC-AUC score is ==> 0.7915036295570586\n",
      "Fold 3 ==> Hill Climbing Ensemble oof ROC-AUC score is ==> 0.7921296413642771\n",
      "----------------------------------------------------------\n",
      "model <__main__.XGBModel object at 0x2b25a77f0>\n",
      "ROC: 0.7879960403830238\n",
      "model <__main__.XGBModel object at 0x2b25a7040>\n",
      "ROC: 0.7812422375307331\n",
      "model <__main__.XGBModel object at 0x2b25a75e0>\n",
      "ROC: 0.787963475205833\n",
      "model <__main__.LGBMModel object at 0x2b25d3490>\n",
      "ROC: 0.7877004191044632\n",
      "model <__main__.LGBMModel object at 0x2b25d35e0>\n",
      "ROC: 0.7856569680111879\n",
      "model <__main__.LGBMModel object at 0x2b25d3250>\n",
      "ROC: 0.7877499280921214\n",
      "model <__main__.HistGradientBoostingModel object at 0x2b25d3430>\n",
      "ROC: 0.7874410823761229\n",
      "model <__main__.CatBoostModel object at 0x2b25d37f0>\n",
      "ROC: 0.7877138363982803\n",
      "Fold 4 ==> Average Ensemble oof ROC-AUC score is ==> 0.7882591791371276\n",
      "Fold 4 ==> Hill Climbing Ensemble oof ROC-AUC score is ==> 0.7885806982723375\n",
      "----------------------------------------------------------\n",
      "model <__main__.XGBModel object at 0x2b25a77f0>\n",
      "ROC: 0.7857801205848286\n",
      "model <__main__.XGBModel object at 0x2b25a7040>\n",
      "ROC: 0.7788613153245882\n",
      "model <__main__.XGBModel object at 0x2b25a75e0>\n",
      "ROC: 0.784728667604867\n",
      "model <__main__.LGBMModel object at 0x2b25d3490>\n",
      "ROC: 0.7855301787172516\n",
      "model <__main__.LGBMModel object at 0x2b25d35e0>\n",
      "ROC: 0.7843122080292172\n",
      "model <__main__.LGBMModel object at 0x2b25d3250>\n",
      "ROC: 0.7861699384292233\n",
      "model <__main__.HistGradientBoostingModel object at 0x2b25d3430>\n",
      "ROC: 0.7844430473071189\n",
      "model <__main__.CatBoostModel object at 0x2b25d37f0>\n",
      "ROC: 0.7853545692084403\n",
      "Fold 5 ==> Average Ensemble oof ROC-AUC score is ==> 0.7858735457251455\n",
      "Fold 5 ==> Hill Climbing Ensemble oof ROC-AUC score is ==> 0.786519890104925\n",
      "----------------------------------------------------------\n",
      "model <__main__.XGBModel object at 0x2b25a77f0>\n",
      "ROC: 0.7976352777297167\n",
      "model <__main__.XGBModel object at 0x2b25a7040>\n",
      "ROC: 0.7924214055152516\n",
      "model <__main__.XGBModel object at 0x2b25a75e0>\n",
      "ROC: 0.7979683131458621\n",
      "model <__main__.LGBMModel object at 0x2b25d3490>\n",
      "ROC: 0.7967565414128768\n",
      "model <__main__.LGBMModel object at 0x2b25d35e0>\n",
      "ROC: 0.7961803416533413\n",
      "model <__main__.LGBMModel object at 0x2b25d3250>\n",
      "ROC: 0.7971674081535268\n",
      "model <__main__.HistGradientBoostingModel object at 0x2b25d3430>\n",
      "ROC: 0.7965289433343876\n",
      "model <__main__.CatBoostModel object at 0x2b25d37f0>\n",
      "ROC: 0.798082429020587\n",
      "Fold 6 ==> Average Ensemble oof ROC-AUC score is ==> 0.7982149213531685\n",
      "Fold 6 ==> Hill Climbing Ensemble oof ROC-AUC score is ==> 0.7985964188223418\n",
      "----------------------------------------------------------\n",
      "model <__main__.XGBModel object at 0x2b25a77f0>\n",
      "ROC: 0.792194854371393\n",
      "model <__main__.XGBModel object at 0x2b25a7040>\n",
      "ROC: 0.7850603530263573\n",
      "model <__main__.XGBModel object at 0x2b25a75e0>\n",
      "ROC: 0.7914386094063218\n",
      "model <__main__.LGBMModel object at 0x2b25d3490>\n",
      "ROC: 0.7915285080299885\n",
      "model <__main__.LGBMModel object at 0x2b25d35e0>\n",
      "ROC: 0.7900765474520366\n",
      "model <__main__.LGBMModel object at 0x2b25d3250>\n",
      "ROC: 0.7920043949213753\n",
      "model <__main__.HistGradientBoostingModel object at 0x2b25d3430>\n",
      "ROC: 0.7915649303347656\n",
      "model <__main__.CatBoostModel object at 0x2b25d37f0>\n",
      "ROC: 0.7914882010467142\n",
      "Fold 7 ==> Average Ensemble oof ROC-AUC score is ==> 0.7923575976046136\n",
      "Fold 7 ==> Hill Climbing Ensemble oof ROC-AUC score is ==> 0.7929555074822765\n",
      "----------------------------------------------------------\n",
      "model <__main__.XGBModel object at 0x2b25a77f0>\n",
      "ROC: 0.7919166177178809\n",
      "model <__main__.XGBModel object at 0x2b25a7040>\n",
      "ROC: 0.78248638158453\n",
      "model <__main__.XGBModel object at 0x2b25a75e0>\n",
      "ROC: 0.7917873763928363\n",
      "model <__main__.LGBMModel object at 0x2b25d3490>\n",
      "ROC: 0.7913611913454872\n",
      "model <__main__.LGBMModel object at 0x2b25d35e0>\n",
      "ROC: 0.7908122669881674\n",
      "model <__main__.LGBMModel object at 0x2b25d3250>\n",
      "ROC: 0.791404033012604\n",
      "model <__main__.HistGradientBoostingModel object at 0x2b25d3430>\n",
      "ROC: 0.7915850700509472\n",
      "model <__main__.CatBoostModel object at 0x2b25d37f0>\n",
      "ROC: 0.7912177061992856\n",
      "Fold 8 ==> Average Ensemble oof ROC-AUC score is ==> 0.7912425571213044\n",
      "Fold 8 ==> Hill Climbing Ensemble oof ROC-AUC score is ==> 0.7921860656306791\n",
      "----------------------------------------------------------\n",
      "model <__main__.XGBModel object at 0x2b25a77f0>\n",
      "ROC: 0.7916160504948198\n",
      "model <__main__.XGBModel object at 0x2b25a7040>\n",
      "ROC: 0.7866052216224022\n",
      "model <__main__.XGBModel object at 0x2b25a75e0>\n",
      "ROC: 0.7925061404556835\n",
      "model <__main__.LGBMModel object at 0x2b25d3490>\n",
      "ROC: 0.7918549538682929\n",
      "model <__main__.LGBMModel object at 0x2b25d35e0>\n",
      "ROC: 0.7897010501888229\n",
      "model <__main__.LGBMModel object at 0x2b25d3250>\n",
      "ROC: 0.7917770913092881\n",
      "model <__main__.HistGradientBoostingModel object at 0x2b25d3430>\n",
      "ROC: 0.791360676725066\n",
      "model <__main__.CatBoostModel object at 0x2b25d37f0>\n",
      "ROC: 0.7925785771483552\n",
      "Fold 9 ==> Average Ensemble oof ROC-AUC score is ==> 0.7926733783256086\n",
      "Fold 9 ==> Hill Climbing Ensemble oof ROC-AUC score is ==> 0.7930351211094679\n"
     ]
    }
   ],
   "source": [
    "hill_ens_preds = train(X_train, y_train, X_test, models_v1, n_folds=10)\n"
   ]
  },
  {
   "cell_type": "code",
   "execution_count": 29,
   "metadata": {
    "ExecuteTime": {
     "end_time": "2023-10-23T07:06:24.689424Z",
     "start_time": "2023-10-23T07:06:24.581340Z"
    }
   },
   "outputs": [],
   "source": [
    "# hill climbing\n",
    "# 캐글 제출용\n",
    "# submission = pd.read_csv('/kaggle/input/playground-series-s3e23/sample_submission.csv')\n",
    "\n",
    "# 로컬\n",
    "submission = pd.read_csv('./playground-series-s3e23/sample_submission.csv')\n",
    "\n",
    "submission['defects'] = np.mean(hill_ens_preds, axis=0)\n",
    "submission.to_csv('submission.csv', index=False)\n"
   ]
  },
  {
   "cell_type": "code",
   "execution_count": 30,
   "outputs": [
    {
     "data": {
      "text/plain": "           id   defects\n0      101763  0.256096\n1      101764  0.213431\n2      101765  0.686997\n3      101766  0.501015\n4      101767  0.161758\n...       ...       ...\n67837  169600  0.298546\n67838  169601  0.135904\n67839  169602  0.195785\n67840  169603  0.112368\n67841  169604  0.829349\n\n[67842 rows x 2 columns]",
      "text/html": "<div>\n<style scoped>\n    .dataframe tbody tr th:only-of-type {\n        vertical-align: middle;\n    }\n\n    .dataframe tbody tr th {\n        vertical-align: top;\n    }\n\n    .dataframe thead th {\n        text-align: right;\n    }\n</style>\n<table border=\"1\" class=\"dataframe\">\n  <thead>\n    <tr style=\"text-align: right;\">\n      <th></th>\n      <th>id</th>\n      <th>defects</th>\n    </tr>\n  </thead>\n  <tbody>\n    <tr>\n      <th>0</th>\n      <td>101763</td>\n      <td>0.256096</td>\n    </tr>\n    <tr>\n      <th>1</th>\n      <td>101764</td>\n      <td>0.213431</td>\n    </tr>\n    <tr>\n      <th>2</th>\n      <td>101765</td>\n      <td>0.686997</td>\n    </tr>\n    <tr>\n      <th>3</th>\n      <td>101766</td>\n      <td>0.501015</td>\n    </tr>\n    <tr>\n      <th>4</th>\n      <td>101767</td>\n      <td>0.161758</td>\n    </tr>\n    <tr>\n      <th>...</th>\n      <td>...</td>\n      <td>...</td>\n    </tr>\n    <tr>\n      <th>67837</th>\n      <td>169600</td>\n      <td>0.298546</td>\n    </tr>\n    <tr>\n      <th>67838</th>\n      <td>169601</td>\n      <td>0.135904</td>\n    </tr>\n    <tr>\n      <th>67839</th>\n      <td>169602</td>\n      <td>0.195785</td>\n    </tr>\n    <tr>\n      <th>67840</th>\n      <td>169603</td>\n      <td>0.112368</td>\n    </tr>\n    <tr>\n      <th>67841</th>\n      <td>169604</td>\n      <td>0.829349</td>\n    </tr>\n  </tbody>\n</table>\n<p>67842 rows × 2 columns</p>\n</div>"
     },
     "execution_count": 30,
     "metadata": {},
     "output_type": "execute_result"
    }
   ],
   "source": [
    "submission"
   ],
   "metadata": {
    "collapsed": false,
    "ExecuteTime": {
     "end_time": "2023-10-23T07:06:33.663175Z",
     "start_time": "2023-10-23T07:06:33.654714Z"
    }
   }
  },
  {
   "cell_type": "code",
   "execution_count": null,
   "outputs": [],
   "source": [],
   "metadata": {
    "collapsed": false
   }
  }
 ],
 "metadata": {
  "kernelspec": {
   "display_name": "42AI-sucho",
   "language": "python",
   "name": "python3"
  },
  "language_info": {
   "codemirror_mode": {
    "name": "ipython",
    "version": 3
   },
   "file_extension": ".py",
   "mimetype": "text/x-python",
   "name": "python",
   "nbconvert_exporter": "python",
   "pygments_lexer": "ipython3",
   "version": "3.11.5"
  }
 },
 "nbformat": 4,
 "nbformat_minor": 2
}
