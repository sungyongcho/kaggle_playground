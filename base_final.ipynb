{
 "cells": [
  {
   "cell_type": "code",
   "execution_count": 1,
   "outputs": [],
   "source": [
    "import pandas as pd\n",
    "import numpy as np\n",
    "import matplotlib.pyplot as plt\n",
    "import seaborn as sns\n",
    "import catboost\n",
    "import lightgbm\n",
    "import warnings\n",
    "from tqdm import tqdm\n",
    "\n",
    "from sklearn.model_selection import train_test_split\n",
    "from sklearn.model_selection import StratifiedKFold\n",
    "from sklearn.metrics import mean_squared_error\n",
    "from sklearn.metrics import roc_auc_score\n",
    "from sklearn.preprocessing import LabelEncoder, QuantileTransformer\n",
    "from catboost import CatBoostRegressor, CatBoostClassifier\n",
    "from sklearn.linear_model import LinearRegression, RidgeClassifier\n",
    "from sklearn.svm import SVC\n",
    "\n",
    "from lightgbm import LGBMClassifier\n",
    "import copy\n",
    "import pandas as pd\n",
    "import seaborn as sns\n",
    "import matplotlib.pyplot as plt\n",
    "from torch.utils.data import Dataset, DataLoader\n",
    "\n",
    "import torch\n",
    "import torch.nn as nn\n",
    "import torch.nn.functional as F\n",
    "\n",
    "warnings.filterwarnings(\"ignore\")\n"
   ],
   "metadata": {
    "collapsed": false,
    "ExecuteTime": {
     "end_time": "2023-10-23T04:47:28.964312Z",
     "start_time": "2023-10-23T04:47:28.129168Z"
    }
   }
  },
  {
   "cell_type": "markdown",
   "source": [],
   "metadata": {
    "collapsed": false
   }
  },
  {
   "cell_type": "markdown",
   "metadata": {},
   "source": [
    "# Load Data"
   ]
  },
  {
   "cell_type": "code",
   "execution_count": 2,
   "metadata": {
    "ExecuteTime": {
     "end_time": "2023-10-23T04:47:30.097801Z",
     "start_time": "2023-10-23T04:47:29.918521Z"
    }
   },
   "outputs": [],
   "source": [
    "# 캐글 실행용\n",
    "# df_train = pd.read_csv('../input/playground-series-s3e23/train.csv', index_col='id')\n",
    "# df_test = pd.read_csv('../input/playground-series-s3e23/test.csv', index_col='id')\n",
    "# df_original = pd.read_csv('/kaggle/input/software-defect-prediction/jm1.csv')\n",
    "\n",
    "# 로컬\n",
    "df_train = pd.read_csv(\"./playground-series-s3e23/train.csv\", index_col=\"id\")\n",
    "df_test = pd.read_csv(\"./playground-series-s3e23/test.csv\", index_col=\"id\")\n",
    "df_original = pd.read_csv(\"./software-defect-prediction/jm1.csv\")\n"
   ]
  },
  {
   "cell_type": "markdown",
   "source": [
    "# Feature"
   ],
   "metadata": {
    "collapsed": false
   }
  },
  {
   "cell_type": "markdown",
   "source": [
    "## Original 과  train 을 합치는 코드 "
   ],
   "metadata": {
    "collapsed": false
   }
  },
  {
   "cell_type": "code",
   "execution_count": 3,
   "metadata": {
    "ExecuteTime": {
     "end_time": "2023-10-23T04:47:30.471350Z",
     "start_time": "2023-10-23T04:47:30.429125Z"
    }
   },
   "outputs": [],
   "source": [
    "columns = [\"uniq_Op\", \"uniq_Opnd\", \"total_Op\", \"total_Opnd\", \"branchCount\"]\n",
    "\n",
    "for col in columns:\n",
    "    df_original[col][df_original[col] == \"?\"] = np.nan\n",
    "    df_original[col] = df_original[col].astype(float)\n",
    "\n",
    "\n",
    "df_train = pd.concat([df_train, df_original], ignore_index=True)\n",
    "df_train = df_train.drop_duplicates()\n"
   ]
  },
  {
   "cell_type": "markdown",
   "source": [
    "## Quantile Transformer \n",
    "+ 여기서 train['defects']에 nan이 생김 -> 위치 바꿔줌\n",
    "+ scale 해주는 함수"
   ],
   "metadata": {
    "collapsed": false
   }
  },
  {
   "cell_type": "code",
   "execution_count": 4,
   "outputs": [],
   "source": [
    "feat_list = list(set(df_train.columns) - set(['defects']))\n",
    "target = 'defects'"
   ],
   "metadata": {
    "collapsed": false,
    "ExecuteTime": {
     "end_time": "2023-10-23T04:47:32.728689Z",
     "start_time": "2023-10-23T04:47:32.720265Z"
    }
   }
  },
  {
   "cell_type": "code",
   "execution_count": 5,
   "outputs": [],
   "source": [
    "qt = QuantileTransformer(n_quantiles=1000, output_distribution='uniform', random_state=0)\n",
    "qt.fit(df_train[feat_list])\n",
    "\n",
    "tmp_train = pd.DataFrame(qt.transform(df_train[feat_list]))\n",
    "tmp_train.columns = feat_list\n",
    "tmp_train[target] = df_train[target]\n",
    "df_train = tmp_train\n",
    "df_test = pd.DataFrame(qt.transform(df_test[feat_list]))\n",
    "df_test.columns = feat_list\n",
    "\n",
    "feat_list = list(set(df_train.columns.tolist()) - set([target]))\n"
   ],
   "metadata": {
    "collapsed": false,
    "ExecuteTime": {
     "end_time": "2023-10-23T04:47:33.739126Z",
     "start_time": "2023-10-23T04:47:33.300327Z"
    }
   }
  },
  {
   "cell_type": "code",
   "execution_count": 6,
   "outputs": [],
   "source": [
    "device = torch.device(0) if torch.cuda.is_available() else torch.device(\"cpu\")\n"
   ],
   "metadata": {
    "collapsed": false,
    "ExecuteTime": {
     "end_time": "2023-10-23T04:47:33.989140Z",
     "start_time": "2023-10-23T04:47:33.982024Z"
    }
   }
  },
  {
   "cell_type": "markdown",
   "metadata": {},
   "source": [
    "## drop N/A"
   ]
  },
  {
   "cell_type": "code",
   "execution_count": 7,
   "metadata": {
    "ExecuteTime": {
     "end_time": "2023-10-23T04:47:35.210943Z",
     "start_time": "2023-10-23T04:47:35.171132Z"
    }
   },
   "outputs": [
    {
     "data": {
      "text/plain": "        uniq_Opnd    lOCode  branchCount   lOBlank  total_Op       loc  \\\n0        0.368368  0.580581     0.448949  0.278278  0.576577  0.484484   \n1        0.460460  0.416917     0.262763  0.278278  0.301301  0.288789   \n2        0.460460  0.296797     0.262763  0.278278  0.463463  0.196697   \n3        0.210711  0.141642     0.000000  0.436436  0.263764  0.103604   \n4        0.210711  0.258759     0.262763  0.436436  0.150651  0.196697   \n...           ...       ...          ...       ...       ...       ...   \n110669   0.750250  0.602603     0.262763  0.687688  0.664164  0.526527   \n110671   0.321822  0.178178     0.262763  0.436436  0.319319  0.132132   \n110672   0.614615  0.779279     0.578078  0.916917  0.708709  0.737237   \n110673   0.321822  0.217217     0.000000  0.436436  0.356857  0.162162   \n110674   0.583083  0.474975     0.448949  0.436436  0.505005  0.423423   \n\n               v      v(g)         e         i  ...         d  total_Opnd  \\\n0       0.553554  0.449449  0.647648  0.212212  ...  0.772773    0.531532   \n1       0.362362  0.267267  0.335013  0.434434  ...  0.334334    0.363864   \n2       0.443443  0.267267  0.452452  0.481481  ...  0.402803    0.432432   \n3       0.242242  0.000000  0.227544  0.335318  ...  0.230230    0.175676   \n4       0.157157  0.267267  0.201201  0.153153  ...  0.252252    0.265766   \n...          ...       ...       ...       ...  ...       ...         ...   \n110669  0.693010  0.267267  0.655852  0.806484  ...  0.589590    0.743744   \n110671  0.321822  0.267267  0.362362  0.260260  ...  0.412913    0.293293   \n110672  0.715465  0.574074  0.797786  0.390390  ...  0.873654    0.743744   \n110673  0.353353  0.000000  0.384384  0.321468  ...  0.425425    0.388388   \n110674  0.545555  0.449449  0.561070  0.512513  ...  0.571572    0.596597   \n\n               b  locCodeAndComment   uniq_Op         l         t  ev(g)  \\\n0       0.535536           0.000000  0.758258  0.359860  0.639708    0.0   \n1       0.355856           0.000000  0.462462  0.732733  0.327028    0.0   \n2       0.457958           0.000000  0.537538  0.612613  0.446446    0.0   \n3       0.236737           0.000000  0.262763  0.843844  0.225744    0.0   \n4       0.162162           0.000000  0.207708  0.827327  0.197197    0.0   \n...          ...                ...       ...       ...       ...    ...   \n110669  0.689189           0.000000  0.462462  0.471471  0.647595    0.0   \n110671  0.301301           0.000000  0.537538  0.655155  0.353563    0.0   \n110672  0.705706           0.000000  0.835836  0.215215  0.793514    0.0   \n110673  0.355856           0.000000  0.324324  0.655155  0.377978    0.0   \n110674  0.535536           0.938939  0.537538  0.522022  0.553555    0.0   \n\n           iv(g)  defects  \n0       0.410911    False  \n1       0.410911    False  \n2       0.410911    False  \n3       0.000000     True  \n4       0.410911    False  \n...          ...      ...  \n110669  0.410911    False  \n110671  0.410911    False  \n110672  0.410911    False  \n110673  0.000000    False  \n110674  0.000000    False  \n\n[109274 rows x 22 columns]",
      "text/html": "<div>\n<style scoped>\n    .dataframe tbody tr th:only-of-type {\n        vertical-align: middle;\n    }\n\n    .dataframe tbody tr th {\n        vertical-align: top;\n    }\n\n    .dataframe thead th {\n        text-align: right;\n    }\n</style>\n<table border=\"1\" class=\"dataframe\">\n  <thead>\n    <tr style=\"text-align: right;\">\n      <th></th>\n      <th>uniq_Opnd</th>\n      <th>lOCode</th>\n      <th>branchCount</th>\n      <th>lOBlank</th>\n      <th>total_Op</th>\n      <th>loc</th>\n      <th>v</th>\n      <th>v(g)</th>\n      <th>e</th>\n      <th>i</th>\n      <th>...</th>\n      <th>d</th>\n      <th>total_Opnd</th>\n      <th>b</th>\n      <th>locCodeAndComment</th>\n      <th>uniq_Op</th>\n      <th>l</th>\n      <th>t</th>\n      <th>ev(g)</th>\n      <th>iv(g)</th>\n      <th>defects</th>\n    </tr>\n  </thead>\n  <tbody>\n    <tr>\n      <th>0</th>\n      <td>0.368368</td>\n      <td>0.580581</td>\n      <td>0.448949</td>\n      <td>0.278278</td>\n      <td>0.576577</td>\n      <td>0.484484</td>\n      <td>0.553554</td>\n      <td>0.449449</td>\n      <td>0.647648</td>\n      <td>0.212212</td>\n      <td>...</td>\n      <td>0.772773</td>\n      <td>0.531532</td>\n      <td>0.535536</td>\n      <td>0.000000</td>\n      <td>0.758258</td>\n      <td>0.359860</td>\n      <td>0.639708</td>\n      <td>0.0</td>\n      <td>0.410911</td>\n      <td>False</td>\n    </tr>\n    <tr>\n      <th>1</th>\n      <td>0.460460</td>\n      <td>0.416917</td>\n      <td>0.262763</td>\n      <td>0.278278</td>\n      <td>0.301301</td>\n      <td>0.288789</td>\n      <td>0.362362</td>\n      <td>0.267267</td>\n      <td>0.335013</td>\n      <td>0.434434</td>\n      <td>...</td>\n      <td>0.334334</td>\n      <td>0.363864</td>\n      <td>0.355856</td>\n      <td>0.000000</td>\n      <td>0.462462</td>\n      <td>0.732733</td>\n      <td>0.327028</td>\n      <td>0.0</td>\n      <td>0.410911</td>\n      <td>False</td>\n    </tr>\n    <tr>\n      <th>2</th>\n      <td>0.460460</td>\n      <td>0.296797</td>\n      <td>0.262763</td>\n      <td>0.278278</td>\n      <td>0.463463</td>\n      <td>0.196697</td>\n      <td>0.443443</td>\n      <td>0.267267</td>\n      <td>0.452452</td>\n      <td>0.481481</td>\n      <td>...</td>\n      <td>0.402803</td>\n      <td>0.432432</td>\n      <td>0.457958</td>\n      <td>0.000000</td>\n      <td>0.537538</td>\n      <td>0.612613</td>\n      <td>0.446446</td>\n      <td>0.0</td>\n      <td>0.410911</td>\n      <td>False</td>\n    </tr>\n    <tr>\n      <th>3</th>\n      <td>0.210711</td>\n      <td>0.141642</td>\n      <td>0.000000</td>\n      <td>0.436436</td>\n      <td>0.263764</td>\n      <td>0.103604</td>\n      <td>0.242242</td>\n      <td>0.000000</td>\n      <td>0.227544</td>\n      <td>0.335318</td>\n      <td>...</td>\n      <td>0.230230</td>\n      <td>0.175676</td>\n      <td>0.236737</td>\n      <td>0.000000</td>\n      <td>0.262763</td>\n      <td>0.843844</td>\n      <td>0.225744</td>\n      <td>0.0</td>\n      <td>0.000000</td>\n      <td>True</td>\n    </tr>\n    <tr>\n      <th>4</th>\n      <td>0.210711</td>\n      <td>0.258759</td>\n      <td>0.262763</td>\n      <td>0.436436</td>\n      <td>0.150651</td>\n      <td>0.196697</td>\n      <td>0.157157</td>\n      <td>0.267267</td>\n      <td>0.201201</td>\n      <td>0.153153</td>\n      <td>...</td>\n      <td>0.252252</td>\n      <td>0.265766</td>\n      <td>0.162162</td>\n      <td>0.000000</td>\n      <td>0.207708</td>\n      <td>0.827327</td>\n      <td>0.197197</td>\n      <td>0.0</td>\n      <td>0.410911</td>\n      <td>False</td>\n    </tr>\n    <tr>\n      <th>...</th>\n      <td>...</td>\n      <td>...</td>\n      <td>...</td>\n      <td>...</td>\n      <td>...</td>\n      <td>...</td>\n      <td>...</td>\n      <td>...</td>\n      <td>...</td>\n      <td>...</td>\n      <td>...</td>\n      <td>...</td>\n      <td>...</td>\n      <td>...</td>\n      <td>...</td>\n      <td>...</td>\n      <td>...</td>\n      <td>...</td>\n      <td>...</td>\n      <td>...</td>\n      <td>...</td>\n    </tr>\n    <tr>\n      <th>110669</th>\n      <td>0.750250</td>\n      <td>0.602603</td>\n      <td>0.262763</td>\n      <td>0.687688</td>\n      <td>0.664164</td>\n      <td>0.526527</td>\n      <td>0.693010</td>\n      <td>0.267267</td>\n      <td>0.655852</td>\n      <td>0.806484</td>\n      <td>...</td>\n      <td>0.589590</td>\n      <td>0.743744</td>\n      <td>0.689189</td>\n      <td>0.000000</td>\n      <td>0.462462</td>\n      <td>0.471471</td>\n      <td>0.647595</td>\n      <td>0.0</td>\n      <td>0.410911</td>\n      <td>False</td>\n    </tr>\n    <tr>\n      <th>110671</th>\n      <td>0.321822</td>\n      <td>0.178178</td>\n      <td>0.262763</td>\n      <td>0.436436</td>\n      <td>0.319319</td>\n      <td>0.132132</td>\n      <td>0.321822</td>\n      <td>0.267267</td>\n      <td>0.362362</td>\n      <td>0.260260</td>\n      <td>...</td>\n      <td>0.412913</td>\n      <td>0.293293</td>\n      <td>0.301301</td>\n      <td>0.000000</td>\n      <td>0.537538</td>\n      <td>0.655155</td>\n      <td>0.353563</td>\n      <td>0.0</td>\n      <td>0.410911</td>\n      <td>False</td>\n    </tr>\n    <tr>\n      <th>110672</th>\n      <td>0.614615</td>\n      <td>0.779279</td>\n      <td>0.578078</td>\n      <td>0.916917</td>\n      <td>0.708709</td>\n      <td>0.737237</td>\n      <td>0.715465</td>\n      <td>0.574074</td>\n      <td>0.797786</td>\n      <td>0.390390</td>\n      <td>...</td>\n      <td>0.873654</td>\n      <td>0.743744</td>\n      <td>0.705706</td>\n      <td>0.000000</td>\n      <td>0.835836</td>\n      <td>0.215215</td>\n      <td>0.793514</td>\n      <td>0.0</td>\n      <td>0.410911</td>\n      <td>False</td>\n    </tr>\n    <tr>\n      <th>110673</th>\n      <td>0.321822</td>\n      <td>0.217217</td>\n      <td>0.000000</td>\n      <td>0.436436</td>\n      <td>0.356857</td>\n      <td>0.162162</td>\n      <td>0.353353</td>\n      <td>0.000000</td>\n      <td>0.384384</td>\n      <td>0.321468</td>\n      <td>...</td>\n      <td>0.425425</td>\n      <td>0.388388</td>\n      <td>0.355856</td>\n      <td>0.000000</td>\n      <td>0.324324</td>\n      <td>0.655155</td>\n      <td>0.377978</td>\n      <td>0.0</td>\n      <td>0.000000</td>\n      <td>False</td>\n    </tr>\n    <tr>\n      <th>110674</th>\n      <td>0.583083</td>\n      <td>0.474975</td>\n      <td>0.448949</td>\n      <td>0.436436</td>\n      <td>0.505005</td>\n      <td>0.423423</td>\n      <td>0.545555</td>\n      <td>0.449449</td>\n      <td>0.561070</td>\n      <td>0.512513</td>\n      <td>...</td>\n      <td>0.571572</td>\n      <td>0.596597</td>\n      <td>0.535536</td>\n      <td>0.938939</td>\n      <td>0.537538</td>\n      <td>0.522022</td>\n      <td>0.553555</td>\n      <td>0.0</td>\n      <td>0.000000</td>\n      <td>False</td>\n    </tr>\n  </tbody>\n</table>\n<p>109274 rows × 22 columns</p>\n</div>"
     },
     "execution_count": 7,
     "metadata": {},
     "output_type": "execute_result"
    }
   ],
   "source": [
    "df_train.dropna(axis=0,inplace=True)\n",
    "df_train"
   ]
  },
  {
   "cell_type": "markdown",
   "metadata": {},
   "source": [
    "## iqr outlier detection"
   ]
  },
  {
   "cell_type": "code",
   "execution_count": 8,
   "metadata": {
    "ExecuteTime": {
     "end_time": "2023-10-23T04:47:36.772609Z",
     "start_time": "2023-10-23T04:47:36.767201Z"
    }
   },
   "outputs": [],
   "source": [
    "def iqr_outlier_detection(data):\n",
    "\n",
    "    q1, q3 = np.percentile(data, [25, 75])\n",
    " \n",
    "    iqr = q3 - q1\n",
    "\n",
    "    threshold = iqr * 1.5\n",
    "    outliers = [x for x in data if x < q1 - threshold or x > q3 + threshold]\n",
    "\n",
    "    data_filtered = data[~np.isin(data, outliers)]\n",
    "\n",
    "    return data_filtered\n"
   ]
  },
  {
   "cell_type": "code",
   "execution_count": 9,
   "metadata": {
    "ExecuteTime": {
     "end_time": "2023-10-23T04:48:01.785196Z",
     "start_time": "2023-10-23T04:47:37.169704Z"
    }
   },
   "outputs": [],
   "source": [
    "for col in df_train.columns:\n",
    "  iqr_outlier_detection(df_train[col])\n"
   ]
  },
  {
   "cell_type": "markdown",
   "metadata": {},
   "source": [
    "## Feature Engineering"
   ]
  },
  {
   "cell_type": "code",
   "execution_count": 10,
   "metadata": {
    "ExecuteTime": {
     "end_time": "2023-10-23T04:48:01.785489Z",
     "start_time": "2023-10-23T04:48:01.776760Z"
    }
   },
   "outputs": [],
   "source": [
    "df_train['defects'] = df_train.defects.astype(int)\n"
   ]
  },
  {
   "cell_type": "code",
   "execution_count": 11,
   "metadata": {
    "ExecuteTime": {
     "end_time": "2023-10-23T04:48:01.785759Z",
     "start_time": "2023-10-23T04:48:01.780132Z"
    }
   },
   "outputs": [],
   "source": [
    "df_test['l']  = 1.0 - df_test['l']\n",
    "df_train['l'] = 1.0 - df_train['l']\n"
   ]
  },
  {
   "cell_type": "code",
   "execution_count": 12,
   "metadata": {
    "ExecuteTime": {
     "end_time": "2023-10-23T04:48:01.837428Z",
     "start_time": "2023-10-23T04:48:01.784787Z"
    }
   },
   "outputs": [],
   "source": [
    "def add_feat(X):\n",
    "    df = X.copy()\n",
    "    df[\"mean_bnv\"] = (df[\"n\"] + df[\"v\"] + df[\"b\"]) / 3\n",
    "    df[\"mean_uniqOpOpend\"] = (df[\"uniq_Op\"] + df[\"uniq_Opnd\"]) / 2\n",
    "    df[\"mean_totOpOpend\"] = (df[\"total_Op\"] + df[\"total_Opnd\"]) / 2\n",
    "    df[\"mean_brcntvg\"] = (df[\"branchCount\"] + df[\"v(g)\"]) / 2\n",
    "    return df\n",
    "\n",
    "\n",
    "df_train = add_feat(df_train)\n",
    "df_test = add_feat(df_test)\n",
    "\n",
    "### HERE ###############\n",
    "df_train.dropna(axis=0,inplace=True)\n",
    "### HERE ###############\n"
   ]
  },
  {
   "cell_type": "markdown",
   "source": [
    "# Modeling"
   ],
   "metadata": {
    "collapsed": false
   }
  },
  {
   "cell_type": "code",
   "execution_count": 13,
   "outputs": [
    {
     "data": {
      "text/plain": "        uniq_Opnd    lOCode  branchCount   lOBlank  total_Op       loc  \\\n0        0.368368  0.580581     0.448949  0.278278  0.576577  0.484484   \n1        0.460460  0.416917     0.262763  0.278278  0.301301  0.288789   \n2        0.460460  0.296797     0.262763  0.278278  0.463463  0.196697   \n3        0.210711  0.141642     0.000000  0.436436  0.263764  0.103604   \n4        0.210711  0.258759     0.262763  0.436436  0.150651  0.196697   \n...           ...       ...          ...       ...       ...       ...   \n110669   0.750250  0.602603     0.262763  0.687688  0.664164  0.526527   \n110671   0.321822  0.178178     0.262763  0.436436  0.319319  0.132132   \n110672   0.614615  0.779279     0.578078  0.916917  0.708709  0.737237   \n110673   0.321822  0.217217     0.000000  0.436436  0.356857  0.162162   \n110674   0.583083  0.474975     0.448949  0.436436  0.505005  0.423423   \n\n               v      v(g)         e         i  ...  locCodeAndComment  \\\n0       0.553554  0.449449  0.647648  0.212212  ...           0.000000   \n1       0.362362  0.267267  0.335013  0.434434  ...           0.000000   \n2       0.443443  0.267267  0.452452  0.481481  ...           0.000000   \n3       0.242242  0.000000  0.227544  0.335318  ...           0.000000   \n4       0.157157  0.267267  0.201201  0.153153  ...           0.000000   \n...          ...       ...       ...       ...  ...                ...   \n110669  0.693010  0.267267  0.655852  0.806484  ...           0.000000   \n110671  0.321822  0.267267  0.362362  0.260260  ...           0.000000   \n110672  0.715465  0.574074  0.797786  0.390390  ...           0.000000   \n110673  0.353353  0.000000  0.384384  0.321468  ...           0.000000   \n110674  0.545555  0.449449  0.561070  0.512513  ...           0.938939   \n\n         uniq_Op         l         t  ev(g)     iv(g)  mean_bnv  \\\n0       0.758258  0.640140  0.639708    0.0  0.410911  0.545379   \n1       0.462462  0.267267  0.327028    0.0  0.410911  0.347347   \n2       0.537538  0.387387  0.446446    0.0  0.410911  0.450117   \n3       0.262763  0.156156  0.225744    0.0  0.000000  0.236904   \n4       0.207708  0.172673  0.197197    0.0  0.410911  0.159826   \n...          ...       ...       ...    ...       ...       ...   \n110669  0.462462  0.528529  0.647595    0.0  0.410911  0.689629   \n110671  0.537538  0.344845  0.353563    0.0  0.410911  0.310477   \n110672  0.835836  0.784785  0.793514    0.0  0.410911  0.710961   \n110673  0.324324  0.344845  0.377978    0.0  0.000000  0.357858   \n110674  0.537538  0.477978  0.553555    0.0  0.000000  0.539376   \n\n        mean_uniqOpOpend  mean_totOpOpend  mean_brcntvg  \n0               0.563313         0.554054      0.449199  \n1               0.461461         0.332583      0.265015  \n2               0.498999         0.447948      0.265015  \n3               0.236737         0.219720      0.000000  \n4               0.209209         0.208208      0.265015  \n...                  ...              ...           ...  \n110669          0.606356         0.703954      0.265015  \n110671          0.429680         0.306306      0.265015  \n110672          0.725225         0.726226      0.576076  \n110673          0.323073         0.372623      0.000000  \n110674          0.560310         0.550801      0.449199  \n\n[109274 rows x 25 columns]",
      "text/html": "<div>\n<style scoped>\n    .dataframe tbody tr th:only-of-type {\n        vertical-align: middle;\n    }\n\n    .dataframe tbody tr th {\n        vertical-align: top;\n    }\n\n    .dataframe thead th {\n        text-align: right;\n    }\n</style>\n<table border=\"1\" class=\"dataframe\">\n  <thead>\n    <tr style=\"text-align: right;\">\n      <th></th>\n      <th>uniq_Opnd</th>\n      <th>lOCode</th>\n      <th>branchCount</th>\n      <th>lOBlank</th>\n      <th>total_Op</th>\n      <th>loc</th>\n      <th>v</th>\n      <th>v(g)</th>\n      <th>e</th>\n      <th>i</th>\n      <th>...</th>\n      <th>locCodeAndComment</th>\n      <th>uniq_Op</th>\n      <th>l</th>\n      <th>t</th>\n      <th>ev(g)</th>\n      <th>iv(g)</th>\n      <th>mean_bnv</th>\n      <th>mean_uniqOpOpend</th>\n      <th>mean_totOpOpend</th>\n      <th>mean_brcntvg</th>\n    </tr>\n  </thead>\n  <tbody>\n    <tr>\n      <th>0</th>\n      <td>0.368368</td>\n      <td>0.580581</td>\n      <td>0.448949</td>\n      <td>0.278278</td>\n      <td>0.576577</td>\n      <td>0.484484</td>\n      <td>0.553554</td>\n      <td>0.449449</td>\n      <td>0.647648</td>\n      <td>0.212212</td>\n      <td>...</td>\n      <td>0.000000</td>\n      <td>0.758258</td>\n      <td>0.640140</td>\n      <td>0.639708</td>\n      <td>0.0</td>\n      <td>0.410911</td>\n      <td>0.545379</td>\n      <td>0.563313</td>\n      <td>0.554054</td>\n      <td>0.449199</td>\n    </tr>\n    <tr>\n      <th>1</th>\n      <td>0.460460</td>\n      <td>0.416917</td>\n      <td>0.262763</td>\n      <td>0.278278</td>\n      <td>0.301301</td>\n      <td>0.288789</td>\n      <td>0.362362</td>\n      <td>0.267267</td>\n      <td>0.335013</td>\n      <td>0.434434</td>\n      <td>...</td>\n      <td>0.000000</td>\n      <td>0.462462</td>\n      <td>0.267267</td>\n      <td>0.327028</td>\n      <td>0.0</td>\n      <td>0.410911</td>\n      <td>0.347347</td>\n      <td>0.461461</td>\n      <td>0.332583</td>\n      <td>0.265015</td>\n    </tr>\n    <tr>\n      <th>2</th>\n      <td>0.460460</td>\n      <td>0.296797</td>\n      <td>0.262763</td>\n      <td>0.278278</td>\n      <td>0.463463</td>\n      <td>0.196697</td>\n      <td>0.443443</td>\n      <td>0.267267</td>\n      <td>0.452452</td>\n      <td>0.481481</td>\n      <td>...</td>\n      <td>0.000000</td>\n      <td>0.537538</td>\n      <td>0.387387</td>\n      <td>0.446446</td>\n      <td>0.0</td>\n      <td>0.410911</td>\n      <td>0.450117</td>\n      <td>0.498999</td>\n      <td>0.447948</td>\n      <td>0.265015</td>\n    </tr>\n    <tr>\n      <th>3</th>\n      <td>0.210711</td>\n      <td>0.141642</td>\n      <td>0.000000</td>\n      <td>0.436436</td>\n      <td>0.263764</td>\n      <td>0.103604</td>\n      <td>0.242242</td>\n      <td>0.000000</td>\n      <td>0.227544</td>\n      <td>0.335318</td>\n      <td>...</td>\n      <td>0.000000</td>\n      <td>0.262763</td>\n      <td>0.156156</td>\n      <td>0.225744</td>\n      <td>0.0</td>\n      <td>0.000000</td>\n      <td>0.236904</td>\n      <td>0.236737</td>\n      <td>0.219720</td>\n      <td>0.000000</td>\n    </tr>\n    <tr>\n      <th>4</th>\n      <td>0.210711</td>\n      <td>0.258759</td>\n      <td>0.262763</td>\n      <td>0.436436</td>\n      <td>0.150651</td>\n      <td>0.196697</td>\n      <td>0.157157</td>\n      <td>0.267267</td>\n      <td>0.201201</td>\n      <td>0.153153</td>\n      <td>...</td>\n      <td>0.000000</td>\n      <td>0.207708</td>\n      <td>0.172673</td>\n      <td>0.197197</td>\n      <td>0.0</td>\n      <td>0.410911</td>\n      <td>0.159826</td>\n      <td>0.209209</td>\n      <td>0.208208</td>\n      <td>0.265015</td>\n    </tr>\n    <tr>\n      <th>...</th>\n      <td>...</td>\n      <td>...</td>\n      <td>...</td>\n      <td>...</td>\n      <td>...</td>\n      <td>...</td>\n      <td>...</td>\n      <td>...</td>\n      <td>...</td>\n      <td>...</td>\n      <td>...</td>\n      <td>...</td>\n      <td>...</td>\n      <td>...</td>\n      <td>...</td>\n      <td>...</td>\n      <td>...</td>\n      <td>...</td>\n      <td>...</td>\n      <td>...</td>\n      <td>...</td>\n    </tr>\n    <tr>\n      <th>110669</th>\n      <td>0.750250</td>\n      <td>0.602603</td>\n      <td>0.262763</td>\n      <td>0.687688</td>\n      <td>0.664164</td>\n      <td>0.526527</td>\n      <td>0.693010</td>\n      <td>0.267267</td>\n      <td>0.655852</td>\n      <td>0.806484</td>\n      <td>...</td>\n      <td>0.000000</td>\n      <td>0.462462</td>\n      <td>0.528529</td>\n      <td>0.647595</td>\n      <td>0.0</td>\n      <td>0.410911</td>\n      <td>0.689629</td>\n      <td>0.606356</td>\n      <td>0.703954</td>\n      <td>0.265015</td>\n    </tr>\n    <tr>\n      <th>110671</th>\n      <td>0.321822</td>\n      <td>0.178178</td>\n      <td>0.262763</td>\n      <td>0.436436</td>\n      <td>0.319319</td>\n      <td>0.132132</td>\n      <td>0.321822</td>\n      <td>0.267267</td>\n      <td>0.362362</td>\n      <td>0.260260</td>\n      <td>...</td>\n      <td>0.000000</td>\n      <td>0.537538</td>\n      <td>0.344845</td>\n      <td>0.353563</td>\n      <td>0.0</td>\n      <td>0.410911</td>\n      <td>0.310477</td>\n      <td>0.429680</td>\n      <td>0.306306</td>\n      <td>0.265015</td>\n    </tr>\n    <tr>\n      <th>110672</th>\n      <td>0.614615</td>\n      <td>0.779279</td>\n      <td>0.578078</td>\n      <td>0.916917</td>\n      <td>0.708709</td>\n      <td>0.737237</td>\n      <td>0.715465</td>\n      <td>0.574074</td>\n      <td>0.797786</td>\n      <td>0.390390</td>\n      <td>...</td>\n      <td>0.000000</td>\n      <td>0.835836</td>\n      <td>0.784785</td>\n      <td>0.793514</td>\n      <td>0.0</td>\n      <td>0.410911</td>\n      <td>0.710961</td>\n      <td>0.725225</td>\n      <td>0.726226</td>\n      <td>0.576076</td>\n    </tr>\n    <tr>\n      <th>110673</th>\n      <td>0.321822</td>\n      <td>0.217217</td>\n      <td>0.000000</td>\n      <td>0.436436</td>\n      <td>0.356857</td>\n      <td>0.162162</td>\n      <td>0.353353</td>\n      <td>0.000000</td>\n      <td>0.384384</td>\n      <td>0.321468</td>\n      <td>...</td>\n      <td>0.000000</td>\n      <td>0.324324</td>\n      <td>0.344845</td>\n      <td>0.377978</td>\n      <td>0.0</td>\n      <td>0.000000</td>\n      <td>0.357858</td>\n      <td>0.323073</td>\n      <td>0.372623</td>\n      <td>0.000000</td>\n    </tr>\n    <tr>\n      <th>110674</th>\n      <td>0.583083</td>\n      <td>0.474975</td>\n      <td>0.448949</td>\n      <td>0.436436</td>\n      <td>0.505005</td>\n      <td>0.423423</td>\n      <td>0.545555</td>\n      <td>0.449449</td>\n      <td>0.561070</td>\n      <td>0.512513</td>\n      <td>...</td>\n      <td>0.938939</td>\n      <td>0.537538</td>\n      <td>0.477978</td>\n      <td>0.553555</td>\n      <td>0.0</td>\n      <td>0.000000</td>\n      <td>0.539376</td>\n      <td>0.560310</td>\n      <td>0.550801</td>\n      <td>0.449199</td>\n    </tr>\n  </tbody>\n</table>\n<p>109274 rows × 25 columns</p>\n</div>"
     },
     "execution_count": 13,
     "metadata": {},
     "output_type": "execute_result"
    }
   ],
   "source": [
    "X_train = df_train.drop(['defects'], axis=1)\n",
    "y_train = df_train['defects']\n",
    "X_test = df_test\n",
    "\n",
    "X_train\n"
   ],
   "metadata": {
    "collapsed": false,
    "ExecuteTime": {
     "end_time": "2023-10-23T04:48:01.853475Z",
     "start_time": "2023-10-23T04:48:01.831999Z"
    }
   }
  },
  {
   "cell_type": "markdown",
   "source": [
    "## Evaluation Metric (AUC)"
   ],
   "metadata": {
    "collapsed": false
   }
  },
  {
   "cell_type": "code",
   "execution_count": 14,
   "outputs": [],
   "source": [
    "from sklearn.metrics import roc_auc_score, roc_curve, auc\n",
    "from sklearn.model_selection import cross_val_score\n",
    "\n",
    "def roc_auc(true_list, pred_list, figlen):\n",
    "    \n",
    "    fpr, tpr, _ = roc_curve(true_list, pred_list)    \n",
    "    roc_auc = auc(fpr, tpr)\n",
    "    print(f'\\nROC_AUC: %0.6f\\n' %roc_auc)\n",
    "    \n",
    "    if (figlen > 0):\n",
    "        sns.set()\n",
    "        plt.style.use('seaborn-whitegrid')\n",
    "        plt.figure(figsize=(figlen, figlen), facecolor='lightyellow')\n",
    "        plt.gca().set_facecolor('lightgray')\n",
    "        plt.fill_between(fpr, tpr, color='r', alpha=0.1)\n",
    "        plt.plot(fpr, tpr, color='red', lw=2, label='ROC curve')\n",
    "        plt.plot([0, 1], [0, 1], color='navy', lw=2, linestyle='--')\n",
    "        plt.xlim([-0.01, 1.0])\n",
    "        plt.ylim([0.0, 1.05])\n",
    "        plt.xlabel('False Positive Rate')\n",
    "        plt.ylabel('True Positive Rate')\n",
    "        plt.title('The area under the ROC curve\\n', fontsize=16, c='darkred')\n",
    "        plt.legend(loc=\"lower right\")\n",
    "        plt.show()"
   ],
   "metadata": {
    "collapsed": false,
    "ExecuteTime": {
     "end_time": "2023-10-23T04:48:01.853679Z",
     "start_time": "2023-10-23T04:48:01.846655Z"
    }
   }
  },
  {
   "cell_type": "markdown",
   "source": [
    "## HyperParameter Tuning"
   ],
   "metadata": {
    "collapsed": false
   }
  },
  {
   "cell_type": "code",
   "execution_count": 15,
   "outputs": [],
   "source": [
    "from bayes_opt import BayesianOptimization\n",
    "\n",
    "\n",
    "def lgbm_cl_bo(min_child_samples, colsample_bytree, learning_rate, num_leaves, reg_alpha, reg_lambda):\n",
    "    \n",
    "    params_lgbm = {}\n",
    "    params_lgbm['min_child_samples'] = round(min_child_samples)\n",
    "    params_lgbm['colsample_bytree'] = colsample_bytree\n",
    "    params_lgbm['learning_rate'] = learning_rate\n",
    "    params_lgbm['num_leaves'] = round(num_leaves)\n",
    "    params_lgbm['reg_alpha'] = reg_alpha\n",
    "    params_lgbm['reg_lambda'] = reg_lambda    \n",
    "       \n",
    "    params_lgbm['boosting_type'] ='gbdt'   # Manual optimization\n",
    "    params_lgbm['objective'] ='binary'     # Manual optimization\n",
    "    params_lgbm['subsample'] = 1.0\n",
    "    params_lgbm['max_bin'] = 1023\n",
    "    params_lgbm['n_jobs'] = -1\n",
    "    params_lgbm['verbose'] = -1\n",
    "\n",
    "    scores = cross_val_score(LGBMClassifier(**params_lgbm, random_state=2920), X_train, y_train, scoring='roc_auc', cv=5).mean()\n",
    "    score = scores.mean()\n",
    "    return score"
   ],
   "metadata": {
    "collapsed": false,
    "ExecuteTime": {
     "end_time": "2023-10-23T04:48:01.876893Z",
     "start_time": "2023-10-23T04:48:01.849863Z"
    }
   }
  },
  {
   "cell_type": "code",
   "execution_count": 16,
   "outputs": [],
   "source": [
    "params_lgbm ={'min_child_samples':(800, 1200),\n",
    "              'colsample_bytree':(0.3, 1.0),\n",
    "              'learning_rate':(0.005, 0.1),\n",
    "              'num_leaves':(20, 60),\n",
    "              'reg_alpha':(0.0, 10.0),\n",
    "              'reg_lambda':(0.0, 5.0)}\n",
    "\n",
    "# lgbm_bo = BayesianOptimization(lgbm_cl_bo, params_lgbm, random_state=2920)\n",
    "# import warnings\n",
    "# warnings.filterwarnings('ignore')\n",
    "# lgbm_bo.maximize(n_iter=30, init_points=20)"
   ],
   "metadata": {
    "collapsed": false,
    "ExecuteTime": {
     "end_time": "2023-10-23T04:48:01.877819Z",
     "start_time": "2023-10-23T04:48:01.860145Z"
    }
   }
  },
  {
   "cell_type": "markdown",
   "metadata": {},
   "source": [
    "## Hill Climbing Ensemble"
   ]
  },
  {
   "cell_type": "code",
   "execution_count": 17,
   "metadata": {
    "ExecuteTime": {
     "end_time": "2023-10-23T04:48:01.878051Z",
     "start_time": "2023-10-23T04:48:01.864892Z"
    }
   },
   "outputs": [],
   "source": [
    "def hill_climbing(x, y, x_test):\n",
    "\n",
    "    # Evaluating oof predictions\n",
    "    scores = {}\n",
    "    for col in x.columns:\n",
    "        scores[col] = roc_auc_score(y, x[col])\n",
    "\n",
    "    # Sorting the model scores\n",
    "    scores = {k: v for k, v in sorted(scores.items(), key = lambda item: item[1], reverse = True)}\n",
    "\n",
    "    # Sort oof_df and test_preds\n",
    "    x = x[list(scores.keys())]\n",
    "    x_test = x_test[list(scores.keys())]\n",
    "\n",
    "    STOP = False\n",
    "    current_best_ensemble = x.iloc[:,0]\n",
    "    current_best_test_preds = x_test.iloc[:,0]\n",
    "    MODELS = x.iloc[:,1:]\n",
    "    weight_range = np.arange(-0.5, 0.71, 0.01)\n",
    "    history = [roc_auc_score(y, current_best_ensemble)]\n",
    "    j = 0\n",
    "    while not STOP:\n",
    "        j += 1\n",
    "        potential_new_best_cv_score = roc_auc_score(y, current_best_ensemble)\n",
    "        k_best, wgt_best = None, None\n",
    "        for k in MODELS:\n",
    "            for wgt in weight_range:\n",
    "                potential_ensemble = (1 - wgt) * current_best_ensemble + wgt * MODELS[k]\n",
    "                cv_score = roc_auc_score(y, potential_ensemble)\n",
    "                if cv_score > potential_new_best_cv_score:\n",
    "                    potential_new_best_cv_score = cv_score\n",
    "                    k_best, wgt_best = k, wgt\n",
    "\n",
    "        if k_best is not None:\n",
    "            current_best_ensemble = (1 - wgt_best) * current_best_ensemble + wgt_best * MODELS[k_best]\n",
    "            current_best_test_preds = (1 - wgt_best) * current_best_test_preds + wgt_best * x_test[k_best]\n",
    "            MODELS.drop(k_best, axis = 1, inplace = True)\n",
    "            if MODELS.shape[1] == 0:\n",
    "                STOP = True\n",
    "            history.append(potential_new_best_cv_score)\n",
    "        else:\n",
    "            STOP = True\n",
    "\n",
    "    hill_ens_pred_1 = current_best_ensemble\n",
    "    hill_ens_pred_2 = current_best_test_preds\n",
    "\n",
    "    return [hill_ens_pred_1, hill_ens_pred_2]\n"
   ]
  },
  {
   "cell_type": "markdown",
   "metadata": {},
   "source": [
    "## hyperparameter sets"
   ]
  },
  {
   "cell_type": "code",
   "execution_count": 26,
   "metadata": {
    "ExecuteTime": {
     "end_time": "2023-10-23T04:54:22.639652Z",
     "start_time": "2023-10-23T04:54:22.627789Z"
    }
   },
   "outputs": [],
   "source": [
    "random_state = 43\n",
    "\n",
    "lgb_params0 = {\n",
    "    \"objective\": 'binary',\n",
    "    'metric': 'auc',\n",
    "    'boosting_type': 'dart',\n",
    "     \"n_estimators\": 100,\n",
    "     \"max_depth\": 7,\n",
    "     \"learning_rate\":0.03,\n",
    "     \"num_leaves\": 50,\n",
    "     \"reg_alpha\":3,\n",
    "     \"reg_lambda\": 3,\n",
    "     \"subsample\": 0.7,\n",
    "     'device': 'gpu' if torch.cuda.is_available() else 'cpu',\n",
    "     \"colsample_bytree\": 0.7,\n",
    "     'verbose': -1,\n",
    "    'min_child_samples': 864,\n",
    "}\n",
    "\n",
    "lgb_params1 = {\n",
    "    'objective': 'binary',\n",
    "    'metric': 'auc',\n",
    "    'boosting_type': 'dart',\n",
    "    'random_state': 42,\n",
    "    'colsample_bytree': 0.50,\n",
    "    'subsample': 0.70,\n",
    "    'learning_rate': 0.0625,\n",
    "    'max_depth': -1,\n",
    "    'n_estimators': 100,\n",
    "    'num_leaves': 20,\n",
    "    'reg_alpha': 0.0001,\n",
    "    'reg_lambda': 2.0,\n",
    "    'device': 'gpu' if torch.cuda.is_available() else 'cpu',\n",
    "    'random_state': random_state,\n",
    "    'verbose': -1,  \n",
    "    'min_child_samples': 864,\n",
    "}\n",
    "\n",
    "lgb_params2 = {\n",
    "    'objective': 'binary',\n",
    "    'metric': 'auc',\n",
    "    'boosting_type': 'gbdt',\n",
    "    'random_state': 42,\n",
    "    'colsample_bytree': 0.50,\n",
    "    'subsample': 0.70,\n",
    "    'learning_rate': 0.0625,\n",
    "    'max_depth': -1,\n",
    "    'n_estimators': 100,\n",
    "    'num_leaves': 20,\n",
    "    'reg_alpha': 0.0001,\n",
    "    'reg_lambda': 2.0,\n",
    "    'device': 'gpu' if torch.cuda.is_available() else 'cpu',\n",
    "    'random_state': random_state,\n",
    "    'verbose': -1,\n",
    "    'min_child_samples': 864,\n",
    "}\n",
    "lgb_params3 = {\n",
    "    'objective': 'binary',\n",
    "    'metric': 'auc',\n",
    "    'boosting_type': 'gbdt',\n",
    "    'random_state': 42,\n",
    "    \n",
    "    'colsample_bytree': 0.5688,\n",
    "    'learning_rate': 0.07712,\n",
    "    'min_child_samples': 864,\n",
    "    'num_leaves': 23,\n",
    "    'reg_alpha': 0.6515,\n",
    "    'reg_lambda': 3.118,\n",
    "    \n",
    "    'subsample': 0.70, \n",
    "    'max_depth': -1,\n",
    "    'n_estimators': 100,\n",
    "    'device': 'gpu' if torch.cuda.is_available() else 'cpu',\n",
    "    'random_state': random_state,\n",
    "    'verbose': -1,\n",
    "}\n",
    "\n",
    "xgb_optuna0 = {\n",
    "    'n_estimators': 10000,\n",
    "    'learning_rate': 0.01752354328845971,\n",
    "    'booster': 'gbtree',\n",
    "    'lambda': 0.08159630121074074,\n",
    "    'alpha': 0.07564858712175693,\n",
    "    'subsample': 0.5065979400270813,\n",
    "    'colsample_bytree': 0.6187340851873067,\n",
    "    'max_depth': 4,\n",
    "    'min_child_weight': 5,\n",
    "    'eta': 0.2603059902806757,\n",
    "    'gamma': 0.6567360773618207,\n",
    "    'early_stopping_rounds': 100,\n",
    "    'tree_method': 'hist',\n",
    "    'random_state': random_state\n",
    "}\n",
    "\n",
    "xgb_params0 = {\n",
    "    'n_estimators': 10000,\n",
    "    'learning_rate': 0.09641232707445854,\n",
    "    'booster': 'gbtree',\n",
    "    'lambda': 4.666002223704784,\n",
    "    'alpha': 3.708175990751336,\n",
    "    'subsample': 0.6100174145229473,\n",
    "    'colsample_bytree': 0.5506821152321051,\n",
    "    'max_depth': 7,\n",
    "    'min_child_weight': 3,\n",
    "    'eta': 1.740374368661041,\n",
    "    'gamma': 0.007427363662926455,\n",
    "    'grow_policy': 'depthwise',\n",
    "    'objective': 'binary:logistic',\n",
    "    'eval_metric': 'logloss',\n",
    "    'verbosity': 0,\n",
    "    'random_state': random_state,\n",
    "    'early_stopping_rounds': 100,\n",
    "    'tree_method': 'hist',\n",
    "}\n",
    "\n",
    "xgb_params1 = {\n",
    "    'n_estimators': 10000,\n",
    "    'learning_rate': 0.012208383405206188,\n",
    "    'booster': 'gbtree',\n",
    "    'lambda': 0.009968756668882757,\n",
    "    'alpha': 0.02666266827121168,\n",
    "    'subsample': 0.7097814108897231,\n",
    "    'colsample_bytree': 0.7946945784285216,\n",
    "    'max_depth': 3,\n",
    "    'min_child_weight': 4,\n",
    "    'eta': 0.5480204506554545,\n",
    "    'gamma': 0.8788654128774149,\n",
    "    'scale_pos_weight': 4.71,\n",
    "    'objective': 'binary:logistic',\n",
    "    'eval_metric': 'logloss',\n",
    "    'early_stopping_rounds': 100,\n",
    "    'verbosity': 0,\n",
    "    'random_state': random_state,\n",
    "    'tree_method': 'hist',\n",
    "}\n",
    "\n",
    "\n",
    "\n",
    "xgb_params2 = {\n",
    "    'n_estimators': 10000,\n",
    "    'colsample_bytree': 0.5646751146007976,\n",
    "    'gamma': 7.788727238356553e-06,\n",
    "    'learning_rate': 0.1419865761603358,\n",
    "    'max_bin': 824,\n",
    "    'min_child_weight': 1,\n",
    "    'random_state': 811996,\n",
    "    'reg_alpha': 1.6259583347890365e-07,\n",
    "    'reg_lambda': 2.110691851528507e-08,\n",
    "    'subsample': 0.879020578464637,\n",
    "    'objective': 'binary:logistic',\n",
    "    'eval_metric': 'logloss',\n",
    "    'max_depth': 3,\n",
    "    'early_stopping_rounds': 100,\n",
    "    'n_jobs': -1,\n",
    "    'verbosity': 0,\n",
    "    'random_state': random_state,\n",
    "    'tree_method': 'hist',\n",
    "   # 'scale_pos_weight': scale_pos_weight\n",
    "}\n",
    "\n",
    "xgb_params3 = {\n",
    "    'n_estimators': 10000,\n",
    "    'random_state': random_state,\n",
    "    'colsample_bytree': 0.4836462317215041,\n",
    "    'eta': 0.05976752607337169,\n",
    "    'gamma': 1,\n",
    "    'lambda': 0.2976432557733288,\n",
    "    'max_depth': 6,\n",
    "    'min_child_weight': 1,\n",
    "    'n_estimators': 550,\n",
    "    'early_stopping_rounds': 100,\n",
    "    'objective': 'binary:logistic',\n",
    "    'scale_pos_weight': 4.260162886376033,\n",
    "    'subsample': 0.7119282378433924,\n",
    "    'tree_method': 'hist',\n",
    "}\n",
    "\n",
    "xgb_params4 = {\n",
    "    'n_estimators': 10000,\n",
    "    'colsample_bytree': 0.8757972257439255,\n",
    "    'gamma': 0.11135738771999848,\n",
    "    'max_depth': 7,\n",
    "    'min_child_weight': 3,\n",
    "    'reg_alpha': 0.4833998914998038,\n",
    "    'reg_lambda': 0.006223568555619563,\n",
    "    'scale_pos_weight': 8,\n",
    "    'subsample': 0.7056434340275685,\n",
    "    'random_state': random_state,\n",
    "    'tree_method': 'hist',\n",
    "    'early_stopping_rounds': 100,\n",
    "}\n",
    "\n",
    "xgb_params5 = {\n",
    "    'n_estimators': 10000,\n",
    "    'max_depth': 5,\n",
    "    'min_child_weight': 2.934487833919741,\n",
    "    'learning_rate': 0.11341944575807082,\n",
    "    'subsample': 0.9045063514419968,\n",
    "    'gamma': 0.4329153382843715,\n",
    "    'colsample_bytree': 0.38872702868412506,\n",
    "    'colsample_bylevel': 0.8321880031718571,\n",
    "    'colsample_bynode': 0.802355707802605,\n",
    "    'random_state': random_state,\n",
    "    'tree_method': 'hist',\n",
    "    'early_stopping_rounds': 100,\n",
    "}\n",
    "\n",
    "xgb_base = {\n",
    "    'n_estimators': 1000,\n",
    "    'verbosity': 0,\n",
    "    'random_state': random_state,\n",
    "}\n",
    "\n",
    "xgb_params6 = {\n",
    "    'objective': 'binary:logistic',\n",
    "    'colsample_bytree': 0.7,\n",
    "    'gamma': 2,\n",
    "    'learning_rate': 0.01,\n",
    "    'max_depth': 7,\n",
    "    'min_child_weight': 10,\n",
    "    'n_estimators': 10000,\n",
    "    'subsample':0.7,\n",
    "    'random_state': random_state,\n",
    "    'tree_method': 'hist',\n",
    "    'early_stopping_rounds': 100,\n",
    "}\n",
    "\n",
    "cat_params0 = {\n",
    "    'iterations': 10000,\n",
    "    'eval_metric': 'AUC',\n",
    "    'loss_function': 'Logloss',\n",
    "    'task_type': 'GPU' if torch.cuda.is_available() else 'CPU',\n",
    "    'early_stopping_rounds': 100,\n",
    "    'auto_class_weights': 'Balanced'\n",
    "}\n"
   ]
  },
  {
   "cell_type": "markdown",
   "metadata": {},
   "source": [
    "## class initialization"
   ]
  },
  {
   "cell_type": "code",
   "execution_count": 19,
   "metadata": {
    "ExecuteTime": {
     "end_time": "2023-10-23T04:48:02.003236Z",
     "start_time": "2023-10-23T04:48:01.928572Z"
    }
   },
   "outputs": [],
   "source": [
    "from abc import ABCMeta\n",
    "from sklearn.ensemble import RandomForestClassifier, ExtraTreesClassifier, HistGradientBoostingClassifier\n",
    "from xgboost.sklearn import XGBClassifier\n",
    "from catboost import CatBoostClassifier\n",
    "from lightgbm import LGBMClassifier\n",
    "\n",
    "class BaseModel(metaclass=ABCMeta):\n",
    "    def __init__(self):\n",
    "        pass\n",
    "\n",
    "    def train(self, trn_x, trn_y, val_x, val_y):\n",
    "        pass\n",
    "\n",
    "    def predict(self, X):\n",
    "        pass\n",
    "\n",
    "\n",
    "class RandomForestModel(BaseModel):\n",
    "    def __init__(self):\n",
    "        super().__init__()\n",
    "        self.model = None\n",
    "\n",
    "    def train(self, trn_x, trn_y, val_x, val_y):\n",
    "        self.model = RandomForestClassifier(n_estimators = 1000,\n",
    "                                            class_weight='balanced',\n",
    "                                           max_depth = 7,\n",
    "                                           min_samples_split = 15,\n",
    "                                           min_samples_leaf = 10)\n",
    "        self.model.fit(trn_x, trn_y)\n",
    "\n",
    "    def predict(self, X):\n",
    "        return self.model.predict_proba(X)[:, 1]\n",
    "\n",
    "class HistGradientBoostingModel(BaseModel):\n",
    "    def __init__(self):\n",
    "        super().__init__()\n",
    "        self.model = None\n",
    "\n",
    "    def train(self, trn_x, trn_y, val_x, val_y):\n",
    "        self.model = HistGradientBoostingClassifier(l2_regularization = 0.01,\n",
    "                                             early_stopping = True,\n",
    "                                             learning_rate = 0.01,\n",
    "                                             max_iter = 1000,\n",
    "                                             max_depth = 5,\n",
    "                                             max_bins = 255,\n",
    "                                             min_samples_leaf = 15,\n",
    "                                             max_leaf_nodes = 10)\n",
    "        self.model.fit(trn_x, trn_y)\n",
    "\n",
    "    def predict(self, X):\n",
    "        return self.model.predict_proba(X)[:, 1]\n",
    "\n",
    "class LGBMModel(BaseModel):\n",
    "    def __init__(self, **config):\n",
    "        super().__init__()\n",
    "        self.config = config\n",
    "        self.model = LGBMClassifier(**self.config)\n",
    "\n",
    "    def train(self, trn_x, trn_y, val_x, val_y):\n",
    "        self.model.fit(trn_x, trn_y, eval_set=[(val_x, val_y)])\n",
    "\n",
    "    def predict(self, X):\n",
    "        return self.model.predict_proba(X)[:, 1]\n",
    "\n",
    "\n",
    "class XGBModel(BaseModel):\n",
    "    def __init__(self, **config):\n",
    "        super().__init__()\n",
    "        self.config = config\n",
    "        self.model = XGBClassifier(**self.config)\n",
    "\n",
    "    def train(self, trn_x, trn_y, val_x, val_y):\n",
    "        self.model.fit(trn_x, trn_y, eval_set=[(val_x, val_y)], verbose=0)\n",
    "\n",
    "\n",
    "    def predict(self, X):\n",
    "        return self.model.predict_proba(X)[:, 1]\n",
    "\n",
    "class CatBoostModel(BaseModel):\n",
    "    def __init__(self, **config):\n",
    "        super().__init__()\n",
    "        self.config = config\n",
    "        self.model = CatBoostClassifier(**self.config)\n",
    "\n",
    "    def train(self, trn_x, trn_y, val_x, val_y):\n",
    "        self.model.fit(trn_x, trn_y, eval_set=(val_x, val_y), verbose=0)\n",
    "\n",
    "    def predict(self, X):\n",
    "        return self.model.predict_proba(X)[:, 1]\n"
   ]
  },
  {
   "cell_type": "code",
   "execution_count": 20,
   "metadata": {
    "ExecuteTime": {
     "end_time": "2023-10-23T04:48:02.017506Z",
     "start_time": "2023-10-23T04:48:02.006864Z"
    }
   },
   "outputs": [],
   "source": [
    "from sklearn.model_selection import RepeatedStratifiedKFold\n",
    "\n",
    "def train(X_train, y_train, X_test, models, n_folds=10):\n",
    "\n",
    "    valid_preds, test_preds = dict(), dict()\n",
    "    hill_ens_preds =  list()\n",
    "\n",
    "    sk = RepeatedStratifiedKFold(n_splits = n_folds, n_repeats = 1, random_state = 42)\n",
    "    for i, (trn_idx, val_idx) in enumerate(sk.split(X_train, y_train)):\n",
    "\n",
    "        trn_x, trn_y = X_train.iloc[trn_idx], y_train.iloc[trn_idx]\n",
    "        val_x, val_y = X_train.iloc[val_idx], y_train.iloc[val_idx]\n",
    "\n",
    "        print('----------------------------------------------------------')\n",
    "        ens_pred_1 = np.zeros((val_x.shape[0], ))\n",
    "        ens_pred_2 = np.zeros((X_test.shape[0], ))\n",
    "\n",
    "        for idx, model in enumerate(models):\n",
    "            print(\"model\", model)\n",
    "            model.train(trn_x, trn_y, val_x, val_y)\n",
    "\n",
    "            ens_pred_1 = model.predict(val_x)\n",
    "            ens_pred_2 = model.predict(X_test)\n",
    "            \n",
    "            print(f\"ROC: {roc_auc_score(val_y, ens_pred_1)}\")\n",
    "            \n",
    "            valid_preds[f'model_{idx}'] = ens_pred_1\n",
    "            test_preds[f'model_{idx}'] = ens_pred_2\n",
    "\n",
    "        ens_pred_1 = np.mean(list(valid_preds.values()), axis=0)\n",
    "        ens_pred_2 = np.mean(list(test_preds.values()), axis=0)\n",
    "\n",
    "\n",
    "        ens_score_fold = roc_auc_score(val_y, ens_pred_1)\n",
    "        print('Fold', i, '==> Average Ensemble oof ROC-AUC score is ==>', ens_score_fold)\n",
    "\n",
    "        ############################\n",
    "        ## Hill Climbing Ensemble ##\n",
    "        ############################\n",
    "\n",
    "        x = pd.DataFrame(valid_preds)\n",
    "        y = val_y\n",
    "        x_test = pd.DataFrame(test_preds)\n",
    "\n",
    "        hill_results = hill_climbing(x, y, x_test)\n",
    "        hill_ens_score_fold = roc_auc_score(y, hill_results[0])\n",
    "\n",
    "        # test preds\n",
    "        hill_ens_preds.append(hill_results[1])\n",
    "\n",
    "        print('Fold', i, '==> Hill Climbing Ensemble oof ROC-AUC score is ==>', hill_ens_score_fold)\n",
    "        \n",
    "    return hill_ens_preds"
   ]
  },
  {
   "cell_type": "code",
   "execution_count": 21,
   "metadata": {
    "ExecuteTime": {
     "end_time": "2023-10-23T04:48:02.017918Z",
     "start_time": "2023-10-23T04:48:02.009041Z"
    }
   },
   "outputs": [],
   "source": [
    "# X_train, X_test, y_train = df_train[feat_list], df_test[feat_list], df_train[target]\n"
   ]
  },
  {
   "cell_type": "code",
   "execution_count": 29,
   "metadata": {
    "ExecuteTime": {
     "end_time": "2023-10-23T05:04:21.985078Z",
     "start_time": "2023-10-23T05:04:21.977461Z"
    }
   },
   "outputs": [],
   "source": [
    "models_v1 = [\n",
    "    LGBMModel(**lgb_params0), \n",
    "    LGBMModel(**lgb_params1),\n",
    "    LGBMModel(**lgb_params2),\n",
    "    XGBModel(**xgb_optuna0), \n",
    "    XGBModel(**xgb_params3),\n",
    "    XGBModel(**xgb_params6),\n",
    "    HistGradientBoostingModel(), \n",
    "    CatBoostModel(**cat_paraams0)\n",
    "]"
   ]
  },
  {
   "cell_type": "code",
   "execution_count": 30,
   "metadata": {
    "ExecuteTime": {
     "end_time": "2023-10-23T05:09:21.561756Z",
     "start_time": "2023-10-23T05:04:22.635620Z"
    }
   },
   "outputs": [
    {
     "name": "stdout",
     "output_type": "stream",
     "text": [
      "----------------------------------------------------------\n",
      "model <__main__.LGBMModel object at 0x2bd2924c0>\n",
      "ROC: 0.7768932181673762\n",
      "model <__main__.LGBMModel object at 0x2bd2920d0>\n",
      "ROC: 0.7773868839971034\n",
      "model <__main__.LGBMModel object at 0x2bd292be0>\n",
      "ROC: 0.7795238052607194\n",
      "model <__main__.XGBModel object at 0x2bd292c40>\n",
      "ROC: 0.7796107249304134\n",
      "model <__main__.XGBModel object at 0x13efbadc0>\n",
      "ROC: 0.7725619423434121\n",
      "model <__main__.XGBModel object at 0x13efbaeb0>\n",
      "ROC: 0.7798307951131913\n",
      "model <__main__.HistGradientBoostingModel object at 0x13efba9a0>\n",
      "ROC: 0.7788812865361623\n",
      "model <__main__.CatBoostModel object at 0x2bd27dac0>\n",
      "ROC: 0.7802912088403982\n",
      "Fold 0 ==> Average Ensemble oof ROC-AUC score is ==> 0.7799328013849547\n",
      "Fold 0 ==> Hill Climbing Ensemble oof ROC-AUC score is ==> 0.7807027628186737\n",
      "----------------------------------------------------------\n",
      "model <__main__.LGBMModel object at 0x2bd2924c0>\n",
      "ROC: 0.7856755152785122\n",
      "model <__main__.LGBMModel object at 0x2bd2920d0>\n",
      "ROC: 0.7854028433010773\n",
      "model <__main__.LGBMModel object at 0x2bd292be0>\n",
      "ROC: 0.7875890506226315\n",
      "model <__main__.XGBModel object at 0x2bd292c40>\n",
      "ROC: 0.786666920557364\n",
      "model <__main__.XGBModel object at 0x13efbadc0>\n",
      "ROC: 0.7771414957960958\n",
      "model <__main__.XGBModel object at 0x13efbaeb0>\n",
      "ROC: 0.7865199860530641\n",
      "model <__main__.HistGradientBoostingModel object at 0x13efba9a0>\n",
      "ROC: 0.7856380237697588\n",
      "model <__main__.CatBoostModel object at 0x2bd27dac0>\n",
      "ROC: 0.7859434031215387\n",
      "Fold 1 ==> Average Ensemble oof ROC-AUC score is ==> 0.7860396779055459\n",
      "Fold 1 ==> Hill Climbing Ensemble oof ROC-AUC score is ==> 0.7882122433388863\n",
      "----------------------------------------------------------\n",
      "model <__main__.LGBMModel object at 0x2bd2924c0>\n",
      "ROC: 0.7782462282192215\n",
      "model <__main__.LGBMModel object at 0x2bd2920d0>\n",
      "ROC: 0.7788536238183958\n",
      "model <__main__.LGBMModel object at 0x2bd292be0>\n",
      "ROC: 0.7803436922158865\n",
      "model <__main__.XGBModel object at 0x2bd292c40>\n",
      "ROC: 0.7805024449532048\n",
      "model <__main__.XGBModel object at 0x13efbadc0>\n",
      "ROC: 0.7744130944695549\n",
      "model <__main__.XGBModel object at 0x13efbaeb0>\n",
      "ROC: 0.7810117421131768\n",
      "model <__main__.HistGradientBoostingModel object at 0x13efba9a0>\n",
      "ROC: 0.7796975024971049\n",
      "model <__main__.CatBoostModel object at 0x2bd27dac0>\n",
      "ROC: 0.780112277476764\n",
      "Fold 2 ==> Average Ensemble oof ROC-AUC score is ==> 0.7806713580551821\n",
      "Fold 2 ==> Hill Climbing Ensemble oof ROC-AUC score is ==> 0.7812254176608548\n",
      "----------------------------------------------------------\n",
      "model <__main__.LGBMModel object at 0x2bd2924c0>\n",
      "ROC: 0.786882988172246\n",
      "model <__main__.LGBMModel object at 0x2bd2920d0>\n",
      "ROC: 0.7858847619492875\n",
      "model <__main__.LGBMModel object at 0x2bd292be0>\n",
      "ROC: 0.7881300367520996\n",
      "model <__main__.XGBModel object at 0x2bd292c40>\n",
      "ROC: 0.7889312608463077\n",
      "model <__main__.XGBModel object at 0x13efbadc0>\n",
      "ROC: 0.7810204340801461\n",
      "model <__main__.XGBModel object at 0x13efbaeb0>\n",
      "ROC: 0.7884988177267054\n",
      "model <__main__.HistGradientBoostingModel object at 0x13efba9a0>\n",
      "ROC: 0.7878801959903554\n",
      "model <__main__.CatBoostModel object at 0x2bd27dac0>\n",
      "ROC: 0.7890909135693067\n",
      "Fold 3 ==> Average Ensemble oof ROC-AUC score is ==> 0.7888401491380482\n",
      "Fold 3 ==> Hill Climbing Ensemble oof ROC-AUC score is ==> 0.789667567552333\n",
      "----------------------------------------------------------\n",
      "model <__main__.LGBMModel object at 0x2bd2924c0>\n",
      "ROC: 0.7827349025680014\n",
      "model <__main__.LGBMModel object at 0x2bd2920d0>\n",
      "ROC: 0.7824357985437728\n",
      "model <__main__.LGBMModel object at 0x2bd292be0>\n",
      "ROC: 0.7837711046747513\n",
      "model <__main__.XGBModel object at 0x2bd292c40>\n",
      "ROC: 0.7833658784289987\n",
      "model <__main__.XGBModel object at 0x13efbadc0>\n",
      "ROC: 0.7767478228003888\n",
      "model <__main__.XGBModel object at 0x13efbaeb0>\n",
      "ROC: 0.783155482062146\n",
      "model <__main__.HistGradientBoostingModel object at 0x13efba9a0>\n",
      "ROC: 0.7814169873078867\n",
      "model <__main__.CatBoostModel object at 0x2bd27dac0>\n",
      "ROC: 0.7837571019435792\n",
      "Fold 4 ==> Average Ensemble oof ROC-AUC score is ==> 0.7835385550868392\n",
      "Fold 4 ==> Hill Climbing Ensemble oof ROC-AUC score is ==> 0.7842374122080881\n",
      "----------------------------------------------------------\n",
      "model <__main__.LGBMModel object at 0x2bd2924c0>\n",
      "ROC: 0.7950574481593303\n",
      "model <__main__.LGBMModel object at 0x2bd2920d0>\n",
      "ROC: 0.795009540337959\n",
      "model <__main__.LGBMModel object at 0x2bd292be0>\n",
      "ROC: 0.7960222623997146\n",
      "model <__main__.XGBModel object at 0x2bd292c40>\n",
      "ROC: 0.7968768554803467\n",
      "model <__main__.XGBModel object at 0x13efbadc0>\n",
      "ROC: 0.7918984225295462\n",
      "model <__main__.XGBModel object at 0x13efbaeb0>\n",
      "ROC: 0.797358160862807\n",
      "model <__main__.HistGradientBoostingModel object at 0x13efba9a0>\n",
      "ROC: 0.7952951154967065\n",
      "model <__main__.CatBoostModel object at 0x2bd27dac0>\n",
      "ROC: 0.7961479315809971\n",
      "Fold 5 ==> Average Ensemble oof ROC-AUC score is ==> 0.7973825649458991\n",
      "Fold 5 ==> Hill Climbing Ensemble oof ROC-AUC score is ==> 0.7977507585878916\n",
      "----------------------------------------------------------\n",
      "model <__main__.LGBMModel object at 0x2bd2924c0>\n",
      "ROC: 0.7910467792319273\n",
      "model <__main__.LGBMModel object at 0x2bd2920d0>\n",
      "ROC: 0.7914362587605064\n",
      "model <__main__.LGBMModel object at 0x2bd292be0>\n",
      "ROC: 0.793891237551483\n",
      "model <__main__.XGBModel object at 0x2bd292c40>\n",
      "ROC: 0.7946460836024926\n",
      "model <__main__.XGBModel object at 0x13efbadc0>\n",
      "ROC: 0.7898267748167365\n",
      "model <__main__.XGBModel object at 0x13efbaeb0>\n",
      "ROC: 0.7935654514153719\n",
      "model <__main__.HistGradientBoostingModel object at 0x13efba9a0>\n",
      "ROC: 0.7925890167862526\n",
      "model <__main__.CatBoostModel object at 0x2bd27dac0>\n",
      "ROC: 0.7938496674868563\n",
      "Fold 6 ==> Average Ensemble oof ROC-AUC score is ==> 0.7945028267643947\n",
      "Fold 6 ==> Hill Climbing Ensemble oof ROC-AUC score is ==> 0.7951685636512303\n",
      "----------------------------------------------------------\n",
      "model <__main__.LGBMModel object at 0x2bd2924c0>\n",
      "ROC: 0.7833304751446544\n",
      "model <__main__.LGBMModel object at 0x2bd2920d0>\n",
      "ROC: 0.7832330993408481\n",
      "model <__main__.LGBMModel object at 0x2bd292be0>\n",
      "ROC: 0.7860109744970614\n",
      "model <__main__.XGBModel object at 0x2bd292c40>\n",
      "ROC: 0.7860299948742098\n",
      "model <__main__.XGBModel object at 0x13efbadc0>\n",
      "ROC: 0.7778089046631427\n",
      "model <__main__.XGBModel object at 0x13efbaeb0>\n",
      "ROC: 0.7866109572531829\n",
      "model <__main__.HistGradientBoostingModel object at 0x13efba9a0>\n",
      "ROC: 0.7850526838391696\n",
      "model <__main__.CatBoostModel object at 0x2bd27dac0>\n",
      "ROC: 0.7859683622199882\n",
      "Fold 7 ==> Average Ensemble oof ROC-AUC score is ==> 0.7858533161778849\n",
      "Fold 7 ==> Hill Climbing Ensemble oof ROC-AUC score is ==> 0.7872162458181227\n",
      "----------------------------------------------------------\n",
      "model <__main__.LGBMModel object at 0x2bd2924c0>\n",
      "ROC: 0.7802021323666655\n",
      "model <__main__.LGBMModel object at 0x2bd2920d0>\n",
      "ROC: 0.7793610906090027\n",
      "model <__main__.LGBMModel object at 0x2bd292be0>\n",
      "ROC: 0.7815261211600393\n",
      "model <__main__.XGBModel object at 0x2bd292c40>\n",
      "ROC: 0.7826816978967205\n",
      "model <__main__.XGBModel object at 0x13efbadc0>\n",
      "ROC: 0.7750657778173609\n",
      "model <__main__.XGBModel object at 0x13efbaeb0>\n",
      "ROC: 0.781941371760022\n",
      "model <__main__.HistGradientBoostingModel object at 0x13efba9a0>\n",
      "ROC: 0.7813709973120394\n",
      "model <__main__.CatBoostModel object at 0x2bd27dac0>\n",
      "ROC: 0.7817941355653102\n",
      "Fold 8 ==> Average Ensemble oof ROC-AUC score is ==> 0.7822606677549891\n",
      "Fold 8 ==> Hill Climbing Ensemble oof ROC-AUC score is ==> 0.7832538962164846\n",
      "----------------------------------------------------------\n",
      "model <__main__.LGBMModel object at 0x2bd2924c0>\n",
      "ROC: 0.7915285419353125\n",
      "model <__main__.LGBMModel object at 0x2bd2920d0>\n",
      "ROC: 0.7915912404886271\n",
      "model <__main__.LGBMModel object at 0x2bd292be0>\n",
      "ROC: 0.7937381270684365\n",
      "model <__main__.XGBModel object at 0x2bd292c40>\n",
      "ROC: 0.7939785939038151\n",
      "model <__main__.XGBModel object at 0x13efbadc0>\n",
      "ROC: 0.7888755901527978\n",
      "model <__main__.XGBModel object at 0x13efbaeb0>\n",
      "ROC: 0.7944380200995407\n",
      "model <__main__.HistGradientBoostingModel object at 0x13efba9a0>\n",
      "ROC: 0.7921195948256995\n",
      "model <__main__.CatBoostModel object at 0x2bd27dac0>\n",
      "ROC: 0.7948597371540209\n",
      "Fold 9 ==> Average Ensemble oof ROC-AUC score is ==> 0.7948189013754362\n",
      "Fold 9 ==> Hill Climbing Ensemble oof ROC-AUC score is ==> 0.795487196420095\n"
     ]
    }
   ],
   "source": [
    "hill_ens_preds = train(X_train, y_train, X_test, models_v1, n_folds=10)\n"
   ]
  },
  {
   "cell_type": "code",
   "execution_count": 24,
   "metadata": {
    "ExecuteTime": {
     "end_time": "2023-10-23T04:53:44.944106Z",
     "start_time": "2023-10-23T04:53:44.922362Z"
    }
   },
   "outputs": [
    {
     "ename": "NameError",
     "evalue": "name 'hill_ens_preds' is not defined",
     "output_type": "error",
     "traceback": [
      "\u001B[0;31m---------------------------------------------------------------------------\u001B[0m",
      "\u001B[0;31mNameError\u001B[0m                                 Traceback (most recent call last)",
      "Cell \u001B[0;32mIn[24], line 8\u001B[0m\n\u001B[1;32m      1\u001B[0m \u001B[38;5;66;03m# hill climbing\u001B[39;00m\n\u001B[1;32m      2\u001B[0m \u001B[38;5;66;03m# 캐글 제출용\u001B[39;00m\n\u001B[1;32m      3\u001B[0m \u001B[38;5;66;03m# submission = pd.read_csv('/kaggle/input/playground-series-s3e23/sample_submission.csv')\u001B[39;00m\n\u001B[1;32m      4\u001B[0m \n\u001B[1;32m      5\u001B[0m \u001B[38;5;66;03m# 로컬\u001B[39;00m\n\u001B[1;32m      6\u001B[0m submission \u001B[38;5;241m=\u001B[39m pd\u001B[38;5;241m.\u001B[39mread_csv(\u001B[38;5;124m'\u001B[39m\u001B[38;5;124m./playground-series-s3e23/sample_submission.csv\u001B[39m\u001B[38;5;124m'\u001B[39m)\n\u001B[0;32m----> 8\u001B[0m submission[\u001B[38;5;124m'\u001B[39m\u001B[38;5;124mdefects\u001B[39m\u001B[38;5;124m'\u001B[39m] \u001B[38;5;241m=\u001B[39m np\u001B[38;5;241m.\u001B[39mmean(\u001B[43mhill_ens_preds\u001B[49m, axis\u001B[38;5;241m=\u001B[39m\u001B[38;5;241m0\u001B[39m)\n\u001B[1;32m      9\u001B[0m submission\u001B[38;5;241m.\u001B[39mto_csv(\u001B[38;5;124m'\u001B[39m\u001B[38;5;124msubmission.csv\u001B[39m\u001B[38;5;124m'\u001B[39m, index\u001B[38;5;241m=\u001B[39m\u001B[38;5;28;01mFalse\u001B[39;00m)\n",
      "\u001B[0;31mNameError\u001B[0m: name 'hill_ens_preds' is not defined"
     ]
    }
   ],
   "source": [
    "# hill climbing\n",
    "# 캐글 제출용\n",
    "# submission = pd.read_csv('/kaggle/input/playground-series-s3e23/sample_submission.csv')\n",
    "\n",
    "# 로컬\n",
    "submission = pd.read_csv('./playground-series-s3e23/sample_submission.csv')\n",
    "\n",
    "submission['defects'] = np.mean(hill_ens_preds, axis=0)\n",
    "submission.to_csv('submission.csv', index=False)\n"
   ]
  },
  {
   "cell_type": "code",
   "execution_count": null,
   "outputs": [],
   "source": [],
   "metadata": {
    "collapsed": false
   }
  }
 ],
 "metadata": {
  "kernelspec": {
   "display_name": "42AI-sucho",
   "language": "python",
   "name": "python3"
  },
  "language_info": {
   "codemirror_mode": {
    "name": "ipython",
    "version": 3
   },
   "file_extension": ".py",
   "mimetype": "text/x-python",
   "name": "python",
   "nbconvert_exporter": "python",
   "pygments_lexer": "ipython3",
   "version": "3.11.5"
  }
 },
 "nbformat": 4,
 "nbformat_minor": 2
}
