{
 "cells": [
  {
   "cell_type": "code",
   "execution_count": 2,
   "outputs": [],
   "source": [
    "import pandas as pd\n",
    "import numpy as np\n",
    "import matplotlib.pyplot as plt\n",
    "import seaborn as sns\n",
    "import catboost\n",
    "import lightgbm\n",
    "import warnings\n",
    "from tqdm import tqdm\n",
    "\n",
    "from sklearn.model_selection import train_test_split\n",
    "from sklearn.model_selection import StratifiedKFold\n",
    "from sklearn.metrics import mean_squared_error\n",
    "from sklearn.metrics import roc_auc_score\n",
    "from sklearn.preprocessing import LabelEncoder, QuantileTransformer\n",
    "from catboost import CatBoostRegressor, CatBoostClassifier\n",
    "from sklearn.linear_model import LinearRegression, RidgeClassifier\n",
    "from sklearn.svm import SVC\n",
    "\n",
    "from lightgbm import LGBMClassifier\n",
    "import copy\n",
    "import pandas as pd\n",
    "import seaborn as sns\n",
    "import matplotlib.pyplot as plt\n",
    "from torch.utils.data import Dataset, DataLoader\n",
    "\n",
    "import torch\n",
    "import torch.nn as nn\n",
    "import torch.nn.functional as F\n",
    "\n",
    "warnings.filterwarnings(\"ignore\")\n"
   ],
   "metadata": {
    "collapsed": false,
    "ExecuteTime": {
     "end_time": "2023-10-23T05:22:05.586599Z",
     "start_time": "2023-10-23T05:22:05.577387Z"
    }
   }
  },
  {
   "cell_type": "markdown",
   "metadata": {},
   "source": [
    "# Load Data"
   ]
  },
  {
   "cell_type": "code",
   "execution_count": 3,
   "metadata": {
    "ExecuteTime": {
     "end_time": "2023-10-23T05:22:07.020302Z",
     "start_time": "2023-10-23T05:22:06.852091Z"
    }
   },
   "outputs": [],
   "source": [
    "# 캐글 실행용\n",
    "# df_train = pd.read_csv('../input/playground-series-s3e23/train.csv', index_col='id')\n",
    "# df_test = pd.read_csv('../input/playground-series-s3e23/test.csv', index_col='id')\n",
    "# df_original = pd.read_csv('/kaggle/input/software-defect-prediction/jm1.csv')\n",
    "\n",
    "# 로컬\n",
    "df_train = pd.read_csv(\"./playground-series-s3e23/train.csv\", index_col=\"id\")\n",
    "df_test = pd.read_csv(\"./playground-series-s3e23/test.csv\", index_col=\"id\")\n",
    "df_original = pd.read_csv(\"./software-defect-prediction/jm1.csv\")\n"
   ]
  },
  {
   "cell_type": "markdown",
   "source": [
    "# Feature"
   ],
   "metadata": {
    "collapsed": false
   }
  },
  {
   "cell_type": "markdown",
   "source": [
    "## Original 과  train 을 합치는 코드 "
   ],
   "metadata": {
    "collapsed": false
   }
  },
  {
   "cell_type": "code",
   "execution_count": 4,
   "metadata": {
    "ExecuteTime": {
     "end_time": "2023-10-23T05:22:08.833002Z",
     "start_time": "2023-10-23T05:22:08.781380Z"
    }
   },
   "outputs": [],
   "source": [
    "columns = [\"uniq_Op\", \"uniq_Opnd\", \"total_Op\", \"total_Opnd\", \"branchCount\"]\n",
    "\n",
    "for col in columns:\n",
    "    df_original[col][df_original[col] == \"?\"] = np.nan\n",
    "    df_original[col] = df_original[col].astype(float)\n",
    "\n",
    "\n",
    "df_train = pd.concat([df_train, df_original], ignore_index=True)\n",
    "df_train = df_train.drop_duplicates()\n"
   ]
  },
  {
   "cell_type": "markdown",
   "source": [
    "## Quantile Transformer \n",
    "+ 여기서 train['defects']에 nan이 생김 -> 위치 바꿔줌\n",
    "+ scale 해주는 함수"
   ],
   "metadata": {
    "collapsed": false
   }
  },
  {
   "cell_type": "code",
   "execution_count": 5,
   "outputs": [],
   "source": [
    "feat_list = list(set(df_train.columns) - set(['defects']))\n",
    "target = 'defects'"
   ],
   "metadata": {
    "collapsed": false,
    "ExecuteTime": {
     "end_time": "2023-10-23T05:22:10.234388Z",
     "start_time": "2023-10-23T05:22:10.224140Z"
    }
   }
  },
  {
   "cell_type": "code",
   "execution_count": 6,
   "outputs": [],
   "source": [
    "qt = QuantileTransformer(n_quantiles=1000, output_distribution='uniform', random_state=0)\n",
    "qt.fit(df_train[feat_list])\n",
    "\n",
    "tmp_train = pd.DataFrame(qt.transform(df_train[feat_list]))\n",
    "tmp_train.columns = feat_list\n",
    "tmp_train[target] = df_train[target]\n",
    "df_train = tmp_train\n",
    "df_test = pd.DataFrame(qt.transform(df_test[feat_list]))\n",
    "df_test.columns = feat_list\n",
    "\n",
    "feat_list = list(set(df_train.columns.tolist()) - set([target]))\n"
   ],
   "metadata": {
    "collapsed": false,
    "ExecuteTime": {
     "end_time": "2023-10-23T05:22:12.284958Z",
     "start_time": "2023-10-23T05:22:11.864441Z"
    }
   }
  },
  {
   "cell_type": "code",
   "execution_count": 7,
   "outputs": [],
   "source": [
    "device = torch.device(0) if torch.cuda.is_available() else torch.device(\"cpu\")\n"
   ],
   "metadata": {
    "collapsed": false,
    "ExecuteTime": {
     "end_time": "2023-10-23T05:22:12.960270Z",
     "start_time": "2023-10-23T05:22:12.952024Z"
    }
   }
  },
  {
   "cell_type": "markdown",
   "metadata": {},
   "source": [
    "## drop N/A"
   ]
  },
  {
   "cell_type": "code",
   "execution_count": 8,
   "metadata": {
    "ExecuteTime": {
     "end_time": "2023-10-23T05:22:14.129827Z",
     "start_time": "2023-10-23T05:22:14.095648Z"
    }
   },
   "outputs": [
    {
     "data": {
      "text/plain": "        branchCount  lOComment         l         v      v(g)  \\\n0          0.447447   0.747247  0.369870  0.561052  0.440941   \n1          0.259760   0.000000  0.737237  0.361361  0.256256   \n2          0.259760   0.000000  0.620621  0.448949  0.256256   \n3          0.000000   0.000000  0.847347  0.243744  0.000000   \n4          0.259760   0.000000  0.830330  0.158158  0.256256   \n...             ...        ...       ...       ...       ...   \n110669     0.259760   0.000000  0.481481  0.694059  0.256256   \n110671     0.259760   0.000000  0.664164  0.316316  0.256256   \n110672     0.573574   0.747247  0.221221  0.718622  0.568569   \n110673     0.000000   0.000000  0.664164  0.352352  0.000000   \n110674     0.447447   0.000000  0.530531  0.554555  0.440941   \n\n        locCodeAndComment  uniq_Opnd         e  ev(g)   uniq_Op  ...  \\\n0                0.000000   0.372873  0.643644    0.0  0.755756  ...   \n1                0.000000   0.465465  0.327711    0.0  0.463964  ...   \n2                0.000000   0.465465  0.450299    0.0  0.540040  ...   \n3                0.000000   0.213714  0.222803    0.0  0.259259  ...   \n4                0.000000   0.213714  0.198198    0.0  0.201702  ...   \n...                   ...        ...       ...    ...       ...  ...   \n110669           0.000000   0.753253  0.652503    0.0  0.463964  ...   \n110671           0.000000   0.324825  0.352316    0.0  0.540040  ...   \n110672           0.000000   0.624124  0.795790    0.0  0.834334  ...   \n110673           0.000000   0.324825  0.377547    0.0  0.323824  ...   \n110674           0.935936   0.590090  0.555556    0.0  0.540040  ...   \n\n               t    lOCode       loc         n         i         b     iv(g)  \\\n0       0.639643  0.592593  0.477978  0.563564  0.208466  0.549550  0.412913   \n1       0.327972  0.420921  0.279780  0.331832  0.436436  0.355856  0.412913   \n2       0.447915  0.301301  0.191692  0.457958  0.483483  0.464965  0.412913   \n3       0.223223  0.149149  0.102603  0.229730  0.331665  0.231231  0.000000   \n4       0.198699  0.261762  0.191692  0.159159  0.150150  0.156156  0.412913   \n...          ...       ...       ...       ...       ...       ...       ...   \n110669  0.648203  0.615115  0.524024  0.706206  0.804073  0.703203  0.412913   \n110671  0.352699  0.183684  0.131131  0.313814  0.258150  0.297798  0.412913   \n110672  0.792231  0.777277  0.740741  0.734234  0.390390  0.720721  0.412913   \n110673  0.378893  0.221722  0.160661  0.374374  0.316459  0.355856  0.000000   \n110674  0.554555  0.480981  0.409910  0.551552  0.507421  0.549550  0.000000   \n\n        total_Op  total_Opnd  defects  \n0       0.577077    0.519019    False  \n1       0.309810    0.354354    False  \n2       0.465465    0.426426    False  \n3       0.274775    0.171171     True  \n4       0.161161    0.258258    False  \n...          ...         ...      ...  \n110669  0.666166    0.736737    False  \n110671  0.326326    0.282783    False  \n110672  0.708709    0.736737    False  \n110673  0.359860    0.379379    False  \n110674  0.504505    0.589089    False  \n\n[109274 rows x 22 columns]",
      "text/html": "<div>\n<style scoped>\n    .dataframe tbody tr th:only-of-type {\n        vertical-align: middle;\n    }\n\n    .dataframe tbody tr th {\n        vertical-align: top;\n    }\n\n    .dataframe thead th {\n        text-align: right;\n    }\n</style>\n<table border=\"1\" class=\"dataframe\">\n  <thead>\n    <tr style=\"text-align: right;\">\n      <th></th>\n      <th>branchCount</th>\n      <th>lOComment</th>\n      <th>l</th>\n      <th>v</th>\n      <th>v(g)</th>\n      <th>locCodeAndComment</th>\n      <th>uniq_Opnd</th>\n      <th>e</th>\n      <th>ev(g)</th>\n      <th>uniq_Op</th>\n      <th>...</th>\n      <th>t</th>\n      <th>lOCode</th>\n      <th>loc</th>\n      <th>n</th>\n      <th>i</th>\n      <th>b</th>\n      <th>iv(g)</th>\n      <th>total_Op</th>\n      <th>total_Opnd</th>\n      <th>defects</th>\n    </tr>\n  </thead>\n  <tbody>\n    <tr>\n      <th>0</th>\n      <td>0.447447</td>\n      <td>0.747247</td>\n      <td>0.369870</td>\n      <td>0.561052</td>\n      <td>0.440941</td>\n      <td>0.000000</td>\n      <td>0.372873</td>\n      <td>0.643644</td>\n      <td>0.0</td>\n      <td>0.755756</td>\n      <td>...</td>\n      <td>0.639643</td>\n      <td>0.592593</td>\n      <td>0.477978</td>\n      <td>0.563564</td>\n      <td>0.208466</td>\n      <td>0.549550</td>\n      <td>0.412913</td>\n      <td>0.577077</td>\n      <td>0.519019</td>\n      <td>False</td>\n    </tr>\n    <tr>\n      <th>1</th>\n      <td>0.259760</td>\n      <td>0.000000</td>\n      <td>0.737237</td>\n      <td>0.361361</td>\n      <td>0.256256</td>\n      <td>0.000000</td>\n      <td>0.465465</td>\n      <td>0.327711</td>\n      <td>0.0</td>\n      <td>0.463964</td>\n      <td>...</td>\n      <td>0.327972</td>\n      <td>0.420921</td>\n      <td>0.279780</td>\n      <td>0.331832</td>\n      <td>0.436436</td>\n      <td>0.355856</td>\n      <td>0.412913</td>\n      <td>0.309810</td>\n      <td>0.354354</td>\n      <td>False</td>\n    </tr>\n    <tr>\n      <th>2</th>\n      <td>0.259760</td>\n      <td>0.000000</td>\n      <td>0.620621</td>\n      <td>0.448949</td>\n      <td>0.256256</td>\n      <td>0.000000</td>\n      <td>0.465465</td>\n      <td>0.450299</td>\n      <td>0.0</td>\n      <td>0.540040</td>\n      <td>...</td>\n      <td>0.447915</td>\n      <td>0.301301</td>\n      <td>0.191692</td>\n      <td>0.457958</td>\n      <td>0.483483</td>\n      <td>0.464965</td>\n      <td>0.412913</td>\n      <td>0.465465</td>\n      <td>0.426426</td>\n      <td>False</td>\n    </tr>\n    <tr>\n      <th>3</th>\n      <td>0.000000</td>\n      <td>0.000000</td>\n      <td>0.847347</td>\n      <td>0.243744</td>\n      <td>0.000000</td>\n      <td>0.000000</td>\n      <td>0.213714</td>\n      <td>0.222803</td>\n      <td>0.0</td>\n      <td>0.259259</td>\n      <td>...</td>\n      <td>0.223223</td>\n      <td>0.149149</td>\n      <td>0.102603</td>\n      <td>0.229730</td>\n      <td>0.331665</td>\n      <td>0.231231</td>\n      <td>0.000000</td>\n      <td>0.274775</td>\n      <td>0.171171</td>\n      <td>True</td>\n    </tr>\n    <tr>\n      <th>4</th>\n      <td>0.259760</td>\n      <td>0.000000</td>\n      <td>0.830330</td>\n      <td>0.158158</td>\n      <td>0.256256</td>\n      <td>0.000000</td>\n      <td>0.213714</td>\n      <td>0.198198</td>\n      <td>0.0</td>\n      <td>0.201702</td>\n      <td>...</td>\n      <td>0.198699</td>\n      <td>0.261762</td>\n      <td>0.191692</td>\n      <td>0.159159</td>\n      <td>0.150150</td>\n      <td>0.156156</td>\n      <td>0.412913</td>\n      <td>0.161161</td>\n      <td>0.258258</td>\n      <td>False</td>\n    </tr>\n    <tr>\n      <th>...</th>\n      <td>...</td>\n      <td>...</td>\n      <td>...</td>\n      <td>...</td>\n      <td>...</td>\n      <td>...</td>\n      <td>...</td>\n      <td>...</td>\n      <td>...</td>\n      <td>...</td>\n      <td>...</td>\n      <td>...</td>\n      <td>...</td>\n      <td>...</td>\n      <td>...</td>\n      <td>...</td>\n      <td>...</td>\n      <td>...</td>\n      <td>...</td>\n      <td>...</td>\n      <td>...</td>\n    </tr>\n    <tr>\n      <th>110669</th>\n      <td>0.259760</td>\n      <td>0.000000</td>\n      <td>0.481481</td>\n      <td>0.694059</td>\n      <td>0.256256</td>\n      <td>0.000000</td>\n      <td>0.753253</td>\n      <td>0.652503</td>\n      <td>0.0</td>\n      <td>0.463964</td>\n      <td>...</td>\n      <td>0.648203</td>\n      <td>0.615115</td>\n      <td>0.524024</td>\n      <td>0.706206</td>\n      <td>0.804073</td>\n      <td>0.703203</td>\n      <td>0.412913</td>\n      <td>0.666166</td>\n      <td>0.736737</td>\n      <td>False</td>\n    </tr>\n    <tr>\n      <th>110671</th>\n      <td>0.259760</td>\n      <td>0.000000</td>\n      <td>0.664164</td>\n      <td>0.316316</td>\n      <td>0.256256</td>\n      <td>0.000000</td>\n      <td>0.324825</td>\n      <td>0.352316</td>\n      <td>0.0</td>\n      <td>0.540040</td>\n      <td>...</td>\n      <td>0.352699</td>\n      <td>0.183684</td>\n      <td>0.131131</td>\n      <td>0.313814</td>\n      <td>0.258150</td>\n      <td>0.297798</td>\n      <td>0.412913</td>\n      <td>0.326326</td>\n      <td>0.282783</td>\n      <td>False</td>\n    </tr>\n    <tr>\n      <th>110672</th>\n      <td>0.573574</td>\n      <td>0.747247</td>\n      <td>0.221221</td>\n      <td>0.718622</td>\n      <td>0.568569</td>\n      <td>0.000000</td>\n      <td>0.624124</td>\n      <td>0.795790</td>\n      <td>0.0</td>\n      <td>0.834334</td>\n      <td>...</td>\n      <td>0.792231</td>\n      <td>0.777277</td>\n      <td>0.740741</td>\n      <td>0.734234</td>\n      <td>0.390390</td>\n      <td>0.720721</td>\n      <td>0.412913</td>\n      <td>0.708709</td>\n      <td>0.736737</td>\n      <td>False</td>\n    </tr>\n    <tr>\n      <th>110673</th>\n      <td>0.000000</td>\n      <td>0.000000</td>\n      <td>0.664164</td>\n      <td>0.352352</td>\n      <td>0.000000</td>\n      <td>0.000000</td>\n      <td>0.324825</td>\n      <td>0.377547</td>\n      <td>0.0</td>\n      <td>0.323824</td>\n      <td>...</td>\n      <td>0.378893</td>\n      <td>0.221722</td>\n      <td>0.160661</td>\n      <td>0.374374</td>\n      <td>0.316459</td>\n      <td>0.355856</td>\n      <td>0.000000</td>\n      <td>0.359860</td>\n      <td>0.379379</td>\n      <td>False</td>\n    </tr>\n    <tr>\n      <th>110674</th>\n      <td>0.447447</td>\n      <td>0.000000</td>\n      <td>0.530531</td>\n      <td>0.554555</td>\n      <td>0.440941</td>\n      <td>0.935936</td>\n      <td>0.590090</td>\n      <td>0.555556</td>\n      <td>0.0</td>\n      <td>0.540040</td>\n      <td>...</td>\n      <td>0.554555</td>\n      <td>0.480981</td>\n      <td>0.409910</td>\n      <td>0.551552</td>\n      <td>0.507421</td>\n      <td>0.549550</td>\n      <td>0.000000</td>\n      <td>0.504505</td>\n      <td>0.589089</td>\n      <td>False</td>\n    </tr>\n  </tbody>\n</table>\n<p>109274 rows × 22 columns</p>\n</div>"
     },
     "execution_count": 8,
     "metadata": {},
     "output_type": "execute_result"
    }
   ],
   "source": [
    "df_train.dropna(axis=0,inplace=True)\n",
    "df_train"
   ]
  },
  {
   "cell_type": "markdown",
   "metadata": {},
   "source": [
    "## iqr outlier detection"
   ]
  },
  {
   "cell_type": "code",
   "execution_count": 9,
   "metadata": {
    "ExecuteTime": {
     "end_time": "2023-10-23T05:22:15.764725Z",
     "start_time": "2023-10-23T05:22:15.762120Z"
    }
   },
   "outputs": [],
   "source": [
    "def iqr_outlier_detection(data):\n",
    "\n",
    "    q1, q3 = np.percentile(data, [25, 75])\n",
    " \n",
    "    iqr = q3 - q1\n",
    "\n",
    "    threshold = iqr * 1.5\n",
    "    outliers = [x for x in data if x < q1 - threshold or x > q3 + threshold]\n",
    "\n",
    "    data_filtered = data[~np.isin(data, outliers)]\n",
    "\n",
    "    return data_filtered\n"
   ]
  },
  {
   "cell_type": "code",
   "execution_count": 10,
   "metadata": {
    "ExecuteTime": {
     "end_time": "2023-10-23T05:22:39.125056Z",
     "start_time": "2023-10-23T05:22:16.242832Z"
    }
   },
   "outputs": [],
   "source": [
    "for col in df_train.columns:\n",
    "  iqr_outlier_detection(df_train[col])\n"
   ]
  },
  {
   "cell_type": "markdown",
   "metadata": {},
   "source": [
    "## Feature Engineering"
   ]
  },
  {
   "cell_type": "code",
   "execution_count": 11,
   "metadata": {
    "ExecuteTime": {
     "end_time": "2023-10-23T05:22:39.142682Z",
     "start_time": "2023-10-23T05:22:39.127812Z"
    }
   },
   "outputs": [],
   "source": [
    "df_train['defects'] = df_train.defects.astype(int)\n"
   ]
  },
  {
   "cell_type": "code",
   "execution_count": 12,
   "metadata": {
    "ExecuteTime": {
     "end_time": "2023-10-23T05:22:39.143202Z",
     "start_time": "2023-10-23T05:22:39.130150Z"
    }
   },
   "outputs": [],
   "source": [
    "df_test['l']  = 1.0 - df_test['l']\n",
    "df_train['l'] = 1.0 - df_train['l']\n"
   ]
  },
  {
   "cell_type": "code",
   "execution_count": 13,
   "metadata": {
    "ExecuteTime": {
     "end_time": "2023-10-23T05:22:39.182494Z",
     "start_time": "2023-10-23T05:22:39.135523Z"
    }
   },
   "outputs": [],
   "source": [
    "def add_feat(X):\n",
    "    df = X.copy()\n",
    "    df[\"mean_bnv\"] = (df[\"n\"] + df[\"v\"] + df[\"b\"]) / 3\n",
    "    df[\"mean_uniqOpOpend\"] = (df[\"uniq_Op\"] + df[\"uniq_Opnd\"]) / 2\n",
    "    df[\"mean_totOpOpend\"] = (df[\"total_Op\"] + df[\"total_Opnd\"]) / 2\n",
    "    df[\"mean_brcntvg\"] = (df[\"branchCount\"] + df[\"v(g)\"]) / 2\n",
    "    return df\n",
    "\n",
    "\n",
    "df_train = add_feat(df_train)\n",
    "df_test = add_feat(df_test)\n",
    "\n",
    "### HERE ###############\n",
    "df_train.dropna(axis=0,inplace=True)\n",
    "### HERE ###############\n"
   ]
  },
  {
   "cell_type": "markdown",
   "source": [
    "# Modeling"
   ],
   "metadata": {
    "collapsed": false
   }
  },
  {
   "cell_type": "code",
   "execution_count": 14,
   "outputs": [
    {
     "data": {
      "text/plain": "        branchCount  lOComment         l         v      v(g)  \\\n0          0.447447   0.747247  0.630130  0.561052  0.440941   \n1          0.259760   0.000000  0.262763  0.361361  0.256256   \n2          0.259760   0.000000  0.379379  0.448949  0.256256   \n3          0.000000   0.000000  0.152653  0.243744  0.000000   \n4          0.259760   0.000000  0.169670  0.158158  0.256256   \n...             ...        ...       ...       ...       ...   \n110669     0.259760   0.000000  0.518519  0.694059  0.256256   \n110671     0.259760   0.000000  0.335836  0.316316  0.256256   \n110672     0.573574   0.747247  0.778779  0.718622  0.568569   \n110673     0.000000   0.000000  0.335836  0.352352  0.000000   \n110674     0.447447   0.000000  0.469469  0.554555  0.440941   \n\n        locCodeAndComment  uniq_Opnd         e  ev(g)   uniq_Op  ...  \\\n0                0.000000   0.372873  0.643644    0.0  0.755756  ...   \n1                0.000000   0.465465  0.327711    0.0  0.463964  ...   \n2                0.000000   0.465465  0.450299    0.0  0.540040  ...   \n3                0.000000   0.213714  0.222803    0.0  0.259259  ...   \n4                0.000000   0.213714  0.198198    0.0  0.201702  ...   \n...                   ...        ...       ...    ...       ...  ...   \n110669           0.000000   0.753253  0.652503    0.0  0.463964  ...   \n110671           0.000000   0.324825  0.352316    0.0  0.540040  ...   \n110672           0.000000   0.624124  0.795790    0.0  0.834334  ...   \n110673           0.000000   0.324825  0.377547    0.0  0.323824  ...   \n110674           0.935936   0.590090  0.555556    0.0  0.540040  ...   \n\n               n         i         b     iv(g)  total_Op  total_Opnd  \\\n0       0.563564  0.208466  0.549550  0.412913  0.577077    0.519019   \n1       0.331832  0.436436  0.355856  0.412913  0.309810    0.354354   \n2       0.457958  0.483483  0.464965  0.412913  0.465465    0.426426   \n3       0.229730  0.331665  0.231231  0.000000  0.274775    0.171171   \n4       0.159159  0.150150  0.156156  0.412913  0.161161    0.258258   \n...          ...       ...       ...       ...       ...         ...   \n110669  0.706206  0.804073  0.703203  0.412913  0.666166    0.736737   \n110671  0.313814  0.258150  0.297798  0.412913  0.326326    0.282783   \n110672  0.734234  0.390390  0.720721  0.412913  0.708709    0.736737   \n110673  0.374374  0.316459  0.355856  0.000000  0.359860    0.379379   \n110674  0.551552  0.507421  0.549550  0.000000  0.504505    0.589089   \n\n        mean_bnv  mean_uniqOpOpend  mean_totOpOpend  mean_brcntvg  \n0       0.558055          0.564314         0.548048      0.444194  \n1       0.349683          0.464715         0.332082      0.258008  \n2       0.457291          0.502753         0.445946      0.258008  \n3       0.234902          0.236486         0.222973      0.000000  \n4       0.157824          0.207708         0.209710      0.258008  \n...          ...               ...              ...           ...  \n110669  0.701156          0.608609         0.701451      0.258008  \n110671  0.309309          0.432432         0.304555      0.258008  \n110672  0.724526          0.729229         0.722723      0.571071  \n110673  0.360861          0.324324         0.369620      0.000000  \n110674  0.551885          0.565065         0.546797      0.444194  \n\n[109274 rows x 25 columns]",
      "text/html": "<div>\n<style scoped>\n    .dataframe tbody tr th:only-of-type {\n        vertical-align: middle;\n    }\n\n    .dataframe tbody tr th {\n        vertical-align: top;\n    }\n\n    .dataframe thead th {\n        text-align: right;\n    }\n</style>\n<table border=\"1\" class=\"dataframe\">\n  <thead>\n    <tr style=\"text-align: right;\">\n      <th></th>\n      <th>branchCount</th>\n      <th>lOComment</th>\n      <th>l</th>\n      <th>v</th>\n      <th>v(g)</th>\n      <th>locCodeAndComment</th>\n      <th>uniq_Opnd</th>\n      <th>e</th>\n      <th>ev(g)</th>\n      <th>uniq_Op</th>\n      <th>...</th>\n      <th>n</th>\n      <th>i</th>\n      <th>b</th>\n      <th>iv(g)</th>\n      <th>total_Op</th>\n      <th>total_Opnd</th>\n      <th>mean_bnv</th>\n      <th>mean_uniqOpOpend</th>\n      <th>mean_totOpOpend</th>\n      <th>mean_brcntvg</th>\n    </tr>\n  </thead>\n  <tbody>\n    <tr>\n      <th>0</th>\n      <td>0.447447</td>\n      <td>0.747247</td>\n      <td>0.630130</td>\n      <td>0.561052</td>\n      <td>0.440941</td>\n      <td>0.000000</td>\n      <td>0.372873</td>\n      <td>0.643644</td>\n      <td>0.0</td>\n      <td>0.755756</td>\n      <td>...</td>\n      <td>0.563564</td>\n      <td>0.208466</td>\n      <td>0.549550</td>\n      <td>0.412913</td>\n      <td>0.577077</td>\n      <td>0.519019</td>\n      <td>0.558055</td>\n      <td>0.564314</td>\n      <td>0.548048</td>\n      <td>0.444194</td>\n    </tr>\n    <tr>\n      <th>1</th>\n      <td>0.259760</td>\n      <td>0.000000</td>\n      <td>0.262763</td>\n      <td>0.361361</td>\n      <td>0.256256</td>\n      <td>0.000000</td>\n      <td>0.465465</td>\n      <td>0.327711</td>\n      <td>0.0</td>\n      <td>0.463964</td>\n      <td>...</td>\n      <td>0.331832</td>\n      <td>0.436436</td>\n      <td>0.355856</td>\n      <td>0.412913</td>\n      <td>0.309810</td>\n      <td>0.354354</td>\n      <td>0.349683</td>\n      <td>0.464715</td>\n      <td>0.332082</td>\n      <td>0.258008</td>\n    </tr>\n    <tr>\n      <th>2</th>\n      <td>0.259760</td>\n      <td>0.000000</td>\n      <td>0.379379</td>\n      <td>0.448949</td>\n      <td>0.256256</td>\n      <td>0.000000</td>\n      <td>0.465465</td>\n      <td>0.450299</td>\n      <td>0.0</td>\n      <td>0.540040</td>\n      <td>...</td>\n      <td>0.457958</td>\n      <td>0.483483</td>\n      <td>0.464965</td>\n      <td>0.412913</td>\n      <td>0.465465</td>\n      <td>0.426426</td>\n      <td>0.457291</td>\n      <td>0.502753</td>\n      <td>0.445946</td>\n      <td>0.258008</td>\n    </tr>\n    <tr>\n      <th>3</th>\n      <td>0.000000</td>\n      <td>0.000000</td>\n      <td>0.152653</td>\n      <td>0.243744</td>\n      <td>0.000000</td>\n      <td>0.000000</td>\n      <td>0.213714</td>\n      <td>0.222803</td>\n      <td>0.0</td>\n      <td>0.259259</td>\n      <td>...</td>\n      <td>0.229730</td>\n      <td>0.331665</td>\n      <td>0.231231</td>\n      <td>0.000000</td>\n      <td>0.274775</td>\n      <td>0.171171</td>\n      <td>0.234902</td>\n      <td>0.236486</td>\n      <td>0.222973</td>\n      <td>0.000000</td>\n    </tr>\n    <tr>\n      <th>4</th>\n      <td>0.259760</td>\n      <td>0.000000</td>\n      <td>0.169670</td>\n      <td>0.158158</td>\n      <td>0.256256</td>\n      <td>0.000000</td>\n      <td>0.213714</td>\n      <td>0.198198</td>\n      <td>0.0</td>\n      <td>0.201702</td>\n      <td>...</td>\n      <td>0.159159</td>\n      <td>0.150150</td>\n      <td>0.156156</td>\n      <td>0.412913</td>\n      <td>0.161161</td>\n      <td>0.258258</td>\n      <td>0.157824</td>\n      <td>0.207708</td>\n      <td>0.209710</td>\n      <td>0.258008</td>\n    </tr>\n    <tr>\n      <th>...</th>\n      <td>...</td>\n      <td>...</td>\n      <td>...</td>\n      <td>...</td>\n      <td>...</td>\n      <td>...</td>\n      <td>...</td>\n      <td>...</td>\n      <td>...</td>\n      <td>...</td>\n      <td>...</td>\n      <td>...</td>\n      <td>...</td>\n      <td>...</td>\n      <td>...</td>\n      <td>...</td>\n      <td>...</td>\n      <td>...</td>\n      <td>...</td>\n      <td>...</td>\n      <td>...</td>\n    </tr>\n    <tr>\n      <th>110669</th>\n      <td>0.259760</td>\n      <td>0.000000</td>\n      <td>0.518519</td>\n      <td>0.694059</td>\n      <td>0.256256</td>\n      <td>0.000000</td>\n      <td>0.753253</td>\n      <td>0.652503</td>\n      <td>0.0</td>\n      <td>0.463964</td>\n      <td>...</td>\n      <td>0.706206</td>\n      <td>0.804073</td>\n      <td>0.703203</td>\n      <td>0.412913</td>\n      <td>0.666166</td>\n      <td>0.736737</td>\n      <td>0.701156</td>\n      <td>0.608609</td>\n      <td>0.701451</td>\n      <td>0.258008</td>\n    </tr>\n    <tr>\n      <th>110671</th>\n      <td>0.259760</td>\n      <td>0.000000</td>\n      <td>0.335836</td>\n      <td>0.316316</td>\n      <td>0.256256</td>\n      <td>0.000000</td>\n      <td>0.324825</td>\n      <td>0.352316</td>\n      <td>0.0</td>\n      <td>0.540040</td>\n      <td>...</td>\n      <td>0.313814</td>\n      <td>0.258150</td>\n      <td>0.297798</td>\n      <td>0.412913</td>\n      <td>0.326326</td>\n      <td>0.282783</td>\n      <td>0.309309</td>\n      <td>0.432432</td>\n      <td>0.304555</td>\n      <td>0.258008</td>\n    </tr>\n    <tr>\n      <th>110672</th>\n      <td>0.573574</td>\n      <td>0.747247</td>\n      <td>0.778779</td>\n      <td>0.718622</td>\n      <td>0.568569</td>\n      <td>0.000000</td>\n      <td>0.624124</td>\n      <td>0.795790</td>\n      <td>0.0</td>\n      <td>0.834334</td>\n      <td>...</td>\n      <td>0.734234</td>\n      <td>0.390390</td>\n      <td>0.720721</td>\n      <td>0.412913</td>\n      <td>0.708709</td>\n      <td>0.736737</td>\n      <td>0.724526</td>\n      <td>0.729229</td>\n      <td>0.722723</td>\n      <td>0.571071</td>\n    </tr>\n    <tr>\n      <th>110673</th>\n      <td>0.000000</td>\n      <td>0.000000</td>\n      <td>0.335836</td>\n      <td>0.352352</td>\n      <td>0.000000</td>\n      <td>0.000000</td>\n      <td>0.324825</td>\n      <td>0.377547</td>\n      <td>0.0</td>\n      <td>0.323824</td>\n      <td>...</td>\n      <td>0.374374</td>\n      <td>0.316459</td>\n      <td>0.355856</td>\n      <td>0.000000</td>\n      <td>0.359860</td>\n      <td>0.379379</td>\n      <td>0.360861</td>\n      <td>0.324324</td>\n      <td>0.369620</td>\n      <td>0.000000</td>\n    </tr>\n    <tr>\n      <th>110674</th>\n      <td>0.447447</td>\n      <td>0.000000</td>\n      <td>0.469469</td>\n      <td>0.554555</td>\n      <td>0.440941</td>\n      <td>0.935936</td>\n      <td>0.590090</td>\n      <td>0.555556</td>\n      <td>0.0</td>\n      <td>0.540040</td>\n      <td>...</td>\n      <td>0.551552</td>\n      <td>0.507421</td>\n      <td>0.549550</td>\n      <td>0.000000</td>\n      <td>0.504505</td>\n      <td>0.589089</td>\n      <td>0.551885</td>\n      <td>0.565065</td>\n      <td>0.546797</td>\n      <td>0.444194</td>\n    </tr>\n  </tbody>\n</table>\n<p>109274 rows × 25 columns</p>\n</div>"
     },
     "execution_count": 14,
     "metadata": {},
     "output_type": "execute_result"
    }
   ],
   "source": [
    "X_train = df_train.drop(['defects'], axis=1)\n",
    "y_train = df_train['defects']\n",
    "X_test = df_test\n",
    "\n",
    "X_train\n"
   ],
   "metadata": {
    "collapsed": false,
    "ExecuteTime": {
     "end_time": "2023-10-23T05:22:39.198688Z",
     "start_time": "2023-10-23T05:22:39.183925Z"
    }
   }
  },
  {
   "cell_type": "markdown",
   "source": [
    "## Evaluation Metric (AUC)"
   ],
   "metadata": {
    "collapsed": false
   }
  },
  {
   "cell_type": "code",
   "execution_count": 15,
   "outputs": [],
   "source": [
    "from sklearn.metrics import roc_auc_score, roc_curve, auc\n",
    "from sklearn.model_selection import cross_val_score\n",
    "\n",
    "def roc_auc(true_list, pred_list, figlen):\n",
    "    \n",
    "    fpr, tpr, _ = roc_curve(true_list, pred_list)    \n",
    "    roc_auc = auc(fpr, tpr)\n",
    "    print(f'\\nROC_AUC: %0.6f\\n' %roc_auc)\n",
    "    \n",
    "    if (figlen > 0):\n",
    "        sns.set()\n",
    "        plt.style.use('seaborn-whitegrid')\n",
    "        plt.figure(figsize=(figlen, figlen), facecolor='lightyellow')\n",
    "        plt.gca().set_facecolor('lightgray')\n",
    "        plt.fill_between(fpr, tpr, color='r', alpha=0.1)\n",
    "        plt.plot(fpr, tpr, color='red', lw=2, label='ROC curve')\n",
    "        plt.plot([0, 1], [0, 1], color='navy', lw=2, linestyle='--')\n",
    "        plt.xlim([-0.01, 1.0])\n",
    "        plt.ylim([0.0, 1.05])\n",
    "        plt.xlabel('False Positive Rate')\n",
    "        plt.ylabel('True Positive Rate')\n",
    "        plt.title('The area under the ROC curve\\n', fontsize=16, c='darkred')\n",
    "        plt.legend(loc=\"lower right\")\n",
    "        plt.show()"
   ],
   "metadata": {
    "collapsed": false,
    "ExecuteTime": {
     "end_time": "2023-10-23T05:22:39.209282Z",
     "start_time": "2023-10-23T05:22:39.199378Z"
    }
   }
  },
  {
   "cell_type": "markdown",
   "source": [
    "## HyperParameter Tuning"
   ],
   "metadata": {
    "collapsed": false
   }
  },
  {
   "cell_type": "code",
   "execution_count": 16,
   "outputs": [],
   "source": [
    "from bayes_opt import BayesianOptimization\n",
    "\n",
    "\n",
    "def lgbm_cl_bo(min_child_samples, colsample_bytree, learning_rate, num_leaves, reg_alpha, reg_lambda):\n",
    "    \n",
    "    params_lgbm = {}\n",
    "    params_lgbm['min_child_samples'] = round(min_child_samples)\n",
    "    params_lgbm['colsample_bytree'] = colsample_bytree\n",
    "    params_lgbm['learning_rate'] = learning_rate\n",
    "    params_lgbm['num_leaves'] = round(num_leaves)\n",
    "    params_lgbm['reg_alpha'] = reg_alpha\n",
    "    params_lgbm['reg_lambda'] = reg_lambda    \n",
    "       \n",
    "    params_lgbm['boosting_type'] ='gbdt'   # Manual optimization\n",
    "    params_lgbm['objective'] ='binary'     # Manual optimization\n",
    "    params_lgbm['subsample'] = 1.0\n",
    "    params_lgbm['max_bin'] = 1023\n",
    "    params_lgbm['n_jobs'] = -1\n",
    "    params_lgbm['verbose'] = -1\n",
    "\n",
    "    scores = cross_val_score(LGBMClassifier(**params_lgbm, random_state=2920), X_train, y_train, scoring='roc_auc', cv=5).mean()\n",
    "    score = scores.mean()\n",
    "    return score"
   ],
   "metadata": {
    "collapsed": false,
    "ExecuteTime": {
     "end_time": "2023-10-23T05:22:39.226840Z",
     "start_time": "2023-10-23T05:22:39.203324Z"
    }
   }
  },
  {
   "cell_type": "code",
   "execution_count": 17,
   "outputs": [],
   "source": [
    "params_lgbm ={'min_child_samples':(800, 1200),\n",
    "              'colsample_bytree':(0.3, 1.0),\n",
    "              'learning_rate':(0.005, 0.1),\n",
    "              'num_leaves':(20, 60),\n",
    "              'reg_alpha':(0.0, 10.0),\n",
    "              'reg_lambda':(0.0, 5.0)}\n",
    "\n",
    "# lgbm_bo = BayesianOptimization(lgbm_cl_bo, params_lgbm, random_state=2920)\n",
    "# import warnings\n",
    "# warnings.filterwarnings('ignore')\n",
    "# lgbm_bo.maximize(n_iter=30, init_points=20)"
   ],
   "metadata": {
    "collapsed": false,
    "ExecuteTime": {
     "end_time": "2023-10-23T05:22:39.246497Z",
     "start_time": "2023-10-23T05:22:39.216146Z"
    }
   }
  },
  {
   "cell_type": "markdown",
   "metadata": {},
   "source": [
    "## Hill Climbing Ensemble"
   ]
  },
  {
   "cell_type": "code",
   "execution_count": 18,
   "metadata": {
    "ExecuteTime": {
     "end_time": "2023-10-23T05:22:39.275084Z",
     "start_time": "2023-10-23T05:22:39.221500Z"
    }
   },
   "outputs": [],
   "source": [
    "def hill_climbing(x, y, x_test):\n",
    "\n",
    "    # Evaluating oof predictions\n",
    "    scores = {}\n",
    "    for col in x.columns:\n",
    "        scores[col] = roc_auc_score(y, x[col])\n",
    "\n",
    "    # Sorting the model scores\n",
    "    scores = {k: v for k, v in sorted(scores.items(), key = lambda item: item[1], reverse = True)}\n",
    "\n",
    "    # Sort oof_df and test_preds\n",
    "    x = x[list(scores.keys())]\n",
    "    x_test = x_test[list(scores.keys())]\n",
    "\n",
    "    STOP = False\n",
    "    current_best_ensemble = x.iloc[:,0]\n",
    "    current_best_test_preds = x_test.iloc[:,0]\n",
    "    MODELS = x.iloc[:,1:]\n",
    "    weight_range = np.arange(-0.5, 0.71, 0.01)\n",
    "    history = [roc_auc_score(y, current_best_ensemble)]\n",
    "    j = 0\n",
    "    while not STOP:\n",
    "        j += 1\n",
    "        potential_new_best_cv_score = roc_auc_score(y, current_best_ensemble)\n",
    "        k_best, wgt_best = None, None\n",
    "        for k in MODELS:\n",
    "            for wgt in weight_range:\n",
    "                potential_ensemble = (1 - wgt) * current_best_ensemble + wgt * MODELS[k]\n",
    "                cv_score = roc_auc_score(y, potential_ensemble)\n",
    "                if cv_score > potential_new_best_cv_score:\n",
    "                    potential_new_best_cv_score = cv_score\n",
    "                    k_best, wgt_best = k, wgt\n",
    "\n",
    "        if k_best is not None:\n",
    "            current_best_ensemble = (1 - wgt_best) * current_best_ensemble + wgt_best * MODELS[k_best]\n",
    "            current_best_test_preds = (1 - wgt_best) * current_best_test_preds + wgt_best * x_test[k_best]\n",
    "            MODELS.drop(k_best, axis = 1, inplace = True)\n",
    "            if MODELS.shape[1] == 0:\n",
    "                STOP = True\n",
    "            history.append(potential_new_best_cv_score)\n",
    "        else:\n",
    "            STOP = True\n",
    "\n",
    "    hill_ens_pred_1 = current_best_ensemble\n",
    "    hill_ens_pred_2 = current_best_test_preds\n",
    "\n",
    "    return [hill_ens_pred_1, hill_ens_pred_2]\n"
   ]
  },
  {
   "cell_type": "markdown",
   "metadata": {},
   "source": [
    "## hyperparameter sets"
   ]
  },
  {
   "cell_type": "code",
   "execution_count": 19,
   "metadata": {
    "ExecuteTime": {
     "end_time": "2023-10-23T05:22:39.293227Z",
     "start_time": "2023-10-23T05:22:39.231866Z"
    }
   },
   "outputs": [],
   "source": [
    "random_state = 43\n",
    "\n",
    "lgb_params0 = {\n",
    "    \"objective\": 'binary',\n",
    "    'metric': 'auc',\n",
    "    'boosting_type': 'dart',\n",
    "     \"n_estimators\": 1000,\n",
    "     \"max_depth\": 7,\n",
    "     \"learning_rate\":0.03,\n",
    "     \"num_leaves\": 50,\n",
    "     \"reg_alpha\":3,\n",
    "     \"reg_lambda\": 3,\n",
    "     \"subsample\": 0.7,\n",
    "     'device': 'gpu' if torch.cuda.is_available() else 'cpu',\n",
    "     \"colsample_bytree\": 0.7,\n",
    "     'verbose': -1,\n",
    "    'min_child_samples': 864,\n",
    "}\n",
    "\n",
    "lgb_params1 = {\n",
    "    'objective': 'binary',\n",
    "    'metric': 'auc',\n",
    "    'boosting_type': 'dart',\n",
    "    'random_state': 42,\n",
    "    'colsample_bytree': 0.50,\n",
    "    'subsample': 0.70,\n",
    "    'learning_rate': 0.0625,\n",
    "    'max_depth': -1,\n",
    "    'n_estimators': 100,\n",
    "    'num_leaves': 20,\n",
    "    'reg_alpha': 0.0001,\n",
    "    'reg_lambda': 2.0,\n",
    "    'device': 'gpu' if torch.cuda.is_available() else 'cpu',\n",
    "    'random_state': random_state,\n",
    "    'verbose': -1,  \n",
    "    'min_child_samples': 864,\n",
    "}\n",
    "\n",
    "lgb_params2 = {\n",
    "    'objective': 'binary',\n",
    "    'metric': 'auc',\n",
    "    'boosting_type': 'gbdt',\n",
    "    'random_state': 42,\n",
    "    'colsample_bytree': 0.50,\n",
    "    'subsample': 0.70,\n",
    "    'learning_rate': 0.0625,\n",
    "    'max_depth': -1,\n",
    "    'n_estimators': 100,\n",
    "    'num_leaves': 20,\n",
    "    'reg_alpha': 0.0001,\n",
    "    'reg_lambda': 2.0,\n",
    "    'device': 'gpu' if torch.cuda.is_available() else 'cpu',\n",
    "    'random_state': random_state,\n",
    "    'verbose': -1,\n",
    "    'min_child_samples': 864,\n",
    "}\n",
    "lgb_params3 = {\n",
    "    'objective': 'binary',\n",
    "    'metric': 'auc',\n",
    "    'boosting_type': 'gbdt',\n",
    "    'random_state': 42,\n",
    "    \n",
    "    'colsample_bytree': 0.5688,\n",
    "    'learning_rate': 0.07712,\n",
    "    'min_child_samples': 864,\n",
    "    'num_leaves': 23,\n",
    "    'reg_alpha': 0.6515,\n",
    "    'reg_lambda': 3.118,\n",
    "    \n",
    "    'subsample': 0.70, \n",
    "    'max_depth': -1,\n",
    "    'n_estimators': 100,\n",
    "    'device': 'gpu' if torch.cuda.is_available() else 'cpu',\n",
    "    'random_state': random_state,\n",
    "    'verbose': -1,\n",
    "}\n",
    "\n",
    "xgb_optuna0 = {\n",
    "    'n_estimators': 10000,\n",
    "    'learning_rate': 0.01752354328845971,\n",
    "    'booster': 'gbtree',\n",
    "    'lambda': 0.08159630121074074,\n",
    "    'alpha': 0.07564858712175693,\n",
    "    'subsample': 0.5065979400270813,\n",
    "    'colsample_bytree': 0.6187340851873067,\n",
    "    'max_depth': 4,\n",
    "    'min_child_weight': 5,\n",
    "    'eta': 0.2603059902806757,\n",
    "    'gamma': 0.6567360773618207,\n",
    "    'early_stopping_rounds': 100,\n",
    "    'tree_method': 'hist',\n",
    "    'random_state': random_state\n",
    "}\n",
    "\n",
    "xgb_params0 = {\n",
    "    'n_estimators': 10000,\n",
    "    'learning_rate': 0.09641232707445854,\n",
    "    'booster': 'gbtree',\n",
    "    'lambda': 4.666002223704784,\n",
    "    'alpha': 3.708175990751336,\n",
    "    'subsample': 0.6100174145229473,\n",
    "    'colsample_bytree': 0.5506821152321051,\n",
    "    'max_depth': 7,\n",
    "    'min_child_weight': 3,\n",
    "    'eta': 1.740374368661041,\n",
    "    'gamma': 0.007427363662926455,\n",
    "    'grow_policy': 'depthwise',\n",
    "    'objective': 'binary:logistic',\n",
    "    'eval_metric': 'logloss',\n",
    "    'verbosity': 0,\n",
    "    'random_state': random_state,\n",
    "    'early_stopping_rounds': 100,\n",
    "    'tree_method': 'hist',\n",
    "}\n",
    "\n",
    "xgb_params1 = {\n",
    "    'n_estimators': 10000,\n",
    "    'learning_rate': 0.012208383405206188,\n",
    "    'booster': 'gbtree',\n",
    "    'lambda': 0.009968756668882757,\n",
    "    'alpha': 0.02666266827121168,\n",
    "    'subsample': 0.7097814108897231,\n",
    "    'colsample_bytree': 0.7946945784285216,\n",
    "    'max_depth': 3,\n",
    "    'min_child_weight': 4,\n",
    "    'eta': 0.5480204506554545,\n",
    "    'gamma': 0.8788654128774149,\n",
    "    'scale_pos_weight': 4.71,\n",
    "    'objective': 'binary:logistic',\n",
    "    'eval_metric': 'logloss',\n",
    "    'early_stopping_rounds': 100,\n",
    "    'verbosity': 0,\n",
    "    'random_state': random_state,\n",
    "    'tree_method': 'hist',\n",
    "}\n",
    "\n",
    "\n",
    "\n",
    "xgb_params2 = {\n",
    "    'n_estimators': 10000,\n",
    "    'colsample_bytree': 0.5646751146007976,\n",
    "    'gamma': 7.788727238356553e-06,\n",
    "    'learning_rate': 0.1419865761603358,\n",
    "    'max_bin': 824,\n",
    "    'min_child_weight': 1,\n",
    "    'random_state': 811996,\n",
    "    'reg_alpha': 1.6259583347890365e-07,\n",
    "    'reg_lambda': 2.110691851528507e-08,\n",
    "    'subsample': 0.879020578464637,\n",
    "    'objective': 'binary:logistic',\n",
    "    'eval_metric': 'logloss',\n",
    "    'max_depth': 3,\n",
    "    'early_stopping_rounds': 100,\n",
    "    'n_jobs': -1,\n",
    "    'verbosity': 0,\n",
    "    'random_state': random_state,\n",
    "    'tree_method': 'hist',\n",
    "   # 'scale_pos_weight': scale_pos_weight\n",
    "}\n",
    "\n",
    "xgb_params3 = {\n",
    "    'n_estimators': 10000,\n",
    "    'random_state': random_state,\n",
    "    'colsample_bytree': 0.4836462317215041,\n",
    "    'eta': 0.05976752607337169,\n",
    "    'gamma': 1,\n",
    "    'lambda': 0.2976432557733288,\n",
    "    'max_depth': 6,\n",
    "    'min_child_weight': 1,\n",
    "    'n_estimators': 550,\n",
    "    'early_stopping_rounds': 100,\n",
    "    'objective': 'binary:logistic',\n",
    "    'scale_pos_weight': 4.260162886376033,\n",
    "    'subsample': 0.7119282378433924,\n",
    "    'tree_method': 'hist',\n",
    "}\n",
    "\n",
    "xgb_params4 = {\n",
    "    'n_estimators': 10000,\n",
    "    'colsample_bytree': 0.8757972257439255,\n",
    "    'gamma': 0.11135738771999848,\n",
    "    'max_depth': 7,\n",
    "    'min_child_weight': 3,\n",
    "    'reg_alpha': 0.4833998914998038,\n",
    "    'reg_lambda': 0.006223568555619563,\n",
    "    'scale_pos_weight': 8,\n",
    "    'subsample': 0.7056434340275685,\n",
    "    'random_state': random_state,\n",
    "    'tree_method': 'hist',\n",
    "    'early_stopping_rounds': 100,\n",
    "}\n",
    "\n",
    "xgb_params5 = {\n",
    "    'n_estimators': 10000,\n",
    "    'max_depth': 5,\n",
    "    'min_child_weight': 2.934487833919741,\n",
    "    'learning_rate': 0.11341944575807082,\n",
    "    'subsample': 0.9045063514419968,\n",
    "    'gamma': 0.4329153382843715,\n",
    "    'colsample_bytree': 0.38872702868412506,\n",
    "    'colsample_bylevel': 0.8321880031718571,\n",
    "    'colsample_bynode': 0.802355707802605,\n",
    "    'random_state': random_state,\n",
    "    'tree_method': 'hist',\n",
    "    'early_stopping_rounds': 100,\n",
    "}\n",
    "\n",
    "xgb_base = {\n",
    "    'n_estimators': 1000,\n",
    "    'verbosity': 0,\n",
    "    'random_state': random_state,\n",
    "}\n",
    "\n",
    "xgb_params6 = {\n",
    "    'objective': 'binary:logistic',\n",
    "    'colsample_bytree': 0.7,\n",
    "    'gamma': 2,\n",
    "    'learning_rate': 0.01,\n",
    "    'max_depth': 7,\n",
    "    'min_child_weight': 10,\n",
    "    'n_estimators': 10000,\n",
    "    'subsample':0.7,\n",
    "    'random_state': random_state,\n",
    "    'tree_method': 'hist',\n",
    "    'early_stopping_rounds': 100,\n",
    "}\n",
    "\n",
    "cat_params0 = {\n",
    "    'iterations': 10000,\n",
    "    'eval_metric': 'AUC',\n",
    "    'loss_function': 'Logloss',\n",
    "    'task_type': 'GPU' if torch.cuda.is_available() else 'CPU',\n",
    "    'early_stopping_rounds': 100,\n",
    "    'auto_class_weights': 'Balanced'\n",
    "}\n"
   ]
  },
  {
   "cell_type": "markdown",
   "metadata": {},
   "source": [
    "## class initialization"
   ]
  },
  {
   "cell_type": "code",
   "execution_count": 20,
   "metadata": {
    "ExecuteTime": {
     "end_time": "2023-10-23T05:22:39.365244Z",
     "start_time": "2023-10-23T05:22:39.288956Z"
    }
   },
   "outputs": [],
   "source": [
    "from abc import ABCMeta\n",
    "from sklearn.ensemble import RandomForestClassifier, ExtraTreesClassifier, HistGradientBoostingClassifier\n",
    "from xgboost.sklearn import XGBClassifier\n",
    "from catboost import CatBoostClassifier\n",
    "from lightgbm import LGBMClassifier\n",
    "\n",
    "class BaseModel(metaclass=ABCMeta):\n",
    "    def __init__(self):\n",
    "        pass\n",
    "\n",
    "    def train(self, trn_x, trn_y, val_x, val_y):\n",
    "        pass\n",
    "\n",
    "    def predict(self, X):\n",
    "        pass\n",
    "\n",
    "\n",
    "class RandomForestModel(BaseModel):\n",
    "    def __init__(self):\n",
    "        super().__init__()\n",
    "        self.model = None\n",
    "\n",
    "    def train(self, trn_x, trn_y, val_x, val_y):\n",
    "        self.model = RandomForestClassifier(n_estimators = 1000,\n",
    "                                            class_weight='balanced',\n",
    "                                           max_depth = 7,\n",
    "                                           min_samples_split = 15,\n",
    "                                           min_samples_leaf = 10)\n",
    "        self.model.fit(trn_x, trn_y)\n",
    "\n",
    "    def predict(self, X):\n",
    "        return self.model.predict_proba(X)[:, 1]\n",
    "\n",
    "class HistGradientBoostingModel(BaseModel):\n",
    "    def __init__(self):\n",
    "        super().__init__()\n",
    "        self.model = None\n",
    "\n",
    "    def train(self, trn_x, trn_y, val_x, val_y):\n",
    "        self.model = HistGradientBoostingClassifier(l2_regularization = 0.01,\n",
    "                                             early_stopping = True,\n",
    "                                             learning_rate = 0.01,\n",
    "                                             max_iter = 1000,\n",
    "                                             max_depth = 5,\n",
    "                                             max_bins = 255,\n",
    "                                             min_samples_leaf = 15,\n",
    "                                             max_leaf_nodes = 10)\n",
    "        self.model.fit(trn_x, trn_y)\n",
    "\n",
    "    def predict(self, X):\n",
    "        return self.model.predict_proba(X)[:, 1]\n",
    "\n",
    "class LGBMModel(BaseModel):\n",
    "    def __init__(self, **config):\n",
    "        super().__init__()\n",
    "        self.config = config\n",
    "        self.model = LGBMClassifier(**self.config)\n",
    "\n",
    "    def train(self, trn_x, trn_y, val_x, val_y):\n",
    "        self.model.fit(trn_x, trn_y, eval_set=[(val_x, val_y)])\n",
    "\n",
    "    def predict(self, X):\n",
    "        return self.model.predict_proba(X)[:, 1]\n",
    "\n",
    "\n",
    "class XGBModel(BaseModel):\n",
    "    def __init__(self, **config):\n",
    "        super().__init__()\n",
    "        self.config = config\n",
    "        self.model = XGBClassifier(**self.config)\n",
    "\n",
    "    def train(self, trn_x, trn_y, val_x, val_y):\n",
    "        self.model.fit(trn_x, trn_y, eval_set=[(val_x, val_y)], verbose=0)\n",
    "\n",
    "\n",
    "    def predict(self, X):\n",
    "        return self.model.predict_proba(X)[:, 1]\n",
    "\n",
    "class CatBoostModel(BaseModel):\n",
    "    def __init__(self, **config):\n",
    "        super().__init__()\n",
    "        self.config = config\n",
    "        self.model = CatBoostClassifier(**self.config)\n",
    "\n",
    "    def train(self, trn_x, trn_y, val_x, val_y):\n",
    "        self.model.fit(trn_x, trn_y, eval_set=(val_x, val_y), verbose=0)\n",
    "\n",
    "    def predict(self, X):\n",
    "        return self.model.predict_proba(X)[:, 1]\n"
   ]
  },
  {
   "cell_type": "code",
   "execution_count": 21,
   "metadata": {
    "ExecuteTime": {
     "end_time": "2023-10-23T05:22:39.374748Z",
     "start_time": "2023-10-23T05:22:39.368256Z"
    }
   },
   "outputs": [],
   "source": [
    "from sklearn.model_selection import RepeatedStratifiedKFold\n",
    "\n",
    "def train(X_train, y_train, X_test, models, n_folds=10):\n",
    "\n",
    "    valid_preds, test_preds = dict(), dict()\n",
    "    hill_ens_preds =  list()\n",
    "\n",
    "    sk = RepeatedStratifiedKFold(n_splits = n_folds, n_repeats = 1, random_state = 42)\n",
    "    for i, (trn_idx, val_idx) in enumerate(sk.split(X_train, y_train)):\n",
    "\n",
    "        trn_x, trn_y = X_train.iloc[trn_idx], y_train.iloc[trn_idx]\n",
    "        val_x, val_y = X_train.iloc[val_idx], y_train.iloc[val_idx]\n",
    "\n",
    "        print('----------------------------------------------------------')\n",
    "        ens_pred_1 = np.zeros((val_x.shape[0], ))\n",
    "        ens_pred_2 = np.zeros((X_test.shape[0], ))\n",
    "\n",
    "        for idx, model in enumerate(models):\n",
    "            print(\"model\", model)\n",
    "            model.train(trn_x, trn_y, val_x, val_y)\n",
    "\n",
    "            ens_pred_1 = model.predict(val_x)\n",
    "            ens_pred_2 = model.predict(X_test)\n",
    "            \n",
    "            print(f\"ROC: {roc_auc_score(val_y, ens_pred_1)}\")\n",
    "            \n",
    "            valid_preds[f'model_{idx}'] = ens_pred_1\n",
    "            test_preds[f'model_{idx}'] = ens_pred_2\n",
    "\n",
    "        ens_pred_1 = np.mean(list(valid_preds.values()), axis=0)\n",
    "        ens_pred_2 = np.mean(list(test_preds.values()), axis=0)\n",
    "\n",
    "\n",
    "        ens_score_fold = roc_auc_score(val_y, ens_pred_1)\n",
    "        print('Fold', i, '==> Average Ensemble oof ROC-AUC score is ==>', ens_score_fold)\n",
    "\n",
    "        ############################\n",
    "        ## Hill Climbing Ensemble ##\n",
    "        ############################\n",
    "\n",
    "        x = pd.DataFrame(valid_preds)\n",
    "        y = val_y\n",
    "        x_test = pd.DataFrame(test_preds)\n",
    "\n",
    "        hill_results = hill_climbing(x, y, x_test)\n",
    "        hill_ens_score_fold = roc_auc_score(y, hill_results[0])\n",
    "\n",
    "        # test preds\n",
    "        hill_ens_preds.append(hill_results[1])\n",
    "\n",
    "        print('Fold', i, '==> Hill Climbing Ensemble oof ROC-AUC score is ==>', hill_ens_score_fold)\n",
    "        \n",
    "    return hill_ens_preds"
   ]
  },
  {
   "cell_type": "code",
   "execution_count": 22,
   "metadata": {
    "ExecuteTime": {
     "end_time": "2023-10-23T05:22:39.374926Z",
     "start_time": "2023-10-23T05:22:39.370458Z"
    }
   },
   "outputs": [],
   "source": [
    "# X_train, X_test, y_train = df_train[feat_list], df_test[feat_list], df_train[target]\n"
   ]
  },
  {
   "cell_type": "code",
   "execution_count": 23,
   "metadata": {
    "ExecuteTime": {
     "end_time": "2023-10-23T05:22:39.376264Z",
     "start_time": "2023-10-23T05:22:39.373704Z"
    }
   },
   "outputs": [],
   "source": [
    "models_v1 = [\n",
    "    LGBMModel(**lgb_params0), \n",
    "    LGBMModel(**lgb_params1),\n",
    "    LGBMModel(**lgb_params2),\n",
    "    XGBModel(**xgb_optuna0), \n",
    "    XGBModel(**xgb_params3),\n",
    "    XGBModel(**xgb_params6),\n",
    "    HistGradientBoostingModel(), \n",
    "    CatBoostModel(**cat_params0)\n",
    "]"
   ]
  },
  {
   "cell_type": "code",
   "execution_count": 24,
   "metadata": {
    "ExecuteTime": {
     "end_time": "2023-10-23T05:41:41.213511Z",
     "start_time": "2023-10-23T05:22:39.376733Z"
    }
   },
   "outputs": [
    {
     "name": "stdout",
     "output_type": "stream",
     "text": [
      "----------------------------------------------------------\n",
      "model <__main__.LGBMModel object at 0x284c1ee80>\n",
      "ROC: 0.7793959836102188\n",
      "model <__main__.LGBMModel object at 0x284c1eb50>\n",
      "ROC: 0.7803266161717859\n",
      "model <__main__.LGBMModel object at 0x284c1eaf0>\n",
      "ROC: 0.7775647732720546\n",
      "model <__main__.XGBModel object at 0x112025d90>\n",
      "ROC: 0.7794246410490006\n",
      "model <__main__.XGBModel object at 0x112025ca0>\n",
      "ROC: 0.7736705352314315\n",
      "model <__main__.XGBModel object at 0x284c2bac0>\n",
      "ROC: 0.779917264790045\n",
      "model <__main__.HistGradientBoostingModel object at 0x284c2b2e0>\n",
      "ROC: 0.778780701294421\n",
      "model <__main__.CatBoostModel object at 0x284c2ba90>\n",
      "ROC: 0.7801875920679431\n",
      "Fold 0 ==> Average Ensemble oof ROC-AUC score is ==> 0.7805186683792922\n",
      "Fold 0 ==> Hill Climbing Ensemble oof ROC-AUC score is ==> 0.7808266055851122\n",
      "----------------------------------------------------------\n",
      "model <__main__.LGBMModel object at 0x284c1ee80>\n",
      "ROC: 0.7857025148489348\n",
      "model <__main__.LGBMModel object at 0x284c1eb50>\n",
      "ROC: 0.7863600491240605\n",
      "model <__main__.LGBMModel object at 0x284c1eaf0>\n",
      "ROC: 0.7842381907786804\n",
      "model <__main__.XGBModel object at 0x112025d90>\n",
      "ROC: 0.786660999598938\n",
      "model <__main__.XGBModel object at 0x112025ca0>\n",
      "ROC: 0.7783509581318608\n",
      "model <__main__.XGBModel object at 0x284c2bac0>\n",
      "ROC: 0.7861904018232383\n",
      "model <__main__.HistGradientBoostingModel object at 0x284c2b2e0>\n",
      "ROC: 0.7855792878621726\n",
      "model <__main__.CatBoostModel object at 0x284c2ba90>\n",
      "ROC: 0.7859389742446361\n",
      "Fold 1 ==> Average Ensemble oof ROC-AUC score is ==> 0.7861845756001471\n",
      "Fold 1 ==> Hill Climbing Ensemble oof ROC-AUC score is ==> 0.7874889390575645\n",
      "----------------------------------------------------------\n",
      "model <__main__.LGBMModel object at 0x284c1ee80>\n",
      "ROC: 0.780230980851289\n",
      "model <__main__.LGBMModel object at 0x284c1eb50>\n",
      "ROC: 0.7800442101386986\n",
      "model <__main__.LGBMModel object at 0x284c1eaf0>\n",
      "ROC: 0.7773715131890298\n",
      "model <__main__.XGBModel object at 0x112025d90>\n",
      "ROC: 0.7806616239995299\n",
      "model <__main__.XGBModel object at 0x112025ca0>\n",
      "ROC: 0.7735968074571108\n",
      "model <__main__.XGBModel object at 0x284c2bac0>\n",
      "ROC: 0.7810380548524221\n",
      "model <__main__.HistGradientBoostingModel object at 0x284c2b2e0>\n",
      "ROC: 0.779195097332741\n",
      "model <__main__.CatBoostModel object at 0x284c2ba90>\n",
      "ROC: 0.7801969471822562\n",
      "Fold 2 ==> Average Ensemble oof ROC-AUC score is ==> 0.7806310955378851\n",
      "Fold 2 ==> Hill Climbing Ensemble oof ROC-AUC score is ==> 0.7811337138567527\n",
      "----------------------------------------------------------\n",
      "model <__main__.LGBMModel object at 0x284c1ee80>\n",
      "ROC: 0.7884297319837906\n",
      "model <__main__.LGBMModel object at 0x284c1eb50>\n",
      "ROC: 0.7883684382221645\n",
      "model <__main__.LGBMModel object at 0x284c1eaf0>\n",
      "ROC: 0.7871796518732231\n",
      "model <__main__.XGBModel object at 0x112025d90>\n",
      "ROC: 0.7881581968303735\n",
      "model <__main__.XGBModel object at 0x112025ca0>\n",
      "ROC: 0.7791805554588466\n",
      "model <__main__.XGBModel object at 0x284c2bac0>\n",
      "ROC: 0.7883014603404495\n",
      "model <__main__.HistGradientBoostingModel object at 0x284c2b2e0>\n",
      "ROC: 0.7875904953364874\n",
      "model <__main__.CatBoostModel object at 0x284c2ba90>\n",
      "ROC: 0.7890488984483158\n",
      "Fold 3 ==> Average Ensemble oof ROC-AUC score is ==> 0.7887482084956091\n",
      "Fold 3 ==> Hill Climbing Ensemble oof ROC-AUC score is ==> 0.78970399328857\n",
      "----------------------------------------------------------\n",
      "model <__main__.LGBMModel object at 0x284c1ee80>\n",
      "ROC: 0.7835038444249653\n",
      "model <__main__.LGBMModel object at 0x284c1eb50>\n",
      "ROC: 0.7838527517333296\n",
      "model <__main__.LGBMModel object at 0x284c1eaf0>\n",
      "ROC: 0.781607836714981\n",
      "model <__main__.XGBModel object at 0x112025d90>\n",
      "ROC: 0.7836768054022204\n",
      "model <__main__.XGBModel object at 0x112025ca0>\n",
      "ROC: 0.7770376627503562\n",
      "model <__main__.XGBModel object at 0x284c2bac0>\n",
      "ROC: 0.7836709057743663\n",
      "model <__main__.HistGradientBoostingModel object at 0x284c2b2e0>\n",
      "ROC: 0.7815550243837069\n",
      "model <__main__.CatBoostModel object at 0x284c2ba90>\n",
      "ROC: 0.7834928507409317\n",
      "Fold 4 ==> Average Ensemble oof ROC-AUC score is ==> 0.7838486527951014\n",
      "Fold 4 ==> Hill Climbing Ensemble oof ROC-AUC score is ==> 0.784352703730735\n",
      "----------------------------------------------------------\n",
      "model <__main__.LGBMModel object at 0x284c1ee80>\n",
      "ROC: 0.795943885014405\n",
      "model <__main__.LGBMModel object at 0x284c1eb50>\n",
      "ROC: 0.7961801781412771\n",
      "model <__main__.LGBMModel object at 0x284c1eaf0>\n",
      "ROC: 0.7938121054298091\n",
      "model <__main__.XGBModel object at 0x112025d90>\n",
      "ROC: 0.7966185749854072\n",
      "model <__main__.XGBModel object at 0x112025ca0>\n",
      "ROC: 0.7922552907815211\n",
      "model <__main__.XGBModel object at 0x284c2bac0>\n",
      "ROC: 0.7970690790979454\n",
      "model <__main__.HistGradientBoostingModel object at 0x284c2b2e0>\n",
      "ROC: 0.7951759856619613\n",
      "model <__main__.CatBoostModel object at 0x284c2ba90>\n",
      "ROC: 0.796180130754708\n",
      "Fold 5 ==> Average Ensemble oof ROC-AUC score is ==> 0.7973113429325255\n",
      "Fold 5 ==> Hill Climbing Ensemble oof ROC-AUC score is ==> 0.7975010313686767\n",
      "----------------------------------------------------------\n",
      "model <__main__.LGBMModel object at 0x284c1ee80>\n",
      "ROC: 0.7931697659854071\n",
      "model <__main__.LGBMModel object at 0x284c1eb50>\n",
      "ROC: 0.793836900384387\n",
      "model <__main__.LGBMModel object at 0x284c1eaf0>\n",
      "ROC: 0.7929651370461994\n",
      "model <__main__.XGBModel object at 0x112025d90>\n",
      "ROC: 0.7942250297741147\n",
      "model <__main__.XGBModel object at 0x112025ca0>\n",
      "ROC: 0.790515274570869\n",
      "model <__main__.XGBModel object at 0x284c2bac0>\n",
      "ROC: 0.7939793518765036\n",
      "model <__main__.HistGradientBoostingModel object at 0x284c2b2e0>\n",
      "ROC: 0.79220465357332\n",
      "model <__main__.CatBoostModel object at 0x284c2ba90>\n",
      "ROC: 0.7933158178477934\n",
      "Fold 6 ==> Average Ensemble oof ROC-AUC score is ==> 0.7945746446766156\n",
      "Fold 6 ==> Hill Climbing Ensemble oof ROC-AUC score is ==> 0.7948444355803749\n",
      "----------------------------------------------------------\n",
      "model <__main__.LGBMModel object at 0x284c1ee80>\n",
      "ROC: 0.7854883760150911\n",
      "model <__main__.LGBMModel object at 0x284c1eb50>\n",
      "ROC: 0.7861402799003643\n",
      "model <__main__.LGBMModel object at 0x284c1eaf0>\n",
      "ROC: 0.784015777201508\n",
      "model <__main__.XGBModel object at 0x112025d90>\n",
      "ROC: 0.7860617112938878\n",
      "model <__main__.XGBModel object at 0x112025ca0>\n",
      "ROC: 0.7791054169465639\n",
      "model <__main__.XGBModel object at 0x284c2bac0>\n",
      "ROC: 0.7867995266460561\n",
      "model <__main__.HistGradientBoostingModel object at 0x284c2b2e0>\n",
      "ROC: 0.7845537483170637\n",
      "model <__main__.CatBoostModel object at 0x284c2ba90>\n",
      "ROC: 0.7861813762320609\n",
      "Fold 7 ==> Average Ensemble oof ROC-AUC score is ==> 0.7863839918063152\n",
      "Fold 7 ==> Hill Climbing Ensemble oof ROC-AUC score is ==> 0.787249786109582\n",
      "----------------------------------------------------------\n",
      "model <__main__.LGBMModel object at 0x284c1ee80>\n",
      "ROC: 0.7817705673520319\n",
      "model <__main__.LGBMModel object at 0x284c1eb50>\n",
      "ROC: 0.7821360049344022\n",
      "model <__main__.LGBMModel object at 0x284c1eaf0>\n",
      "ROC: 0.780578844792775\n",
      "model <__main__.XGBModel object at 0x112025d90>\n",
      "ROC: 0.7826401988920335\n",
      "model <__main__.XGBModel object at 0x112025ca0>\n",
      "ROC: 0.7753783231180722\n",
      "model <__main__.XGBModel object at 0x284c2bac0>\n",
      "ROC: 0.7823174209600292\n",
      "model <__main__.HistGradientBoostingModel object at 0x284c2b2e0>\n",
      "ROC: 0.7813557431116864\n",
      "model <__main__.CatBoostModel object at 0x284c2ba90>\n",
      "ROC: 0.781995282567481\n",
      "Fold 8 ==> Average Ensemble oof ROC-AUC score is ==> 0.7826540555802424\n",
      "Fold 8 ==> Hill Climbing Ensemble oof ROC-AUC score is ==> 0.7829844842990695\n",
      "----------------------------------------------------------\n",
      "model <__main__.LGBMModel object at 0x284c1ee80>\n",
      "ROC: 0.7932357569825865\n",
      "model <__main__.LGBMModel object at 0x284c1eb50>\n",
      "ROC: 0.7937249572929763\n",
      "model <__main__.LGBMModel object at 0x284c1eaf0>\n",
      "ROC: 0.7906398663315165\n",
      "model <__main__.XGBModel object at 0x112025d90>\n",
      "ROC: 0.7942690158766854\n",
      "model <__main__.XGBModel object at 0x112025ca0>\n",
      "ROC: 0.7912084405943642\n",
      "model <__main__.XGBModel object at 0x284c2bac0>\n",
      "ROC: 0.7947147275040813\n",
      "model <__main__.HistGradientBoostingModel object at 0x284c2b2e0>\n",
      "ROC: 0.7926350399404233\n",
      "model <__main__.CatBoostModel object at 0x284c2ba90>\n",
      "ROC: 0.7945957731653035\n",
      "Fold 9 ==> Average Ensemble oof ROC-AUC score is ==> 0.7951285332186268\n",
      "Fold 9 ==> Hill Climbing Ensemble oof ROC-AUC score is ==> 0.7956632829502571\n"
     ]
    }
   ],
   "source": [
    "hill_ens_preds = train(X_train, y_train, X_test, models_v1, n_folds=10)\n"
   ]
  },
  {
   "cell_type": "code",
   "execution_count": 27,
   "metadata": {
    "ExecuteTime": {
     "end_time": "2023-10-23T05:45:02.578183Z",
     "start_time": "2023-10-23T05:45:02.475200Z"
    }
   },
   "outputs": [],
   "source": [
    "# hill climbing\n",
    "# 캐글 제출용\n",
    "# submission = pd.read_csv('/kaggle/input/playground-series-s3e23/sample_submission.csv')\n",
    "\n",
    "# 로컬\n",
    "submission = pd.read_csv('./playground-series-s3e23/sample_submission.csv')\n",
    "\n",
    "submission['defects'] = np.mean(hill_ens_preds, axis=0)\n",
    "submission.to_csv('submission.csv', index=False)\n"
   ]
  },
  {
   "cell_type": "code",
   "execution_count": 28,
   "outputs": [
    {
     "data": {
      "text/plain": "           id   defects\n0      101763  0.283886\n1      101764  0.240810\n2      101765  0.656890\n3      101766  0.509697\n4      101767  0.187556\n...       ...       ...\n67837  169600  0.318364\n67838  169601  0.164856\n67839  169602  0.243290\n67840  169603  0.133981\n67841  169604  0.811308\n\n[67842 rows x 2 columns]",
      "text/html": "<div>\n<style scoped>\n    .dataframe tbody tr th:only-of-type {\n        vertical-align: middle;\n    }\n\n    .dataframe tbody tr th {\n        vertical-align: top;\n    }\n\n    .dataframe thead th {\n        text-align: right;\n    }\n</style>\n<table border=\"1\" class=\"dataframe\">\n  <thead>\n    <tr style=\"text-align: right;\">\n      <th></th>\n      <th>id</th>\n      <th>defects</th>\n    </tr>\n  </thead>\n  <tbody>\n    <tr>\n      <th>0</th>\n      <td>101763</td>\n      <td>0.283886</td>\n    </tr>\n    <tr>\n      <th>1</th>\n      <td>101764</td>\n      <td>0.240810</td>\n    </tr>\n    <tr>\n      <th>2</th>\n      <td>101765</td>\n      <td>0.656890</td>\n    </tr>\n    <tr>\n      <th>3</th>\n      <td>101766</td>\n      <td>0.509697</td>\n    </tr>\n    <tr>\n      <th>4</th>\n      <td>101767</td>\n      <td>0.187556</td>\n    </tr>\n    <tr>\n      <th>...</th>\n      <td>...</td>\n      <td>...</td>\n    </tr>\n    <tr>\n      <th>67837</th>\n      <td>169600</td>\n      <td>0.318364</td>\n    </tr>\n    <tr>\n      <th>67838</th>\n      <td>169601</td>\n      <td>0.164856</td>\n    </tr>\n    <tr>\n      <th>67839</th>\n      <td>169602</td>\n      <td>0.243290</td>\n    </tr>\n    <tr>\n      <th>67840</th>\n      <td>169603</td>\n      <td>0.133981</td>\n    </tr>\n    <tr>\n      <th>67841</th>\n      <td>169604</td>\n      <td>0.811308</td>\n    </tr>\n  </tbody>\n</table>\n<p>67842 rows × 2 columns</p>\n</div>"
     },
     "execution_count": 28,
     "metadata": {},
     "output_type": "execute_result"
    }
   ],
   "source": [],
   "metadata": {
    "collapsed": false,
    "ExecuteTime": {
     "end_time": "2023-10-23T05:45:05.803769Z",
     "start_time": "2023-10-23T05:45:05.795838Z"
    }
   }
  }
 ],
 "metadata": {
  "kernelspec": {
   "display_name": "42AI-sucho",
   "language": "python",
   "name": "python3"
  },
  "language_info": {
   "codemirror_mode": {
    "name": "ipython",
    "version": 3
   },
   "file_extension": ".py",
   "mimetype": "text/x-python",
   "name": "python",
   "nbconvert_exporter": "python",
   "pygments_lexer": "ipython3",
   "version": "3.11.5"
  }
 },
 "nbformat": 4,
 "nbformat_minor": 2
}
